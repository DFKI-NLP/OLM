{
 "cells": [
  {
   "cell_type": "code",
   "execution_count": 1,
   "metadata": {},
   "outputs": [],
   "source": [
    "%load_ext autoreload\n",
    "%autoreload 2"
   ]
  },
  {
   "cell_type": "code",
   "execution_count": 2,
   "metadata": {},
   "outputs": [],
   "source": [
    "import sys\n",
    "sys.path.append(\"../\")\n",
    "sys.path.append(\"../experiments/\")"
   ]
  },
  {
   "cell_type": "code",
   "execution_count": 3,
   "metadata": {},
   "outputs": [],
   "source": [
    "import os\n",
    "from pathlib import Path\n",
    "\n",
    "import dill\n",
    "import numpy as np\n",
    "from typing import List, Tuple, Dict, Any"
   ]
  },
  {
   "cell_type": "code",
   "execution_count": 4,
   "metadata": {},
   "outputs": [],
   "source": [
    "from olm import InputInstance, Config\n",
    "from segtok.tokenizer import web_tokenizer"
   ]
  },
  {
   "cell_type": "code",
   "execution_count": 5,
   "metadata": {},
   "outputs": [],
   "source": [
    "RESULTS_DIR = \"/raid/calt/xbert/\"\n",
    "DATASET_DIR = \"../data/glue_data/\"\n",
    "\n",
    "STRATEGY_NAME_MAPPING = {\n",
    "    \"resampling\": \"OLM\"\n",
    "}"
   ]
  },
  {
   "cell_type": "code",
   "execution_count": 6,
   "metadata": {},
   "outputs": [],
   "source": [
    "def experiment_load_candidates(experiment_dir: str,\n",
    "                               candidates_filename: str = \"resampling/candidate_instances.pkl\"):\n",
    "    path = Path(experiment_dir)\n",
    "    \n",
    "    candidate_instances = {}\n",
    "    with open(f\"{path}/{candidates_filename}\", \"rb\") as f:\n",
    "        candidates = dill.load(f)\n",
    "            \n",
    "    return candidates"
   ]
  },
  {
   "cell_type": "code",
   "execution_count": 7,
   "metadata": {},
   "outputs": [],
   "source": [
    "SST2_RESULTS_PATH = os.path.join(RESULTS_DIR, \"sst2\")\n",
    "SST2_DATA_PATH = os.path.join(DATASET_DIR, \"SST-2/dev.tsv\")"
   ]
  },
  {
   "cell_type": "code",
   "execution_count": 8,
   "metadata": {},
   "outputs": [],
   "source": [
    "sst2_experiment_candidates = experiment_load_candidates(SST2_RESULTS_PATH)"
   ]
  },
  {
   "cell_type": "code",
   "execution_count": 9,
   "metadata": {},
   "outputs": [],
   "source": [
    "instance_list = [(instance, '%.2g'%score) for (instance, score) in zip(sst2_experiment_candidates[0], sst2_experiment_candidates[1]) if instance.id == 137 and instance.weight>1]"
   ]
  },
  {
   "cell_type": "code",
   "execution_count": 10,
   "metadata": {},
   "outputs": [
    {
     "data": {
      "text/plain": [
       "[(OccludedInstance(id=137, token_fields={'sent': OccludedTokenField(['old', ',', 'familiar', 'and', 'thoroughly', 'condescending', '.'])}), weight=2.0),\n",
       "  '1'),\n",
       " (OccludedInstance(id=137, token_fields={'sent': OccludedTokenField(['young', ',', 'familiar', 'and', 'thoroughly', 'condescending', '.'])}), weight=2.0),\n",
       "  '0.99'),\n",
       " (OccludedInstance(id=137, token_fields={'sent': OccludedTokenField(['real', ',', 'familiar', 'and', 'thoroughly', 'condescending', '.'])}), weight=2.0),\n",
       "  '0.0065'),\n",
       " (OccludedInstance(id=137, token_fields={'sent': OccludedTokenField(['low', ',', 'familiar', 'and', 'thoroughly', 'condescending', '.'])}), weight=2.0),\n",
       "  '1'),\n",
       " (OccludedInstance(id=137, token_fields={'sent': OccludedTokenField(['yes', ',', 'familiar', 'and', 'thoroughly', 'condescending', '.'])}), weight=2.0),\n",
       "  '1'),\n",
       " (OccludedInstance(id=137, token_fields={'sent': OccludedTokenField(['cold', ',', 'familiar', 'and', 'thoroughly', 'condescending', '.'])}), weight=3.0),\n",
       "  '1'),\n",
       " (OccludedInstance(id=137, token_fields={'sent': OccludedTokenField(['beautiful', ',', 'familiar', 'and', 'thoroughly', 'condescending', '.'])}), weight=2.0),\n",
       "  '0.00014'),\n",
       " (OccludedInstance(id=137, token_fields={'sent': OccludedTokenField(['ancient', ',', 'familiar', 'and', 'thoroughly', 'condescending', '.'])}), weight=3.0),\n",
       "  '0.074'),\n",
       " (OccludedInstance(id=137, token_fields={'sent': OccludedTokenField(['perfect', ',', 'familiar', 'and', 'thoroughly', 'condescending', '.'])}), weight=2.0),\n",
       "  '0.00039'),\n",
       " (OccludedInstance(id=137, token_fields={'sent': OccludedTokenField(['nice', ',', 'familiar', 'and', 'thoroughly', 'condescending', '.'])}), weight=2.0),\n",
       "  '0.00083'),\n",
       " (OccludedInstance(id=137, token_fields={'sent': OccludedTokenField(['warm', ',', 'familiar', 'and', 'thoroughly', 'condescending', '.'])}), weight=4.0),\n",
       "  '0.0007'),\n",
       " (OccludedInstance(id=137, token_fields={'sent': OccludedTokenField(['sweet', ',', 'familiar', 'and', 'thoroughly', 'condescending', '.'])}), weight=2.0),\n",
       "  '0.00019'),\n",
       " (OccludedInstance(id=137, token_fields={'sent': OccludedTokenField(['quiet', ',', 'familiar', 'and', 'thoroughly', 'condescending', '.'])}), weight=2.0),\n",
       "  '1'),\n",
       " (OccludedInstance(id=137, token_fields={'sent': OccludedTokenField(['familiar', ',', 'familiar', 'and', 'thoroughly', 'condescending', '.'])}), weight=9.0),\n",
       "  '1'),\n",
       " (OccludedInstance(id=137, token_fields={'sent': OccludedTokenField(['wonderful', ',', 'familiar', 'and', 'thoroughly', 'condescending', '.'])}), weight=2.0),\n",
       "  '0.00031'),\n",
       " (OccludedInstance(id=137, token_fields={'sent': OccludedTokenField(['bold', ',', 'familiar', 'and', 'thoroughly', 'condescending', '.'])}), weight=2.0),\n",
       "  '0.63'),\n",
       " (OccludedInstance(id=137, token_fields={'sent': OccludedTokenField(['forced', ',', 'familiar', 'and', 'thoroughly', 'condescending', '.'])}), weight=35.0),\n",
       "  '1'),\n",
       " (OccludedInstance(id=137, token_fields={'sent': OccludedTokenField(['forced', '-', 'familiar', 'and', 'thoroughly', 'condescending', '.'])}), weight=3.0),\n",
       "  '1'),\n",
       " (OccludedInstance(id=137, token_fields={'sent': OccludedTokenField(['forced', '.', 'familiar', 'and', 'thoroughly', 'condescending', '.'])}), weight=4.0),\n",
       "  '1'),\n",
       " (OccludedInstance(id=137, token_fields={'sent': OccludedTokenField(['forced', 'and', 'familiar', 'and', 'thoroughly', 'condescending', '.'])}), weight=40.0),\n",
       "  '1'),\n",
       " (OccludedInstance(id=137, token_fields={'sent': OccludedTokenField(['forced', 'to', 'familiar', 'and', 'thoroughly', 'condescending', '.'])}), weight=3.0),\n",
       "  '1'),\n",
       " (OccludedInstance(id=137, token_fields={'sent': OccludedTokenField(['forced', 'for', 'familiar', 'and', 'thoroughly', 'condescending', '.'])}), weight=2.0),\n",
       "  '1'),\n",
       " (OccludedInstance(id=137, token_fields={'sent': OccludedTokenField(['forced', 'but', 'familiar', 'and', 'thoroughly', 'condescending', '.'])}), weight=6.0),\n",
       "  '1'),\n",
       " (OccludedInstance(id=137, token_fields={'sent': OccludedTokenField(['forced', 'into', 'familiar', 'and', 'thoroughly', 'condescending', '.'])}), weight=3.0),\n",
       "  '1'),\n",
       " (OccludedInstance(id=137, token_fields={'sent': OccludedTokenField(['forced', ',', 'hard', 'and', 'thoroughly', 'condescending', '.'])}), weight=2.0),\n",
       "  '1'),\n",
       " (OccludedInstance(id=137, token_fields={'sent': OccludedTokenField(['forced', ',', 'forced', 'and', 'thoroughly', 'condescending', '.'])}), weight=2.0),\n",
       "  '1'),\n",
       " (OccludedInstance(id=137, token_fields={'sent': OccludedTokenField(['forced', ',', 'rough', 'and', 'thoroughly', 'condescending', '.'])}), weight=3.0),\n",
       "  '1'),\n",
       " (OccludedInstance(id=137, token_fields={'sent': OccludedTokenField(['forced', ',', 'harsh', 'and', 'thoroughly', 'condescending', '.'])}), weight=2.0),\n",
       "  '1'),\n",
       " (OccludedInstance(id=137, token_fields={'sent': OccludedTokenField(['forced', ',', 'bitter', 'and', 'thoroughly', 'condescending', '.'])}), weight=2.0),\n",
       "  '1'),\n",
       " (OccludedInstance(id=137, token_fields={'sent': OccludedTokenField(['forced', ',', 'cheap', 'and', 'thoroughly', 'condescending', '.'])}), weight=2.0),\n",
       "  '1'),\n",
       " (OccludedInstance(id=137, token_fields={'sent': OccludedTokenField(['forced', ',', 'biting', 'and', 'thoroughly', 'condescending', '.'])}), weight=3.0),\n",
       "  '0.99'),\n",
       " (OccludedInstance(id=137, token_fields={'sent': OccludedTokenField(['forced', ',', 'rude', 'and', 'thoroughly', 'condescending', '.'])}), weight=4.0),\n",
       "  '1'),\n",
       " (OccludedInstance(id=137, token_fields={'sent': OccludedTokenField(['forced', ',', 'arrogant', 'and', 'thoroughly', 'condescending', '.'])}), weight=5.0),\n",
       "  '1'),\n",
       " (OccludedInstance(id=137, token_fields={'sent': OccludedTokenField(['forced', ',', 'clumsy', 'and', 'thoroughly', 'condescending', '.'])}), weight=2.0),\n",
       "  '1'),\n",
       " (OccludedInstance(id=137, token_fields={'sent': OccludedTokenField(['forced', ',', 'irritating', 'and', 'thoroughly', 'condescending', '.'])}), weight=2.0),\n",
       "  '1'),\n",
       " (OccludedInstance(id=137, token_fields={'sent': OccludedTokenField(['forced', ',', 'familiar', ',', 'thoroughly', 'condescending', '.'])}), weight=87.0),\n",
       "  '1'),\n",
       " (OccludedInstance(id=137, token_fields={'sent': OccludedTokenField(['forced', ',', 'familiar', 'and', 'thoroughly', 'condescending', '.'])}), weight=12.0),\n",
       "  '1'),\n",
       " (OccludedInstance(id=137, token_fields={'sent': OccludedTokenField(['forced', ',', 'familiar', 'and', 'not', 'condescending', '.'])}), weight=7.0),\n",
       "  '0.00043'),\n",
       " (OccludedInstance(id=137, token_fields={'sent': OccludedTokenField(['forced', ',', 'familiar', 'and', 'also', 'condescending', '.'])}), weight=4.0),\n",
       "  '1'),\n",
       " (OccludedInstance(id=137, token_fields={'sent': OccludedTokenField(['forced', ',', 'familiar', 'and', 'even', 'condescending', '.'])}), weight=11.0),\n",
       "  '1'),\n",
       " (OccludedInstance(id=137, token_fields={'sent': OccludedTokenField(['forced', ',', 'familiar', 'and', '...', 'condescending', '.'])}), weight=7.0),\n",
       "  '1'),\n",
       " (OccludedInstance(id=137, token_fields={'sent': OccludedTokenField(['forced', ',', 'familiar', 'and', 'almost', 'condescending', '.'])}), weight=19.0),\n",
       "  '1'),\n",
       " (OccludedInstance(id=137, token_fields={'sent': OccludedTokenField(['forced', ',', 'familiar', 'and', 'yet', 'condescending', '.'])}), weight=3.0),\n",
       "  '1'),\n",
       " (OccludedInstance(id=137, token_fields={'sent': OccludedTokenField(['forced', ',', 'familiar', 'and', 'sometimes', 'condescending', '.'])}), weight=2.0),\n",
       "  '1'),\n",
       " (OccludedInstance(id=137, token_fields={'sent': OccludedTokenField(['forced', ',', 'familiar', 'and', 'mostly', 'condescending', '.'])}), weight=2.0),\n",
       "  '1'),\n",
       " (OccludedInstance(id=137, token_fields={'sent': OccludedTokenField(['forced', ',', 'familiar', 'and', 'completely', 'condescending', '.'])}), weight=3.0),\n",
       "  '1'),\n",
       " (OccludedInstance(id=137, token_fields={'sent': OccludedTokenField(['forced', ',', 'familiar', 'and', 'slightly', 'condescending', '.'])}), weight=14.0),\n",
       "  '1'),\n",
       " (OccludedInstance(id=137, token_fields={'sent': OccludedTokenField(['forced', ',', 'familiar', 'and', 'somehow', 'condescending', '.'])}), weight=4.0),\n",
       "  '1'),\n",
       " (OccludedInstance(id=137, token_fields={'sent': OccludedTokenField(['forced', ',', 'familiar', 'and', 'truly', 'condescending', '.'])}), weight=2.0),\n",
       "  '1'),\n",
       " (OccludedInstance(id=137, token_fields={'sent': OccludedTokenField(['forced', ',', 'familiar', 'and', 'mildly', 'condescending', '.'])}), weight=3.0),\n",
       "  '1'),\n",
       " (OccludedInstance(id=137, token_fields={'sent': OccludedTokenField(['forced', ',', 'familiar', 'and', 'thoroughly', 'wrong', '.'])}), weight=2.0),\n",
       "  '1'),\n",
       " (OccludedInstance(id=137, token_fields={'sent': OccludedTokenField(['forced', ',', 'familiar', 'and', 'thoroughly', 'beautiful', '.'])}), weight=2.0),\n",
       "  '5e-05'),\n",
       " (OccludedInstance(id=137, token_fields={'sent': OccludedTokenField(['forced', ',', 'familiar', 'and', 'thoroughly', 'sexual', '.'])}), weight=3.0),\n",
       "  '0.00079'),\n",
       " (OccludedInstance(id=137, token_fields={'sent': OccludedTokenField(['forced', ',', 'familiar', 'and', 'thoroughly', 'familiar', '.'])}), weight=7.0),\n",
       "  '0.00033'),\n",
       " (OccludedInstance(id=137, token_fields={'sent': OccludedTokenField(['forced', ',', 'familiar', 'and', 'thoroughly', 'romantic', '.'])}), weight=2.0),\n",
       "  '7.6e-05'),\n",
       " (OccludedInstance(id=137, token_fields={'sent': OccludedTokenField(['forced', ',', 'familiar', 'and', 'thoroughly', 'wonderful', '.'])}), weight=2.0),\n",
       "  '4.9e-05'),\n",
       " (OccludedInstance(id=137, token_fields={'sent': OccludedTokenField(['forced', ',', 'familiar', 'and', 'thoroughly', 'sexy', '.'])}), weight=4.0),\n",
       "  '5.4e-05'),\n",
       " (OccludedInstance(id=137, token_fields={'sent': OccludedTokenField(['forced', ',', 'familiar', 'and', 'thoroughly', 'unexpected', '.'])}), weight=3.0),\n",
       "  '0.00069'),\n",
       " (OccludedInstance(id=137, token_fields={'sent': OccludedTokenField(['forced', ',', 'familiar', 'and', 'thoroughly', 'delicious', '.'])}), weight=4.0),\n",
       "  '5.2e-05'),\n",
       " (OccludedInstance(id=137, token_fields={'sent': OccludedTokenField(['forced', ',', 'familiar', 'and', 'thoroughly', 'feminine', '.'])}), weight=2.0),\n",
       "  '0.00023'),\n",
       " (OccludedInstance(id=137, token_fields={'sent': OccludedTokenField(['forced', ',', 'familiar', 'and', 'thoroughly', 'erotic', '.'])}), weight=5.0),\n",
       "  '0.00011'),\n",
       " (OccludedInstance(id=137, token_fields={'sent': OccludedTokenField(['forced', ',', 'familiar', 'and', 'thoroughly', 'masculine', '.'])}), weight=7.0),\n",
       "  '0.00042'),\n",
       " (OccludedInstance(id=137, token_fields={'sent': OccludedTokenField(['forced', ',', 'familiar', 'and', 'thoroughly', 'unfamiliar', '.'])}), weight=2.0),\n",
       "  '1'),\n",
       " (OccludedInstance(id=137, token_fields={'sent': OccludedTokenField(['forced', ',', 'familiar', 'and', 'thoroughly', 'soothing', '.'])}), weight=2.0),\n",
       "  '5.3e-05'),\n",
       " (OccludedInstance(id=137, token_fields={'sent': OccludedTokenField(['forced', ',', 'familiar', 'and', 'thoroughly', 'spicy', '.'])}), weight=2.0),\n",
       "  '7.2e-05'),\n",
       " (OccludedInstance(id=137, token_fields={'sent': OccludedTokenField(['forced', ',', 'familiar', 'and', 'thoroughly', 'condescending', '.'])}), weight=99.0),\n",
       "  '1')]"
      ]
     },
     "execution_count": 10,
     "metadata": {},
     "output_type": "execute_result"
    }
   ],
   "source": [
    "instance_list"
   ]
  }
 ],
 "metadata": {
  "kernelspec": {
   "display_name": "Python [conda env:occlusion]",
   "language": "python",
   "name": "conda-env-occlusion-py"
  },
  "language_info": {
   "codemirror_mode": {
    "name": "ipython",
    "version": 3
   },
   "file_extension": ".py",
   "mimetype": "text/x-python",
   "name": "python",
   "nbconvert_exporter": "python",
   "pygments_lexer": "ipython3",
   "version": "3.7.6"
  }
 },
 "nbformat": 4,
 "nbformat_minor": 4
}
