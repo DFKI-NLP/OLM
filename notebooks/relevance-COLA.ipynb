{
 "cells": [
  {
   "cell_type": "code",
   "execution_count": 1,
   "metadata": {},
   "outputs": [],
   "source": [
    "%load_ext autoreload\n",
    "%autoreload 2"
   ]
  },
  {
   "cell_type": "code",
   "execution_count": 2,
   "metadata": {},
   "outputs": [],
   "source": [
    "import sys\n",
    "\n",
    "sys.path.append(\"../\")"
   ]
  },
  {
   "cell_type": "code",
   "execution_count": 3,
   "metadata": {},
   "outputs": [],
   "source": [
    "from IPython.core.display import HTML"
   ]
  },
  {
   "cell_type": "code",
   "execution_count": 4,
   "metadata": {},
   "outputs": [],
   "source": [
    "import os\n",
    "import numpy as np\n",
    "\n",
    "import torch\n",
    "import torch.nn.functional as F\n",
    "\n",
    "from xbert.engine import Engine, weight_of_evidence, difference_of_log_probabilities, calculate_correlation\n",
    "from xbert import InputInstance, Config\n",
    "from xbert.visualization import visualize_relevances\n",
    "from xbert.occlusion.explainer import GradxInputExplainer, IntegrateGradExplainer"
   ]
  },
  {
   "cell_type": "code",
   "execution_count": 5,
   "metadata": {},
   "outputs": [],
   "source": [
    "#import spacy\n",
    "from tqdm import tqdm\n",
    "from collections import defaultdict\n",
    "\n",
    "from segtok.tokenizer import web_tokenizer, space_tokenizer\n",
    "from transformers import RobertaTokenizer, RobertaForSequenceClassification  #, glue_convert_examples_to_features"
   ]
  },
  {
   "cell_type": "code",
   "execution_count": 6,
   "metadata": {},
   "outputs": [],
   "source": [
    "CUDA_DEVICE = 0 # or -1 if no GPU is available\n",
    "\n",
    "MODEL_NAME = \"../models/CoLA/\""
   ]
  },
  {
   "cell_type": "code",
   "execution_count": 8,
   "metadata": {},
   "outputs": [],
   "source": [
    "tokenizer = RobertaTokenizer.from_pretrained(MODEL_NAME)\n",
    "model = RobertaForSequenceClassification.from_pretrained(MODEL_NAME).to(CUDA_DEVICE)"
   ]
  },
  {
   "cell_type": "code",
   "execution_count": 9,
   "metadata": {},
   "outputs": [],
   "source": [
    "COLA_DATASET_PATH = \"../data/glue_data/CoLA/\""
   ]
  },
  {
   "cell_type": "code",
   "execution_count": 10,
   "metadata": {},
   "outputs": [],
   "source": [
    "def rindex(alist, value):\n",
    "    return len(alist) - alist[-1::-1].index(value) - 1\n",
    "\n",
    "\n",
    "def byte_pair_offsets(input_ids, tokenizer):\n",
    "    def get_offsets(tokens, start_offset):\n",
    "        offsets = [start_offset]\n",
    "        for t_idx, token in enumerate(tokens, start_offset):\n",
    "            if not token.startswith(\" \"):\n",
    "                continue\n",
    "            offsets.append(t_idx)\n",
    "        offsets.append(start_offset + len(tokens))\n",
    "        return offsets\n",
    "        \n",
    "    tokens = [tokenizer.convert_tokens_to_string(t)\n",
    "              for t in tokenizer.convert_ids_to_tokens(input_ids, skip_special_tokens=False)]\n",
    "    tokens = [token for token in tokens if token != \"<pad>\"]\n",
    "    tokens = tokens[1:-1]\n",
    "    \n",
    "    offsets = get_offsets(tokens, start_offset=1)\n",
    "    \n",
    "    return offsets"
   ]
  },
  {
   "cell_type": "code",
   "execution_count": 21,
   "metadata": {},
   "outputs": [],
   "source": [
    "from typing import List, Tuple\n",
    "\n",
    "\n",
    "def read_cola_dataset(path: str) -> List[Tuple[List[str], str]]:\n",
    "    dataset = []\n",
    "    with open(path) as fin:\n",
    "        fin.readline()\n",
    "        for index, line in enumerate(fin):\n",
    "            tokens = line.strip().split('\\t')\n",
    "            sent, target = tokens[3], tokens[1]\n",
    "            dataset.append((sent, target))\n",
    "            \n",
    "    return dataset\n",
    "\n",
    "\n",
    "def dataset_to_input_instances(dataset: List[Tuple[List[str], str]]) -> List[InputInstance]:\n",
    "    input_instances = []\n",
    "    for idx, (sent, _) in enumerate(dataset):\n",
    "        instance = InputInstance(id_=idx, sent=web_tokenizer(sent))\n",
    "        input_instances.append(instance)\n",
    "        \n",
    "    return input_instances\n",
    "\n",
    "\n",
    "def get_labels(dataset: List[Tuple[List[str], List[str], str]]) -> List[str]:\n",
    "    return [int(label) for _, label in dataset]"
   ]
  },
  {
   "cell_type": "code",
   "execution_count": 22,
   "metadata": {},
   "outputs": [],
   "source": [
    "def collate_tokens(values, pad_idx, eos_idx=None, left_pad=False, move_eos_to_beginning=False):\n",
    "    \"\"\"Convert a list of 1d tensors into a padded 2d tensor.\"\"\"\n",
    "    size = max(v.size(0) for v in values)\n",
    "    res = values[0].new(len(values), size).fill_(pad_idx)\n",
    "    \n",
    "    def copy_tensor(src, dst):\n",
    "        assert dst.numel() == src.numel()\n",
    "        if move_eos_to_beginning:\n",
    "            assert src[-1] == eos_idx\n",
    "            dst[0] = eos_idx\n",
    "            dst[1:] = src[:-1]\n",
    "        else:\n",
    "            dst.copy_(src)\n",
    "\n",
    "    for i, v in enumerate(values):\n",
    "        copy_tensor(v, res[i][size - len(v):] if left_pad else res[i][:len(v)])\n",
    "    return res"
   ]
  },
  {
   "cell_type": "code",
   "execution_count": 23,
   "metadata": {},
   "outputs": [],
   "source": [
    "def encode_instance(input_instance):\n",
    "    return tokenizer.encode(text=\" \".join(input_instance.sent.tokens),\n",
    "                            add_special_tokens=True,\n",
    "                            return_tensors=\"pt\")[0]"
   ]
  },
  {
   "cell_type": "code",
   "execution_count": 24,
   "metadata": {},
   "outputs": [],
   "source": [
    "#def predict(input_instance, model, tokenizer, cuda_device):\n",
    "#    input_ids = tokenizer.encode(text=input_instance.sent1.tokens,\n",
    "#                                 text_pair=input_instance.sent2.tokens,\n",
    "#                                 add_special_tokens=True,\n",
    "#                                 return_tensors=\"pt\").to(cuda_device)\n",
    "#    \n",
    "#    logits = model(input_ids)[0]\n",
    "#    return F.softmax(logits, dim=-1)\n",
    "\n",
    "def predict(input_instances, model, tokenizer, cuda_device):\n",
    "    if isinstance(input_instances, InputInstance):\n",
    "        input_instances = [input_instances]\n",
    "    \n",
    "    input_ids = [encode_instance(instance) for instance in input_instances]\n",
    "    attention_mask = [torch.ones_like(t) for t in input_ids]\n",
    "    \n",
    "    input_ids = collate_tokens(input_ids, pad_idx=1).to(cuda_device)\n",
    "    attention_mask = collate_tokens(attention_mask, pad_idx=0).to(cuda_device)\n",
    "    \n",
    "    logits = model(input_ids=input_ids, attention_mask=attention_mask)[0]\n",
    "    return F.softmax(logits, dim=-1)"
   ]
  },
  {
   "cell_type": "code",
   "execution_count": 25,
   "metadata": {},
   "outputs": [],
   "source": [
    "dataset = read_cola_dataset(os.path.join(COLA_DATASET_PATH, \"dev.tsv\"))\n",
    "input_instances = dataset_to_input_instances(dataset)\n",
    "labels = get_labels(dataset)"
   ]
  },
  {
   "cell_type": "code",
   "execution_count": 26,
   "metadata": {},
   "outputs": [
    {
     "name": "stderr",
     "output_type": "stream",
     "text": [
      "11it [00:01,  6.95it/s]                       "
     ]
    },
    {
     "name": "stdout",
     "output_type": "stream",
     "text": [
      "| Accuracy:  0.8262955854126679\n"
     ]
    },
    {
     "name": "stderr",
     "output_type": "stream",
     "text": [
      "\n"
     ]
    }
   ],
   "source": [
    "batch_size = 100\n",
    "\n",
    "ncorrect, nsamples = 0, 0\n",
    "for i in tqdm(range(0, len(input_instances), batch_size), total=len(input_instances) // batch_size):\n",
    "    batch_instances = input_instances[i: i + batch_size]\n",
    "    with torch.no_grad():\n",
    "        probs = predict(batch_instances, model, tokenizer, CUDA_DEVICE)\n",
    "        #print(probs)\n",
    "        predictions = probs.argmax(dim=-1).cpu().numpy().tolist()\n",
    "        #print(predictions)\n",
    "        for batch_idx, instance in enumerate(batch_instances):\n",
    "            # the instance id is also the position in the list of labels\n",
    "            idx = instance.id\n",
    "            true_label = labels[idx]\n",
    "            pred_label = predictions[batch_idx]\n",
    "            ncorrect += int(true_label == pred_label)\n",
    "            nsamples += 1\n",
    "print('| Accuracy: ', float(ncorrect)/float(nsamples))"
   ]
  },
  {
   "cell_type": "code",
   "execution_count": 29,
   "metadata": {},
   "outputs": [],
   "source": [
    "def batcher(batch_instances):\n",
    "    true_label_indices = []\n",
    "    probabilities = []\n",
    "    with torch.no_grad():\n",
    "        probs = predict(batch_instances, model, tokenizer, CUDA_DEVICE).cpu().numpy().tolist()\n",
    "        for batch_idx, instance in enumerate(batch_instances):\n",
    "            # the instance id is also the position in the list of labels\n",
    "            idx = instance.id\n",
    "            true_label_idx = labels[idx]\n",
    "            true_label_indices.append(true_label_idx)\n",
    "            probabilities.append(probs[batch_idx][true_label_idx])\n",
    "    \n",
    "    return probabilities\n",
    "    \n",
    "    \n",
    "def batcher_gradient(batch_instances):\n",
    "    input_ids = [encode_instance(instance) for instance in batch_instances]\n",
    "    attention_mask = [torch.ones_like(t) for t in input_ids]\n",
    "    \n",
    "    input_ids = collate_tokens(input_ids, pad_idx=1).to(CUDA_DEVICE)\n",
    "    attention_mask = collate_tokens(attention_mask, pad_idx=0).to(CUDA_DEVICE)\n",
    "    \n",
    "    inputs_embeds = model.roberta.embeddings(input_ids=input_ids).detach()\n",
    "\n",
    "    true_label_idx_list = [labels[instance.id] for instance in batch_instances]\n",
    "    true_label_idx_tensor = torch.tensor(true_label_idx_list, dtype=torch.long, device=CUDA_DEVICE)\n",
    "    \n",
    "    # output_getter extracts the first entry of the return tuple and also applies a softmax to the\n",
    "    # log probabilities\n",
    "    explainer = IntegrateGradExplainer(model=model,\n",
    "                                       input_key=\"inputs_embeds\",\n",
    "                                       output_getter=lambda x: F.softmax(x[0], dim=-1))\n",
    "    inputs_embeds.requires_grad = True\n",
    "    expl = explainer.explain(inp={\"inputs_embeds\": inputs_embeds, \"attention_mask\": attention_mask},\n",
    "                             ind=true_label_idx_tensor)\n",
    "    \n",
    "    input_ids_np = input_ids.cpu().numpy()\n",
    "    expl_np = expl.cpu().numpy()\n",
    "\n",
    "    relevances = []\n",
    "    for b_idx in range(input_ids_np.shape[0]):\n",
    "        offsets = byte_pair_offsets(input_ids_np[b_idx].tolist(), tokenizer)\n",
    "        \n",
    "        relevance_dict = defaultdict(float)\n",
    "        for token_idx, (token_start, token_end) in enumerate(zip(offsets, offsets[1:])):\n",
    "            relevance = expl_np[b_idx][token_start: token_end].sum()\n",
    "            relevance_dict[(\"sent\", token_idx)] = relevance\n",
    "        relevances.append(relevance_dict)\n",
    "\n",
    "    return relevances\n",
    "    \n",
    "\n",
    "config_unk = Config.from_dict({\n",
    "    \"strategy\": \"unk_replacement\",\n",
    "    \"batch_size\": 128,\n",
    "    \"unk_token\": \"<unk>\"\n",
    "})\n",
    "\n",
    "config_gradient = Config.from_dict({\n",
    "    \"strategy\": \"gradient\",\n",
    "    \"batch_size\": 128\n",
    "})\n",
    "\n",
    "config_resample = Config.from_dict({\n",
    "    \"strategy\": \"bert_lm_sampling\",\n",
    "    \"cuda_device\": 0,\n",
    "    \"bert_model\": \"bert-base-uncased\",\n",
    "    \"batch_size\": 256,\n",
    "    \"n_samples\": 100,\n",
    "    \"verbose\": False\n",
    "})\n",
    "\n",
    "unknown_engine = Engine(config_unk, batcher)\n",
    "resample_engine = Engine(config_resample, batcher)\n",
    "gradient_engine = Engine(config_gradient, batcher_gradient)"
   ]
  },
  {
   "cell_type": "code",
   "execution_count": 39,
   "metadata": {},
   "outputs": [
    {
     "name": "stderr",
     "output_type": "stream",
     "text": [
      "100%|██████████| 20/20 [00:00<00:00, 26108.33it/s]\n",
      "2it [00:00,  6.45it/s]                       \n",
      "100%|██████████| 20/20 [00:01<00:00, 10.14it/s]\n",
      "14it [00:03,  4.17it/s]                        \n",
      "100%|██████████| 20/20 [00:00<00:00, 204600.20it/s]\n",
      "1it [00:07,  7.75s/it]\n"
     ]
    }
   ],
   "source": [
    "instance_idx = 0\n",
    "n = 20\n",
    "\n",
    "unk_candidate_instances, unk_candidate_results = unknown_engine.run(input_instances[instance_idx: instance_idx+n])\n",
    "res_candidate_instances, res_candidate_results = resample_engine.run(input_instances[instance_idx: instance_idx+n])\n",
    "grad_candidate_instances, grad_candidate_results = gradient_engine.run(input_instances[instance_idx: instance_idx+n])"
   ]
  },
  {
   "cell_type": "code",
   "execution_count": 40,
   "metadata": {},
   "outputs": [],
   "source": [
    "unk_relevances = unknown_engine.relevances(unk_candidate_instances, unk_candidate_results)\n",
    "res_relevances = resample_engine.relevances(res_candidate_instances, res_candidate_results)\n",
    "grad_relevances = gradient_engine.relevances(grad_candidate_instances, grad_candidate_results)"
   ]
  },
  {
   "cell_type": "code",
   "execution_count": 41,
   "metadata": {},
   "outputs": [],
   "source": [
    "labels_true = labels[instance_idx: instance_idx+n]\n",
    "labels_pred = [predict(instance, model, tokenizer, CUDA_DEVICE)[0].argmax().item() for instance in input_instances[instance_idx: instance_idx+n]]"
   ]
  },
  {
   "cell_type": "code",
   "execution_count": 42,
   "metadata": {},
   "outputs": [
    {
     "data": {
      "text/html": [
       "<font size=\"5\"><span style=\"color:black; background-color:rgba(255, 255, 0, 0.6);\">1 &#10004; 0.99</span>:   <span style=\"color:black; background-color:rgba(255, 0, 0, 9.341088439741004e-05);\">The</span> <span style=\"color:black; background-color:rgba(255, 0, 0, 0.00012206489845372167);\">weights</span> <span style=\"color:white; background-color:rgba(255, 0, 0, 1.0);\">made</span> <span style=\"color:black; background-color:rgba(255, 0, 0, 4.469305337085085e-05);\">the</span> <span style=\"color:black; background-color:rgba(255, 0, 0, 0.0015049064153851552);\">rope</span> <span style=\"color:black; background-color:rgba(255, 0, 0, 0.0009254585755797422);\">stretch</span> <span style=\"color:white; background-color:rgba(255, 0, 0, 0.9734691833392976);\">over</span> <span style=\"color:black; background-color:rgba(255, 0, 0, 0.00015894868174633247);\">the</span> <span style=\"color:black; background-color:rgba(255, 0, 0, 1.3696258291067195e-05);\">pulley</span> <span style=\"color:black; background-color:rgba(0, 0, 255, 1.92228186541294e-06);\">.</span></font></br><font size=\"5\"><span style=\"color:black; background-color:rgba(255, 255, 0, 0.6);\">1 &#10004; 0.97</span>:   <span style=\"color:black; background-color:rgba(255, 0, 0, 0.012218053008692718);\">The</span> <span style=\"color:black; background-color:rgba(0, 0, 255, 0.00011614573505686082);\">mechanical</span> <span style=\"color:black; background-color:rgba(255, 0, 0, 0.0015048660709056836);\">doll</span> <span style=\"color:black; background-color:rgba(255, 0, 0, 0.00020727169191773472);\">wriggled</span> <span style=\"color:black; background-color:rgba(0, 0, 255, 0.0001924315293603111);\">itself</span> <span style=\"color:white; background-color:rgba(255, 0, 0, 1.0);\">loose</span> <span style=\"color:black; background-color:rgba(0, 0, 255, 0.0002123001767512419);\">.</span></font></br><font size=\"5\"><span style=\"color:black; background-color:rgba(255, 255, 0, 0.6);\">1 &#10004; 1.00</span>:   <span style=\"color:black; background-color:rgba(255, 0, 0, 0.00018818893903924908);\">If</span> <span style=\"color:black; background-color:rgba(255, 0, 0, 0.015837892774741496);\">you</span> <span style=\"color:white; background-color:rgba(255, 0, 0, 1.0);\">had</span> <span style=\"color:black; background-color:rgba(255, 0, 0, 0.010991057702232375);\">eaten</span> <span style=\"color:white; background-color:rgba(255, 0, 0, 0.9902186598724458);\">more</span> <span style=\"color:black; background-color:rgba(255, 0, 0, 0.0001223556374977674);\">,</span> <span style=\"color:black; background-color:rgba(255, 0, 0, 0.0006861465408167483);\">you</span> <span style=\"color:black; background-color:rgba(255, 0, 0, 0.010196521972295654);\">would</span> <span style=\"color:white; background-color:rgba(255, 0, 0, 0.9484883753512686);\">want</span> <span style=\"color:white; background-color:rgba(255, 0, 0, 0.9824653403056847);\">less</span> <span style=\"color:black; background-color:rgba(255, 0, 0, 1.2056506719292202e-05);\">.</span></font></br><font size=\"5\"><span style=\"color:black; background-color:rgba(255, 255, 0, 0.6);\">0 &#10006; 1.00</span>:   <span style=\"color:black; background-color:rgba(0, 0, 255, 0.01458684041616058);\">As</span> <span style=\"color:black; background-color:rgba(0, 0, 255, 1.0);\">you</span> <span style=\"color:black; background-color:rgba(0, 0, 255, 0.985729165850119);\">eat</span> <span style=\"color:black; background-color:rgba(0, 0, 255, 0.8753310893419693);\">the</span> <span style=\"color:black; background-color:rgba(0, 0, 255, 0.9996061929579786);\">most</span> <span style=\"color:black; background-color:rgba(0, 0, 255, 0.009872237704447262);\">,</span> <span style=\"color:black; background-color:rgba(0, 0, 255, 0.9970643854925744);\">you</span> <span style=\"color:black; background-color:rgba(0, 0, 255, 0.31319210173831696);\">want</span> <span style=\"color:black; background-color:rgba(0, 0, 255, 0.9996395026941387);\">the</span> <span style=\"color:black; background-color:rgba(0, 0, 255, 0.9998389432470254);\">least</span> <span style=\"color:black; background-color:rgba(0, 0, 255, 0.00022276521480927726);\">.</span></font></br><font size=\"5\"><span style=\"color:black; background-color:rgba(255, 255, 0, 0.6);\">0 &#10006; 1.00</span>:   <span style=\"color:black; background-color:rgba(0, 0, 255, 0.00470666231888548);\">The</span> <span style=\"color:black; background-color:rgba(0, 0, 255, 0.045421915045538164);\">more</span> <span style=\"color:black; background-color:rgba(0, 0, 255, 0.0013028841292501419);\">you</span> <span style=\"color:black; background-color:rgba(0, 0, 255, 0.9992840321668411);\">would</span> <span style=\"color:black; background-color:rgba(0, 0, 255, 0.9885068698313018);\">want</span> <span style=\"color:black; background-color:rgba(0, 0, 255, 5.068918846293265e-05);\">,</span> <span style=\"color:black; background-color:rgba(0, 0, 255, 1.0);\">the</span> <span style=\"color:black; background-color:rgba(0, 0, 255, 0.0009533074728564174);\">less</span> <span style=\"color:black; background-color:rgba(0, 0, 255, 0.00010919440695601699);\">you</span> <span style=\"color:black; background-color:rgba(0, 0, 255, 0.9970048191764237);\">would</span> <span style=\"color:black; background-color:rgba(0, 0, 255, 0.00014525705775265312);\">eat</span> <span style=\"color:black; background-color:rgba(0, 0, 255, 0.00010892186313776772);\">.</span></font></br><font size=\"5\"><span style=\"color:black; background-color:rgba(255, 255, 0, 0.6);\">0 &#10004; 0.98</span>:   <span style=\"color:black; background-color:rgba(0, 0, 255, 0.000553520532497936);\">I</span> <span style=\"color:black; background-color:rgba(0, 0, 255, 0.0016447153809721758);\">demand</span> <span style=\"color:black; background-color:rgba(0, 0, 255, 0.001345770411592923);\">that</span> <span style=\"color:black; background-color:rgba(0, 0, 255, 0.0014961875745751851);\">the</span> <span style=\"color:black; background-color:rgba(0, 0, 255, 0.0015408617157688636);\">more</span> <span style=\"color:black; background-color:rgba(255, 0, 0, 0.00033423327463319544);\">John</span> <span style=\"color:white; background-color:rgba(255, 0, 0, 1.0);\">eat</span> <span style=\"color:white; background-color:rgba(255, 0, 0, 0.9599561937438958);\">,</span> <span style=\"color:black; background-color:rgba(0, 0, 255, 0.0017030416471691067);\">the</span> <span style=\"color:black; background-color:rgba(0, 0, 255, 0.0013527793150544141);\">more</span> <span style=\"color:black; background-color:rgba(0, 0, 255, 0.0016332573474873034);\">he</span> <span style=\"color:black; background-color:rgba(255, 0, 0, 0.00039987317922472563);\">pays</span> <span style=\"color:black; background-color:rgba(0, 0, 255, 0.0009141438523383112);\">.</span></font></br><font size=\"5\"><span style=\"color:black; background-color:rgba(255, 255, 0, 0.6);\">1 &#10004; 1.00</span>:   <span style=\"color:white; background-color:rgba(255, 0, 0, 0.9885153320981418);\">Mary</span> <span style=\"color:black; background-color:rgba(255, 0, 0, 0.10624772835946594);\">listens</span> <span style=\"color:white; background-color:rgba(255, 0, 0, 0.8261575154725215);\">to</span> <span style=\"color:white; background-color:rgba(255, 0, 0, 0.9912356946567576);\">the</span> <span style=\"color:white; background-color:rgba(255, 0, 0, 0.9999590103721836);\">Grateful</span> <span style=\"color:black; background-color:rgba(0, 0, 255, 0.00022751707461151437);\">Dead</span> <span style=\"color:black; background-color:rgba(0, 0, 255, 7.985777697539512e-05);\">,</span> <span style=\"color:black; background-color:rgba(255, 0, 0, 0.0005011105347424644);\">she</span> <span style=\"color:white; background-color:rgba(255, 0, 0, 1.0);\">gets</span> <span style=\"color:white; background-color:rgba(255, 0, 0, 0.9986992644201446);\">depressed</span> <span style=\"color:black; background-color:rgba(255, 0, 0, 0.00044572337701961944);\">.</span></font></br><font size=\"5\"><span style=\"color:black; background-color:rgba(255, 255, 0, 0.6);\">1 &#10004; 1.00</span>:   <span style=\"color:black; background-color:rgba(255, 0, 0, 0.002757320409748341);\">The</span> <span style=\"color:black; background-color:rgba(255, 0, 0, 0.26907456340656016);\">angrier</span> <span style=\"color:white; background-color:rgba(255, 0, 0, 0.9991401299772495);\">Mary</span> <span style=\"color:white; background-color:rgba(255, 0, 0, 0.9909208145388261);\">got</span> <span style=\"color:black; background-color:rgba(255, 0, 0, 4.051723853486677e-05);\">,</span> <span style=\"color:black; background-color:rgba(255, 0, 0, 0.6551425039027302);\">the</span> <span style=\"color:white; background-color:rgba(255, 0, 0, 0.9884897531878921);\">more</span> <span style=\"color:white; background-color:rgba(255, 0, 0, 1.0);\">she</span> <span style=\"color:white; background-color:rgba(255, 0, 0, 0.999730995339459);\">looked</span> <span style=\"color:black; background-color:rgba(255, 0, 0, 0.0007051431631318418);\">at</span> <span style=\"color:black; background-color:rgba(255, 0, 0, 0.0035669491173198763);\">pictures</span> <span style=\"color:black; background-color:rgba(0, 0, 255, 2.0288455231008397e-06);\">.</span></font></br><font size=\"5\"><span style=\"color:black; background-color:rgba(255, 255, 0, 0.6);\">1 &#10004; 1.00</span>:   <span style=\"color:black; background-color:rgba(255, 0, 0, 9.69116193598625e-06);\">The</span> <span style=\"color:white; background-color:rgba(255, 0, 0, 0.995534412267631);\">higher</span> <span style=\"color:white; background-color:rgba(255, 0, 0, 0.9987135770030358);\">the</span> <span style=\"color:black; background-color:rgba(255, 0, 0, 0.0047200744387233765);\">stakes</span> <span style=\"color:black; background-color:rgba(255, 0, 0, 3.116725536202985e-05);\">,</span> <span style=\"color:black; background-color:rgba(255, 0, 0, 0.0011071255182055401);\">the</span> <span style=\"color:black; background-color:rgba(255, 0, 0, 0.007154470388248219);\">lower</span> <span style=\"color:black; background-color:rgba(255, 0, 0, 0.0001438718793583144);\">his</span> <span style=\"color:white; background-color:rgba(255, 0, 0, 1.0);\">expectations</span> <span style=\"color:black; background-color:rgba(255, 0, 0, 0.00019723309199349792);\">are</span> <span style=\"color:black; background-color:rgba(255, 0, 0, 0.00014722191064482813);\">.</span></font></br><font size=\"5\"><span style=\"color:black; background-color:rgba(255, 255, 0, 0.6);\">1 &#10004; 1.00</span>:   <span style=\"color:black; background-color:rgba(255, 0, 0, 5.747925291707541e-05);\">The</span> <span style=\"color:white; background-color:rgba(255, 0, 0, 0.9954127889575555);\">more</span> <span style=\"color:white; background-color:rgba(255, 0, 0, 0.8395572481574232);\">Fred</span> <span style=\"color:white; background-color:rgba(255, 0, 0, 1.0);\">is</span> <span style=\"color:white; background-color:rgba(255, 0, 0, 0.9800686635943386);\">obnoxious</span> <span style=\"color:black; background-color:rgba(255, 0, 0, 2.9366347284736345e-05);\">,</span> <span style=\"color:black; background-color:rgba(255, 0, 0, 0.5889864129109543);\">the</span> <span style=\"color:black; background-color:rgba(255, 0, 0, 0.0009076111317310993);\">less</span> <span style=\"color:black; background-color:rgba(255, 0, 0, 0.6216761712054755);\">attention</span> <span style=\"color:black; background-color:rgba(255, 0, 0, 8.469684308341641e-05);\">you</span> <span style=\"color:black; background-color:rgba(255, 0, 0, 0.0009250996271669281);\">should</span> <span style=\"color:black; background-color:rgba(255, 0, 0, 0.0002082503773911486);\">pay</span> <span style=\"color:black; background-color:rgba(255, 0, 0, 0.0003547239876284311);\">to</span> <span style=\"color:black; background-color:rgba(255, 0, 0, 0.0006958391801736917);\">him</span> <span style=\"color:black; background-color:rgba(255, 0, 0, 2.3278202115949543e-05);\">.</span></font></br><font size=\"5\"><span style=\"color:black; background-color:rgba(255, 255, 0, 0.6);\">1 &#10004; 1.00</span>:   <span style=\"color:black; background-color:rgba(255, 0, 0, 0.007595948259019854);\">John</span> <span style=\"color:white; background-color:rgba(255, 0, 0, 1.0);\">was</span> <span style=\"color:black; background-color:rgba(255, 0, 0, 0.001999288724658495);\">lots</span> <span style=\"color:black; background-color:rgba(255, 0, 0, 0.001701218811205215);\">more</span> <span style=\"color:black; background-color:rgba(255, 0, 0, 0.0009372430618656103);\">obnoxious</span> <span style=\"color:white; background-color:rgba(255, 0, 0, 0.9864423699070021);\">than</span> <span style=\"color:black; background-color:rgba(255, 0, 0, 0.09921603842659903);\">Fred</span> <span style=\"color:black; background-color:rgba(255, 0, 0, 9.686973759204519e-05);\">.</span></font></br><font size=\"5\"><span style=\"color:black; background-color:rgba(255, 255, 0, 0.6);\">1 &#10004; 0.88</span>:   <span style=\"color:black; background-color:rgba(255, 0, 0, 0.00017779188651692894);\">The</span> <span style=\"color:black; background-color:rgba(255, 0, 0, 0.0013304793528327702);\">more</span> <span style=\"color:black; background-color:rgba(255, 0, 0, 0.0017815250534530234);\">people</span> <span style=\"color:black; background-color:rgba(255, 0, 0, 0.005410166962350008);\">you</span> <span style=\"color:black; background-color:rgba(255, 0, 0, 6.45711826653523e-05);\">give</span> <span style=\"color:black; background-color:rgba(255, 0, 0, 8.770522071194849e-05);\">beer</span> <span style=\"color:black; background-color:rgba(255, 0, 0, 0.00010383100605619349);\">to</span> <span style=\"color:black; background-color:rgba(255, 0, 0, 1.496908344191518e-06);\">,</span> <span style=\"color:black; background-color:rgba(255, 0, 0, 5.123509014437332e-05);\">the</span> <span style=\"color:black; background-color:rgba(255, 0, 0, 0.00020133417229375918);\">more</span> <span style=\"color:white; background-color:rgba(255, 0, 0, 1.0);\">people</span> <span style=\"color:black; background-color:rgba(255, 0, 0, 0.6772873391007455);\">get</span> <span style=\"color:black; background-color:rgba(255, 0, 0, 0.0005217405992391164);\">sick</span> <span style=\"color:black; background-color:rgba(0, 0, 255, 3.810312148851137e-06);\">.</span></font></br><font size=\"5\"><span style=\"color:black; background-color:rgba(255, 255, 0, 0.6);\">0 &#10006; 1.00</span>:   <span style=\"color:black; background-color:rgba(0, 0, 255, 0.0004892428681201501);\">The</span> <span style=\"color:black; background-color:rgba(0, 0, 255, 0.733206165182505);\">more</span> <span style=\"color:black; background-color:rgba(0, 0, 255, 0.9994246723769484);\">does</span> <span style=\"color:black; background-color:rgba(0, 0, 255, 1.0);\">Bill</span> <span style=\"color:black; background-color:rgba(0, 0, 255, 0.9873441050088688);\">smoke</span> <span style=\"color:black; background-color:rgba(0, 0, 255, 0.00011332658379842256);\">,</span> <span style=\"color:black; background-color:rgba(0, 0, 255, 0.00046776124500192605);\">the</span> <span style=\"color:black; background-color:rgba(0, 0, 255, 0.0316508516279628);\">more</span> <span style=\"color:black; background-color:rgba(0, 0, 255, 0.3922784244575874);\">Susan</span> <span style=\"color:black; background-color:rgba(0, 0, 255, 0.0022495427021702267);\">hates</span> <span style=\"color:black; background-color:rgba(0, 0, 255, 3.321993684834004e-05);\">him</span> <span style=\"color:black; background-color:rgba(0, 0, 255, 2.3714283364922303e-05);\">.</span></font></br><font size=\"5\"><span style=\"color:black; background-color:rgba(255, 255, 0, 0.6);\">1 &#10004; 0.63</span>:   <span style=\"color:black; background-color:rgba(255, 0, 0, 0.000283416382045283);\">The</span> <span style=\"color:black; background-color:rgba(255, 0, 0, 0.0010291741086381739);\">more</span> <span style=\"color:black; background-color:rgba(255, 0, 0, 0.3863495329958918);\">pictures</span> <span style=\"color:black; background-color:rgba(255, 0, 0, 0.003406590952740342);\">of</span> <span style=\"color:black; background-color:rgba(255, 0, 0, 4.3901567376034134e-05);\">him</span> <span style=\"color:black; background-color:rgba(255, 0, 0, 0.00047931408873834246);\">that</span> <span style=\"color:white; background-color:rgba(255, 0, 0, 1.0);\">appear</span> <span style=\"color:black; background-color:rgba(255, 0, 0, 1.0809457194099117e-05);\">in</span> <span style=\"color:black; background-color:rgba(255, 0, 0, 3.024751618348788e-05);\">the</span> <span style=\"color:black; background-color:rgba(255, 0, 0, 4.826327817365308e-05);\">news</span> <span style=\"color:black; background-color:rgba(0, 0, 255, 2.2567112387680613e-05);\">,</span> <span style=\"color:black; background-color:rgba(255, 0, 0, 0.00013379073772696364);\">the</span> <span style=\"color:black; background-color:rgba(255, 0, 0, 0.00020727608268684798);\">more</span> <span style=\"color:black; background-color:rgba(255, 0, 0, 0.00031034520523058254);\">embarrassed</span> <span style=\"color:black; background-color:rgba(255, 0, 0, 0.005028673270454847);\">John</span> <span style=\"color:black; background-color:rgba(255, 0, 0, 0.0019087225729580283);\">becomes</span> <span style=\"color:black; background-color:rgba(0, 0, 255, 1.2136934393374447e-05);\">.</span></font></br><font size=\"5\"><span style=\"color:black; background-color:rgba(255, 255, 0, 0.6);\">1 &#10004; 0.99</span>:   <span style=\"color:black; background-color:rgba(255, 0, 0, 1.7809785502220697e-05);\">Every</span> <span style=\"color:black; background-color:rgba(255, 0, 0, 0.007787388879040264);\">senator</span> <span style=\"color:black; background-color:rgba(255, 0, 0, 0.000567506408300492);\">seems</span> <span style=\"color:black; background-color:rgba(255, 0, 0, 0.0019702075211831646);\">to</span> <span style=\"color:black; background-color:rgba(255, 0, 0, 0.004060811599089112);\">become</span> <span style=\"color:black; background-color:rgba(255, 0, 0, 0.00035427032782795766);\">more</span> <span style=\"color:black; background-color:rgba(255, 0, 0, 0.00043152628926326634);\">corrupt</span> <span style=\"color:black; background-color:rgba(255, 0, 0, 0.00013104632710755635);\">,</span> <span style=\"color:black; background-color:rgba(255, 0, 0, 0.007943164333990432);\">as</span> <span style=\"color:black; background-color:rgba(255, 0, 0, 0.02581738997226815);\">he</span> <span style=\"color:white; background-color:rgba(255, 0, 0, 0.8745513823005695);\">talks</span> <span style=\"color:white; background-color:rgba(255, 0, 0, 1.0);\">to</span> <span style=\"color:black; background-color:rgba(255, 0, 0, 8.429564016422701e-05);\">more</span> <span style=\"color:black; background-color:rgba(255, 0, 0, 0.0015466836017570447);\">lobbyists</span> <span style=\"color:black; background-color:rgba(255, 0, 0, 0.040044941692577656);\">.</span></font></br><font size=\"5\"><span style=\"color:black; background-color:rgba(255, 255, 0, 0.6);\">0 &#10004; 1.00</span>:   <span style=\"color:white; background-color:rgba(255, 0, 0, 0.9878034006193077);\">Who</span> <span style=\"color:black; background-color:rgba(255, 0, 0, 7.760728547216467e-06);\">does</span> <span style=\"color:black; background-color:rgba(255, 0, 0, 0.0001357530516643865);\">John</span> <span style=\"color:black; background-color:rgba(255, 0, 0, 0.0005317293013081313);\">visit</span> <span style=\"color:white; background-color:rgba(255, 0, 0, 1.0);\">Sally</span> <span style=\"color:black; background-color:rgba(0, 0, 255, 0.00014052888461651972);\">because</span> <span style=\"color:black; background-color:rgba(0, 0, 255, 1.5043873799219614e-05);\">he</span> <span style=\"color:black; background-color:rgba(0, 0, 255, 8.351737875042952e-05);\">likes</span> <span style=\"color:black; background-color:rgba(255, 0, 0, 0.0004504804432099651);\">?</span></font></br><font size=\"5\"><span style=\"color:black; background-color:rgba(255, 255, 0, 0.6);\">1 &#10004; 1.00</span>:   <span style=\"color:black; background-color:rgba(255, 0, 0, 0.00035963057959330103);\">Marianne</span> <span style=\"color:black; background-color:rgba(255, 0, 0, 0.019733687492098223);\">did</span> <span style=\"color:white; background-color:rgba(255, 0, 0, 0.993304608190138);\">not</span> <span style=\"color:white; background-color:rgba(255, 0, 0, 1.0);\">leave</span> <span style=\"color:black; background-color:rgba(255, 0, 0, 0.5471021978140891);\">.</span></font></br><font size=\"5\"><span style=\"color:black; background-color:rgba(255, 255, 0, 0.6);\">1 &#10006; 0.95</span>:   <span style=\"color:black; background-color:rgba(0, 0, 255, 1.0);\">He</span> <span style=\"color:black; background-color:rgba(0, 0, 255, 0.625788117788983);\">could</span> <span style=\"color:black; background-color:rgba(0, 0, 255, 0.18051681429475724);\">not</span> <span style=\"color:black; background-color:rgba(0, 0, 255, 0.9204819042117516);\">]</span> <span style=\"color:black; background-color:rgba(255, 0, 0, 0.024856109272590476);\">have</span> <span style=\"color:black; background-color:rgba(255, 0, 0, 0.02460129375071796);\">been</span> <span style=\"color:black; background-color:rgba(255, 0, 0, 0.023398581403223668);\">working</span> <span style=\"color:black; background-color:rgba(0, 0, 255, 0.16949531803087664);\">.</span></font></br><font size=\"5\"><span style=\"color:black; background-color:rgba(255, 255, 0, 0.6);\">1 &#10004; 0.97</span>:   <span style=\"color:black; background-color:rgba(255, 0, 0, 0.005848151528477963);\">He</span> <span style=\"color:black; background-color:rgba(255, 0, 0, 0.003701781629265568);\">can</span> <span style=\"color:black; background-color:rgba(255, 0, 0, 0.38061828057798913);\">not</span> <span style=\"color:white; background-color:rgba(255, 0, 0, 1.0);\">have</span> <span style=\"color:white; background-color:rgba(255, 0, 0, 0.9778711524789082);\">been</span> <span style=\"color:black; background-color:rgba(255, 0, 0, 0.004741794290790063);\">working</span> <span style=\"color:black; background-color:rgba(255, 0, 0, 0.00021770849807695275);\">.</span></font></br><font size=\"5\"><span style=\"color:black; background-color:rgba(255, 255, 0, 0.6);\">1 &#10004; 1.00</span>:   <span style=\"color:black; background-color:rgba(255, 0, 0, 0.005519810246436661);\">You</span> <span style=\"color:black; background-color:rgba(255, 0, 0, 0.21377233767445164);\">will</span> <span style=\"color:white; background-color:rgba(255, 0, 0, 1.0);\">believe</span> <span style=\"color:black; background-color:rgba(255, 0, 0, 0.23164787146591026);\">Bob</span> <span style=\"color:black; background-color:rgba(255, 0, 0, 5.881858014366662e-05);\">.</span></font>"
      ],
      "text/plain": [
       "<IPython.core.display.HTML object>"
      ]
     },
     "execution_count": 42,
     "metadata": {},
     "output_type": "execute_result"
    }
   ],
   "source": [
    "HTML(visualize_relevances(input_instances[instance_idx: instance_idx+n], unk_relevances, labels_true, labels_pred))"
   ]
  },
  {
   "cell_type": "code",
   "execution_count": 43,
   "metadata": {},
   "outputs": [
    {
     "data": {
      "text/html": [
       "<font size=\"5\"><span style=\"color:black; background-color:rgba(255, 255, 0, 0.6);\">1 &#10004; 0.03</span>:   <span style=\"color:black; background-color:rgba(255, 0, 0, 0.435112558526625);\">The</span> <span style=\"color:black; background-color:rgba(255, 0, 0, 0.29976058358807334);\">weights</span> <span style=\"color:black; background-color:rgba(0, 0, 255, 5.305648579966251e-05);\">made</span> <span style=\"color:black; background-color:rgba(0, 0, 255, 5.592440393700919e-06);\">the</span> <span style=\"color:black; background-color:rgba(255, 0, 0, 0.3014992294199401);\">rope</span> <span style=\"color:white; background-color:rgba(255, 0, 0, 1.0);\">stretch</span> <span style=\"color:black; background-color:rgba(255, 0, 0, 0.0006255108733032711);\">over</span> <span style=\"color:black; background-color:rgba(255, 0, 0, 2.3982965542293984e-05);\">the</span> <span style=\"color:black; background-color:rgba(255, 0, 0, 0.00026314941487750525);\">pulley</span> <span style=\"color:black; background-color:rgba(255, 0, 0, 7.062248447813436e-05);\">.</span></font></br><font size=\"5\"><span style=\"color:black; background-color:rgba(255, 255, 0, 0.6);\">1 &#10004; 0.22</span>:   <span style=\"color:black; background-color:rgba(255, 0, 0, 5.9930811161059895e-05);\">The</span> <span style=\"color:black; background-color:rgba(255, 0, 0, 0.09119759373035657);\">mechanical</span> <span style=\"color:white; background-color:rgba(255, 0, 0, 1.0);\">doll</span> <span style=\"color:black; background-color:rgba(255, 0, 0, 0.09305238419781219);\">wriggled</span> <span style=\"color:black; background-color:rgba(255, 0, 0, 0.764179506486004);\">itself</span> <span style=\"color:black; background-color:rgba(255, 0, 0, 0.03060130739636463);\">loose</span> <span style=\"color:black; background-color:rgba(255, 0, 0, 3.363524962307811e-05);\">.</span></font></br><font size=\"5\"><span style=\"color:black; background-color:rgba(255, 255, 0, 0.6);\">1 &#10004; 0.03</span>:   <span style=\"color:black; background-color:rgba(255, 0, 0, 0.00010398089061483195);\">If</span> <span style=\"color:black; background-color:rgba(255, 0, 0, 0.012049305604446727);\">you</span> <span style=\"color:black; background-color:rgba(255, 0, 0, 6.650617763817619e-05);\">had</span> <span style=\"color:white; background-color:rgba(255, 0, 0, 1.0);\">eaten</span> <span style=\"color:black; background-color:rgba(255, 0, 0, 0.006461580504586112);\">more</span> <span style=\"color:black; background-color:rgba(255, 0, 0, 0.003469821523639284);\">,</span> <span style=\"color:black; background-color:rgba(255, 0, 0, 0.0001148364955964149);\">you</span> <span style=\"color:black; background-color:rgba(0, 0, 255, 1.5056432961492497e-05);\">would</span> <span style=\"color:black; background-color:rgba(255, 0, 0, 0.0034118001866754333);\">want</span> <span style=\"color:black; background-color:rgba(255, 0, 0, 0.0006074771591487317);\">less</span> <span style=\"color:black; background-color:rgba(255, 0, 0, 3.0112865922984994e-05);\">.</span></font></br><font size=\"5\"><span style=\"color:black; background-color:rgba(255, 255, 0, 0.6);\">0 &#10006; 0.06</span>:   <span style=\"color:black; background-color:rgba(0, 0, 255, 0.0015013089982981185);\">As</span> <span style=\"color:black; background-color:rgba(0, 0, 255, 0.0012825838725175572);\">you</span> <span style=\"color:black; background-color:rgba(0, 0, 255, 0.7235070229378536);\">eat</span> <span style=\"color:black; background-color:rgba(0, 0, 255, 0.08283973273080222);\">the</span> <span style=\"color:black; background-color:rgba(0, 0, 255, 0.5215493595029769);\">most</span> <span style=\"color:black; background-color:rgba(0, 0, 255, 0.7959707303456764);\">,</span> <span style=\"color:black; background-color:rgba(0, 0, 255, 0.1742166387960674);\">you</span> <span style=\"color:black; background-color:rgba(255, 0, 0, 0.0025039469345292152);\">want</span> <span style=\"color:black; background-color:rgba(0, 0, 255, 0.01436129845533829);\">the</span> <span style=\"color:black; background-color:rgba(0, 0, 255, 1.0);\">least</span> <span style=\"color:black; background-color:rgba(255, 0, 0, 4.359413574951284e-05);\">.</span></font></br><font size=\"5\"><span style=\"color:black; background-color:rgba(255, 255, 0, 0.6);\">0 &#10006; 0.03</span>:   <span style=\"color:black; background-color:rgba(0, 0, 255, 0.0003502679917586478);\">The</span> <span style=\"color:black; background-color:rgba(0, 0, 255, 0.3006748740897631);\">more</span> <span style=\"color:black; background-color:rgba(0, 0, 255, 0.0002298123853149201);\">you</span> <span style=\"color:black; background-color:rgba(0, 0, 255, 1.0);\">would</span> <span style=\"color:black; background-color:rgba(0, 0, 255, 0.2793331902368561);\">want</span> <span style=\"color:black; background-color:rgba(0, 0, 255, 0.5688858573985031);\">,</span> <span style=\"color:black; background-color:rgba(255, 0, 0, 0.0);\">the</span> <span style=\"color:black; background-color:rgba(255, 0, 0, 0.00011249193438830198);\">less</span> <span style=\"color:black; background-color:rgba(0, 0, 255, 0.0001234253027685954);\">you</span> <span style=\"color:black; background-color:rgba(0, 0, 255, 0.2852059608110493);\">would</span> <span style=\"color:black; background-color:rgba(0, 0, 255, 0.5270529611888629);\">eat</span> <span style=\"color:black; background-color:rgba(0, 0, 255, 3.9207821847823464e-05);\">.</span></font></br><font size=\"5\"><span style=\"color:black; background-color:rgba(255, 255, 0, 0.6);\">0 &#10004; 1.00</span>:   <span style=\"color:black; background-color:rgba(255, 0, 0, 0.0005744826070314932);\">I</span> <span style=\"color:black; background-color:rgba(0, 0, 255, 0.0013819543318044118);\">demand</span> <span style=\"color:black; background-color:rgba(0, 0, 255, 1.2623318788651138e-05);\">that</span> <span style=\"color:black; background-color:rgba(0, 0, 255, 1.0113593869724047e-05);\">the</span> <span style=\"color:black; background-color:rgba(255, 0, 0, 0.014314124407818114);\">more</span> <span style=\"color:white; background-color:rgba(255, 0, 0, 0.9394867948051008);\">John</span> <span style=\"color:white; background-color:rgba(255, 0, 0, 1.0);\">eat</span> <span style=\"color:black; background-color:rgba(255, 0, 0, 0.0);\">,</span> <span style=\"color:black; background-color:rgba(255, 0, 0, 0.0);\">the</span> <span style=\"color:black; background-color:rgba(255, 0, 0, 0.0009668195378576756);\">more</span> <span style=\"color:black; background-color:rgba(0, 0, 255, 0.0008047863191096978);\">he</span> <span style=\"color:black; background-color:rgba(255, 0, 0, 0.04200238628048668);\">pays</span> <span style=\"color:black; background-color:rgba(0, 0, 255, 4.730831472173113e-06);\">.</span></font></br><font size=\"5\"><span style=\"color:black; background-color:rgba(255, 255, 0, 0.6);\">1 &#10004; 0.33</span>:   <span style=\"color:black; background-color:rgba(255, 0, 0, 0.16395715985162684);\">Mary</span> <span style=\"color:black; background-color:rgba(255, 0, 0, 0.3247133985936935);\">listens</span> <span style=\"color:black; background-color:rgba(255, 0, 0, 0.0);\">to</span> <span style=\"color:black; background-color:rgba(255, 0, 0, 0.0);\">the</span> <span style=\"color:white; background-color:rgba(255, 0, 0, 1.0);\">Grateful</span> <span style=\"color:black; background-color:rgba(255, 0, 0, 0.789507038328686);\">Dead</span> <span style=\"color:black; background-color:rgba(255, 0, 0, 0.028946418331533365);\">,</span> <span style=\"color:black; background-color:rgba(255, 0, 0, 0.028897909736890198);\">she</span> <span style=\"color:black; background-color:rgba(255, 0, 0, 0.0007673007982370409);\">gets</span> <span style=\"color:black; background-color:rgba(255, 0, 0, 0.7644988377796383);\">depressed</span> <span style=\"color:black; background-color:rgba(255, 0, 0, 7.89340251340898e-05);\">.</span></font></br><font size=\"5\"><span style=\"color:black; background-color:rgba(255, 255, 0, 0.6);\">1 &#10004; 0.07</span>:   <span style=\"color:black; background-color:rgba(0, 0, 255, 0.000150579289152088);\">The</span> <span style=\"color:black; background-color:rgba(255, 0, 0, 0.0008671441040996696);\">angrier</span> <span style=\"color:black; background-color:rgba(255, 0, 0, 0.0007093947894936452);\">Mary</span> <span style=\"color:black; background-color:rgba(0, 0, 255, 0.00019865085175303912);\">got</span> <span style=\"color:black; background-color:rgba(255, 0, 0, 0.0);\">,</span> <span style=\"color:black; background-color:rgba(255, 0, 0, 0.0);\">the</span> <span style=\"color:black; background-color:rgba(255, 0, 0, 4.4210779663839795e-05);\">more</span> <span style=\"color:black; background-color:rgba(255, 0, 0, 0.146691928023295);\">she</span> <span style=\"color:black; background-color:rgba(255, 0, 0, 0.5123275328493986);\">looked</span> <span style=\"color:black; background-color:rgba(255, 0, 0, 0.2906610422145609);\">at</span> <span style=\"color:white; background-color:rgba(255, 0, 0, 1.0);\">pictures</span> <span style=\"color:black; background-color:rgba(255, 0, 0, 0.0);\">.</span></font></br><font size=\"5\"><span style=\"color:black; background-color:rgba(255, 255, 0, 0.6);\">1 &#10004; 0.05</span>:   <span style=\"color:black; background-color:rgba(0, 0, 255, 1.4337631363774431e-05);\">The</span> <span style=\"color:black; background-color:rgba(255, 0, 0, 0.0009747438682665608);\">higher</span> <span style=\"color:white; background-color:rgba(255, 0, 0, 1.0);\">the</span> <span style=\"color:white; background-color:rgba(255, 0, 0, 0.811273890883716);\">stakes</span> <span style=\"color:black; background-color:rgba(255, 0, 0, 0.0);\">,</span> <span style=\"color:black; background-color:rgba(255, 0, 0, 0.0);\">the</span> <span style=\"color:black; background-color:rgba(0, 0, 255, 0.001822480218701463);\">lower</span> <span style=\"color:black; background-color:rgba(0, 0, 255, 0.001423296665482155);\">his</span> <span style=\"color:black; background-color:rgba(255, 0, 0, 0.007456213502573006);\">expectations</span> <span style=\"color:black; background-color:rgba(255, 0, 0, 0.06428466995563818);\">are</span> <span style=\"color:black; background-color:rgba(255, 0, 0, 0.00021633096122770636);\">.</span></font></br><font size=\"5\"><span style=\"color:black; background-color:rgba(255, 255, 0, 0.6);\">1 &#10004; 0.04</span>:   <span style=\"color:black; background-color:rgba(0, 0, 255, 2.9817368327228105e-05);\">The</span> <span style=\"color:black; background-color:rgba(255, 0, 0, 4.172940697428897e-05);\">more</span> <span style=\"color:white; background-color:rgba(255, 0, 0, 1.0);\">Fred</span> <span style=\"color:white; background-color:rgba(255, 0, 0, 0.9457119327604416);\">is</span> <span style=\"color:black; background-color:rgba(255, 0, 0, 0.028662780190861957);\">obnoxious</span> <span style=\"color:black; background-color:rgba(255, 0, 0, 0.0);\">,</span> <span style=\"color:black; background-color:rgba(255, 0, 0, 0.0);\">the</span> <span style=\"color:black; background-color:rgba(0, 0, 255, 0.0010253149359848958);\">less</span> <span style=\"color:black; background-color:rgba(0, 0, 255, 7.827059185897379e-06);\">attention</span> <span style=\"color:black; background-color:rgba(0, 0, 255, 0.00037557957144965416);\">you</span> <span style=\"color:black; background-color:rgba(255, 0, 0, 0.00845471478918553);\">should</span> <span style=\"color:black; background-color:rgba(255, 0, 0, 8.487513894301049e-05);\">pay</span> <span style=\"color:black; background-color:rgba(255, 0, 0, 1.0137905226814423e-06);\">to</span> <span style=\"color:black; background-color:rgba(255, 0, 0, 0.0005881028642030833);\">him</span> <span style=\"color:black; background-color:rgba(255, 0, 0, 0.0);\">.</span></font></br><font size=\"5\"><span style=\"color:black; background-color:rgba(255, 255, 0, 0.6);\">1 &#10004; 0.29</span>:   <span style=\"color:black; background-color:rgba(255, 0, 0, 0.3614718617104564);\">John</span> <span style=\"color:black; background-color:rgba(255, 0, 0, 1.1162911286406845e-05);\">was</span> <span style=\"color:black; background-color:rgba(255, 0, 0, 0.03430295728231222);\">lots</span> <span style=\"color:black; background-color:rgba(255, 0, 0, 7.255481027667895e-06);\">more</span> <span style=\"color:black; background-color:rgba(255, 0, 0, 0.17241630935750096);\">obnoxious</span> <span style=\"color:black; background-color:rgba(255, 0, 0, 1.7069300605497128e-06);\">than</span> <span style=\"color:white; background-color:rgba(255, 0, 0, 1.0);\">Fred</span> <span style=\"color:black; background-color:rgba(255, 0, 0, 3.6030620069136655e-06);\">.</span></font></br><font size=\"5\"><span style=\"color:black; background-color:rgba(255, 255, 0, 0.6);\">1 &#10004; 0.01</span>:   <span style=\"color:black; background-color:rgba(255, 0, 0, 4.780158881375746e-05);\">The</span> <span style=\"color:black; background-color:rgba(255, 0, 0, 6.064826580968071e-05);\">more</span> <span style=\"color:black; background-color:rgba(0, 0, 255, 4.9833156337451776e-05);\">people</span> <span style=\"color:black; background-color:rgba(255, 0, 0, 0.009954382110530452);\">you</span> <span style=\"color:black; background-color:rgba(255, 0, 0, 0.19351762182616414);\">give</span> <span style=\"color:black; background-color:rgba(255, 0, 0, 0.0016375031768057309);\">beer</span> <span style=\"color:black; background-color:rgba(255, 0, 0, 0.0);\">to</span> <span style=\"color:white; background-color:rgba(255, 0, 0, 1.0);\">,</span> <span style=\"color:black; background-color:rgba(255, 0, 0, 0.0);\">the</span> <span style=\"color:black; background-color:rgba(255, 0, 0, 0.0);\">more</span> <span style=\"color:black; background-color:rgba(0, 0, 255, 0.0023899599367185097);\">people</span> <span style=\"color:black; background-color:rgba(255, 0, 0, 0.0001197429799731202);\">get</span> <span style=\"color:black; background-color:rgba(255, 0, 0, 0.00920138758274441);\">sick</span> <span style=\"color:black; background-color:rgba(0, 0, 255, 6.214206540446226e-06);\">.</span></font></br><font size=\"5\"><span style=\"color:black; background-color:rgba(255, 255, 0, 0.6);\">0 &#10006; 0.38</span>:   <span style=\"color:black; background-color:rgba(0, 0, 255, 2.4520243482389926e-05);\">The</span> <span style=\"color:black; background-color:rgba(255, 0, 0, 4.42975520443438e-07);\">more</span> <span style=\"color:black; background-color:rgba(0, 0, 255, 1.0);\">does</span> <span style=\"color:black; background-color:rgba(0, 0, 255, 0.051519835133722096);\">Bill</span> <span style=\"color:black; background-color:rgba(0, 0, 255, 0.09776932099904305);\">smoke</span> <span style=\"color:black; background-color:rgba(0, 0, 255, 0.025817164214750648);\">,</span> <span style=\"color:black; background-color:rgba(255, 0, 0, 0.0);\">the</span> <span style=\"color:black; background-color:rgba(0, 0, 255, 1.7797412606443664e-06);\">more</span> <span style=\"color:black; background-color:rgba(0, 0, 255, 0.028141847321766215);\">Susan</span> <span style=\"color:black; background-color:rgba(0, 0, 255, 0.14022185115021643);\">hates</span> <span style=\"color:black; background-color:rgba(0, 0, 255, 0.16798548957732853);\">him</span> <span style=\"color:black; background-color:rgba(0, 0, 255, 6.158119797973584e-07);\">.</span></font></br><font size=\"5\"><span style=\"color:black; background-color:rgba(255, 255, 0, 0.6);\">1 &#10004; 0.07</span>:   <span style=\"color:black; background-color:rgba(255, 0, 0, 0.0);\">The</span> <span style=\"color:black; background-color:rgba(255, 0, 0, 9.551207975353741e-06);\">more</span> <span style=\"color:black; background-color:rgba(255, 0, 0, 0.1357771020560091);\">pictures</span> <span style=\"color:black; background-color:rgba(255, 0, 0, 0.0);\">of</span> <span style=\"color:black; background-color:rgba(255, 0, 0, 0.0006342324499485611);\">him</span> <span style=\"color:white; background-color:rgba(255, 0, 0, 1.0);\">that</span> <span style=\"color:black; background-color:rgba(255, 0, 0, 0.1327802167336442);\">appear</span> <span style=\"color:black; background-color:rgba(0, 0, 255, 1.3492592532876193e-05);\">in</span> <span style=\"color:black; background-color:rgba(255, 0, 0, 0.0);\">the</span> <span style=\"color:black; background-color:rgba(255, 0, 0, 4.6659867486607865e-05);\">news</span> <span style=\"color:black; background-color:rgba(255, 0, 0, 9.349705698887666e-07);\">,</span> <span style=\"color:black; background-color:rgba(255, 0, 0, 0.0);\">the</span> <span style=\"color:black; background-color:rgba(255, 0, 0, 1.1848333949886893e-06);\">more</span> <span style=\"color:black; background-color:rgba(255, 0, 0, 0.0007948539457613818);\">embarrassed</span> <span style=\"color:black; background-color:rgba(255, 0, 0, 0.0014669849441496883);\">John</span> <span style=\"color:black; background-color:rgba(255, 0, 0, 0.00032538587846113123);\">becomes</span> <span style=\"color:black; background-color:rgba(255, 0, 0, 2.8855126205529916e-06);\">.</span></font></br><font size=\"5\"><span style=\"color:black; background-color:rgba(255, 255, 0, 0.6);\">1 &#10004; 0.04</span>:   <span style=\"color:black; background-color:rgba(0, 0, 255, 0.0005083802536957118);\">Every</span> <span style=\"color:white; background-color:rgba(255, 0, 0, 1.0);\">senator</span> <span style=\"color:black; background-color:rgba(255, 0, 0, 0.12626031295087028);\">seems</span> <span style=\"color:black; background-color:rgba(255, 0, 0, 0.0);\">to</span> <span style=\"color:black; background-color:rgba(255, 0, 0, 0.0015064891478821342);\">become</span> <span style=\"color:black; background-color:rgba(255, 0, 0, 0.27672525863428044);\">more</span> <span style=\"color:black; background-color:rgba(255, 0, 0, 0.293219137836415);\">corrupt</span> <span style=\"color:black; background-color:rgba(255, 0, 0, 0.29473916310501824);\">,</span> <span style=\"color:black; background-color:rgba(255, 0, 0, 0.23161512617435698);\">as</span> <span style=\"color:black; background-color:rgba(255, 0, 0, 0.00216132582985917);\">he</span> <span style=\"color:black; background-color:rgba(255, 0, 0, 0.0001150953087351599);\">talks</span> <span style=\"color:black; background-color:rgba(255, 0, 0, 0.5530911782209417);\">to</span> <span style=\"color:black; background-color:rgba(255, 0, 0, 0.31352518516537753);\">more</span> <span style=\"color:black; background-color:rgba(255, 0, 0, 0.47414527543067264);\">lobbyists</span> <span style=\"color:black; background-color:rgba(255, 0, 0, 1.8750648317143726e-05);\">.</span></font></br><font size=\"5\"><span style=\"color:black; background-color:rgba(255, 255, 0, 0.6);\">0 &#10004; 0.88</span>:   <span style=\"color:white; background-color:rgba(255, 0, 0, 1.0);\">Who</span> <span style=\"color:black; background-color:rgba(255, 0, 0, 0.4932780519050059);\">does</span> <span style=\"color:black; background-color:rgba(255, 0, 0, 0.00047328282801629816);\">John</span> <span style=\"color:black; background-color:rgba(255, 0, 0, 0.10855546968738047);\">visit</span> <span style=\"color:white; background-color:rgba(255, 0, 0, 0.9738638411324646);\">Sally</span> <span style=\"color:black; background-color:rgba(255, 0, 0, 0.0001963453506513677);\">because</span> <span style=\"color:black; background-color:rgba(255, 0, 0, 0.0011165179281990908);\">he</span> <span style=\"color:black; background-color:rgba(255, 0, 0, 2.9721297274101852e-05);\">likes</span> <span style=\"color:black; background-color:rgba(255, 0, 0, 2.072465317104562e-06);\">?</span></font></br><font size=\"5\"><span style=\"color:black; background-color:rgba(255, 255, 0, 0.6);\">1 &#10004; 0.01</span>:   <span style=\"color:black; background-color:rgba(255, 0, 0, 0.7033109206200374);\">Marianne</span> <span style=\"color:black; background-color:rgba(255, 0, 0, 0.6925149152179816);\">did</span> <span style=\"color:black; background-color:rgba(255, 0, 0, 0.0);\">not</span> <span style=\"color:white; background-color:rgba(255, 0, 0, 1.0);\">leave</span> <span style=\"color:black; background-color:rgba(255, 0, 0, 9.695849829440089e-05);\">.</span></font></br><font size=\"5\"><span style=\"color:black; background-color:rgba(255, 255, 0, 0.6);\">1 &#10006; 0.97</span>:   <span style=\"color:black; background-color:rgba(0, 0, 255, 0.9994735993898484);\">He</span> <span style=\"color:black; background-color:rgba(255, 0, 0, 0.016898407398133194);\">could</span> <span style=\"color:black; background-color:rgba(0, 0, 255, 0.6686098256179788);\">not</span> <span style=\"color:black; background-color:rgba(0, 0, 255, 1.0);\">]</span> <span style=\"color:black; background-color:rgba(255, 0, 0, 0.0);\">have</span> <span style=\"color:black; background-color:rgba(255, 0, 0, 8.456584217057338e-05);\">been</span> <span style=\"color:black; background-color:rgba(0, 0, 255, 0.0366091800985162);\">working</span> <span style=\"color:black; background-color:rgba(0, 0, 255, 0.00541225171000134);\">.</span></font></br><font size=\"5\"><span style=\"color:black; background-color:rgba(255, 255, 0, 0.6);\">1 &#10004; 0.06</span>:   <span style=\"color:black; background-color:rgba(255, 0, 0, 0.00914058126881222);\">He</span> <span style=\"color:black; background-color:rgba(0, 0, 255, 0.0021036438034547017);\">can</span> <span style=\"color:black; background-color:rgba(0, 0, 255, 0.004389228703673598);\">not</span> <span style=\"color:black; background-color:rgba(255, 0, 0, 0.0);\">have</span> <span style=\"color:white; background-color:rgba(255, 0, 0, 1.0);\">been</span> <span style=\"color:white; background-color:rgba(255, 0, 0, 0.8256330811064252);\">working</span> <span style=\"color:black; background-color:rgba(0, 0, 255, 5.587588560058968e-05);\">.</span></font></br><font size=\"5\"><span style=\"color:black; background-color:rgba(255, 255, 0, 0.6);\">1 &#10004; 0.03</span>:   <span style=\"color:white; background-color:rgba(255, 0, 0, 1.0);\">You</span> <span style=\"color:black; background-color:rgba(255, 0, 0, 0.002494431597470691);\">will</span> <span style=\"color:black; background-color:rgba(255, 0, 0, 0.40544254525714263);\">believe</span> <span style=\"color:black; background-color:rgba(255, 0, 0, 0.0015116822329221086);\">Bob</span> <span style=\"color:black; background-color:rgba(255, 0, 0, 9.033031750210498e-05);\">.</span></font>"
      ],
      "text/plain": [
       "<IPython.core.display.HTML object>"
      ]
     },
     "execution_count": 43,
     "metadata": {},
     "output_type": "execute_result"
    }
   ],
   "source": [
    "HTML(visualize_relevances(input_instances[instance_idx: instance_idx+n], res_relevances, labels_true, labels_pred))"
   ]
  },
  {
   "cell_type": "code",
   "execution_count": 44,
   "metadata": {},
   "outputs": [
    {
     "data": {
      "text/html": [
       "<font size=\"5\"><span style=\"color:black; background-color:rgba(255, 255, 0, 0.6);\">1 &#10004; 0.23</span>:   <span style=\"color:black; background-color:rgba(255, 0, 0, 0.30292466282844543);\">The</span> <span style=\"color:black; background-color:rgba(255, 0, 0, 0.5776139497756958);\">weights</span> <span style=\"color:white; background-color:rgba(255, 0, 0, 1.0);\">made</span> <span style=\"color:black; background-color:rgba(255, 0, 0, 0.20768098533153534);\">the</span> <span style=\"color:white; background-color:rgba(255, 0, 0, 0.9271352887153625);\">rope</span> <span style=\"color:white; background-color:rgba(255, 0, 0, 0.8283355832099915);\">stretch</span> <span style=\"color:black; background-color:rgba(255, 0, 0, 0.6697121858596802);\">over</span> <span style=\"color:black; background-color:rgba(255, 0, 0, 0.20564846694469452);\">the</span> <span style=\"color:black; background-color:rgba(255, 0, 0, 0.21147507429122925);\">pulley</span> <span style=\"color:black; background-color:rgba(255, 0, 0, 0.6262485980987549);\">.</span></font></br><font size=\"5\"><span style=\"color:black; background-color:rgba(255, 255, 0, 0.6);\">1 &#10004; 0.29</span>:   <span style=\"color:black; background-color:rgba(255, 0, 0, 0.5441268682479858);\">The</span> <span style=\"color:black; background-color:rgba(255, 0, 0, 0.360176146030426);\">mechanical</span> <span style=\"color:black; background-color:rgba(255, 0, 0, 0.38151106238365173);\">doll</span> <span style=\"color:white; background-color:rgba(255, 0, 0, 1.0);\">wriggled</span> <span style=\"color:black; background-color:rgba(255, 0, 0, 0.6039366126060486);\">itself</span> <span style=\"color:black; background-color:rgba(255, 0, 0, 0.11232165992259979);\">loose</span> <span style=\"color:black; background-color:rgba(255, 0, 0, 0.2422710657119751);\">.</span></font></br><font size=\"5\"><span style=\"color:black; background-color:rgba(255, 255, 0, 0.6);\">1 &#10004; 0.18</span>:   <span style=\"color:black; background-color:rgba(255, 0, 0, 0.12247410416603088);\">If</span> <span style=\"color:white; background-color:rgba(255, 0, 0, 1.0);\">you</span> <span style=\"color:white; background-color:rgba(255, 0, 0, 0.8576657772064209);\">had</span> <span style=\"color:black; background-color:rgba(255, 0, 0, 0.5043253302574158);\">eaten</span> <span style=\"color:black; background-color:rgba(255, 0, 0, 0.2413875162601471);\">more</span> <span style=\"color:white; background-color:rgba(255, 0, 0, 0.850166916847229);\">,</span> <span style=\"color:black; background-color:rgba(255, 0, 0, 0.38833391666412354);\">you</span> <span style=\"color:black; background-color:rgba(255, 0, 0, 0.7506518959999084);\">would</span> <span style=\"color:black; background-color:rgba(0, 0, 255, 0.007722148206084967);\">want</span> <span style=\"color:black; background-color:rgba(255, 0, 0, 0.7403338551521301);\">less</span> <span style=\"color:black; background-color:rgba(255, 0, 0, 0.14941063523292542);\">.</span></font></br><font size=\"5\"><span style=\"color:black; background-color:rgba(255, 255, 0, 0.6);\">0 &#10006; 0.47</span>:   <span style=\"color:black; background-color:rgba(0, 0, 255, 0.3153511583805084);\">As</span> <span style=\"color:black; background-color:rgba(255, 0, 0, 0.04070308804512024);\">you</span> <span style=\"color:black; background-color:rgba(255, 0, 0, 0.017316490411758423);\">eat</span> <span style=\"color:black; background-color:rgba(0, 0, 255, 0.3579285740852356);\">the</span> <span style=\"color:black; background-color:rgba(0, 0, 255, 0.013299024663865566);\">most</span> <span style=\"color:black; background-color:rgba(0, 0, 255, 0.14585557579994202);\">,</span> <span style=\"color:black; background-color:rgba(255, 0, 0, 0.04326266050338745);\">you</span> <span style=\"color:black; background-color:rgba(255, 0, 0, 0.1093088909983635);\">want</span> <span style=\"color:black; background-color:rgba(0, 0, 255, 0.4125892221927643);\">the</span> <span style=\"color:black; background-color:rgba(0, 0, 255, 1.0);\">least</span> <span style=\"color:black; background-color:rgba(0, 0, 255, 0.07328537851572037);\">.</span></font></br><font size=\"5\"><span style=\"color:black; background-color:rgba(255, 255, 0, 0.6);\">0 &#10006; 0.40</span>:   <span style=\"color:black; background-color:rgba(255, 0, 0, 0.20620372891426086);\">The</span> <span style=\"color:black; background-color:rgba(0, 0, 255, 0.8458939790725708);\">more</span> <span style=\"color:black; background-color:rgba(0, 0, 255, 0.07027867436408997);\">you</span> <span style=\"color:black; background-color:rgba(255, 0, 0, 0.04959912598133087);\">would</span> <span style=\"color:black; background-color:rgba(0, 0, 255, 0.07188290357589722);\">want</span> <span style=\"color:black; background-color:rgba(0, 0, 255, 0.10639654844999313);\">,</span> <span style=\"color:black; background-color:rgba(0, 0, 255, 0.09122501313686371);\">the</span> <span style=\"color:black; background-color:rgba(0, 0, 255, 1.0);\">less</span> <span style=\"color:black; background-color:rgba(255, 0, 0, 0.04654727876186371);\">you</span> <span style=\"color:black; background-color:rgba(0, 0, 255, 0.08394183218479156);\">would</span> <span style=\"color:black; background-color:rgba(255, 0, 0, 0.08161228150129318);\">eat</span> <span style=\"color:black; background-color:rgba(255, 0, 0, 0.062050458043813705);\">.</span></font></br><font size=\"5\"><span style=\"color:black; background-color:rgba(255, 255, 0, 0.6);\">0 &#10004; 0.01</span>:   <span style=\"color:black; background-color:rgba(0, 0, 255, 0.1251743882894516);\">I</span> <span style=\"color:black; background-color:rgba(0, 0, 255, 0.5660932064056396);\">demand</span> <span style=\"color:black; background-color:rgba(0, 0, 255, 0.45089080929756165);\">that</span> <span style=\"color:black; background-color:rgba(0, 0, 255, 0.005702835042029619);\">the</span> <span style=\"color:black; background-color:rgba(255, 0, 0, 0.45330333709716797);\">more</span> <span style=\"color:black; background-color:rgba(0, 0, 255, 0.037944722920656204);\">John</span> <span style=\"color:white; background-color:rgba(255, 0, 0, 1.0);\">eat</span> <span style=\"color:black; background-color:rgba(0, 0, 255, 0.30679675936698914);\">,</span> <span style=\"color:black; background-color:rgba(255, 0, 0, 0.07910069078207016);\">the</span> <span style=\"color:black; background-color:rgba(0, 0, 255, 0.1071968674659729);\">more</span> <span style=\"color:black; background-color:rgba(255, 0, 0, 0.15551497042179108);\">he</span> <span style=\"color:black; background-color:rgba(255, 0, 0, 0.3611231744289398);\">pays</span> <span style=\"color:black; background-color:rgba(0, 0, 255, 0.1545436829328537);\">.</span></font></br><font size=\"5\"><span style=\"color:black; background-color:rgba(255, 255, 0, 0.6);\">1 &#10004; 0.43</span>:   <span style=\"color:white; background-color:rgba(255, 0, 0, 0.84564608335495);\">Mary</span> <span style=\"color:black; background-color:rgba(0, 0, 255, 0.038160957396030426);\">listens</span> <span style=\"color:black; background-color:rgba(255, 0, 0, 0.31580090522766113);\">to</span> <span style=\"color:black; background-color:rgba(255, 0, 0, 0.075138159096241);\">the</span> <span style=\"color:black; background-color:rgba(255, 0, 0, 0.33412349224090576);\">Grateful</span> <span style=\"color:white; background-color:rgba(255, 0, 0, 1.0);\">Dead</span> <span style=\"color:black; background-color:rgba(255, 0, 0, 0.2393365055322647);\">,</span> <span style=\"color:black; background-color:rgba(255, 0, 0, 0.06693240255117416);\">she</span> <span style=\"color:black; background-color:rgba(0, 0, 255, 0.40858930349349976);\">gets</span> <span style=\"color:black; background-color:rgba(255, 0, 0, 0.016918525099754333);\">depressed</span> <span style=\"color:black; background-color:rgba(0, 0, 255, 0.016032211482524872);\">.</span></font></br><font size=\"5\"><span style=\"color:black; background-color:rgba(255, 255, 0, 0.6);\">1 &#10004; 0.41</span>:   <span style=\"color:black; background-color:rgba(255, 0, 0, 0.3027615249156952);\">The</span> <span style=\"color:black; background-color:rgba(255, 0, 0, 0.39504724740982056);\">angrier</span> <span style=\"color:black; background-color:rgba(255, 0, 0, 0.2082357406616211);\">Mary</span> <span style=\"color:black; background-color:rgba(0, 0, 255, 0.2944360077381134);\">got</span> <span style=\"color:black; background-color:rgba(255, 0, 0, 0.1008988469839096);\">,</span> <span style=\"color:black; background-color:rgba(255, 0, 0, 0.32678571343421936);\">the</span> <span style=\"color:white; background-color:rgba(255, 0, 0, 1.0);\">more</span> <span style=\"color:black; background-color:rgba(255, 0, 0, 0.6237882375717163);\">she</span> <span style=\"color:black; background-color:rgba(255, 0, 0, 0.3007544279098511);\">looked</span> <span style=\"color:black; background-color:rgba(255, 0, 0, 0.15416552126407623);\">at</span> <span style=\"color:black; background-color:rgba(0, 0, 255, 0.1468130499124527);\">pictures</span> <span style=\"color:black; background-color:rgba(0, 0, 255, 0.4676145315170288);\">.</span></font></br><font size=\"5\"><span style=\"color:black; background-color:rgba(255, 255, 0, 0.6);\">1 &#10004; 0.33</span>:   <span style=\"color:black; background-color:rgba(255, 0, 0, 0.2232392281293869);\">The</span> <span style=\"color:white; background-color:rgba(255, 0, 0, 1.0);\">higher</span> <span style=\"color:black; background-color:rgba(255, 0, 0, 0.7739390730857849);\">the</span> <span style=\"color:black; background-color:rgba(255, 0, 0, 0.07392451912164688);\">stakes</span> <span style=\"color:black; background-color:rgba(255, 0, 0, 0.31427711248397827);\">,</span> <span style=\"color:black; background-color:rgba(255, 0, 0, 0.24791119992733002);\">the</span> <span style=\"color:black; background-color:rgba(255, 0, 0, 0.7058599591255188);\">lower</span> <span style=\"color:black; background-color:rgba(0, 0, 255, 0.18971963226795197);\">his</span> <span style=\"color:black; background-color:rgba(0, 0, 255, 0.3707810640335083);\">expectations</span> <span style=\"color:white; background-color:rgba(255, 0, 0, 0.9241247177124023);\">are</span> <span style=\"color:black; background-color:rgba(255, 0, 0, 0.20604544878005981);\">.</span></font></br><font size=\"5\"><span style=\"color:black; background-color:rgba(255, 255, 0, 0.6);\">1 &#10004; 0.72</span>:   <span style=\"color:black; background-color:rgba(255, 0, 0, 0.2892938554286957);\">The</span> <span style=\"color:white; background-color:rgba(255, 0, 0, 1.0);\">more</span> <span style=\"color:black; background-color:rgba(255, 0, 0, 0.21824504435062408);\">Fred</span> <span style=\"color:black; background-color:rgba(0, 0, 255, 0.27022477984428406);\">is</span> <span style=\"color:black; background-color:rgba(0, 0, 255, 0.19845230877399445);\">obnoxious</span> <span style=\"color:black; background-color:rgba(255, 0, 0, 0.09783680737018585);\">,</span> <span style=\"color:black; background-color:rgba(255, 0, 0, 0.6245332360267639);\">the</span> <span style=\"color:black; background-color:rgba(255, 0, 0, 0.7156144380569458);\">less</span> <span style=\"color:black; background-color:rgba(255, 0, 0, 0.2728618383407593);\">attention</span> <span style=\"color:black; background-color:rgba(255, 0, 0, 0.16844536364078522);\">you</span> <span style=\"color:black; background-color:rgba(255, 0, 0, 0.10061373561620712);\">should</span> <span style=\"color:black; background-color:rgba(255, 0, 0, 0.1625307947397232);\">pay</span> <span style=\"color:black; background-color:rgba(255, 0, 0, 0.022566381841897964);\">to</span> <span style=\"color:black; background-color:rgba(255, 0, 0, 0.28007441759109497);\">him</span> <span style=\"color:black; background-color:rgba(255, 0, 0, 0.08552336692810059);\">.</span></font></br><font size=\"5\"><span style=\"color:black; background-color:rgba(255, 255, 0, 0.6);\">1 &#10004; 0.17</span>:   <span style=\"color:white; background-color:rgba(255, 0, 0, 1.0);\">John</span> <span style=\"color:black; background-color:rgba(255, 0, 0, 0.10178396105766296);\">was</span> <span style=\"color:black; background-color:rgba(255, 0, 0, 0.5436416864395142);\">lots</span> <span style=\"color:black; background-color:rgba(255, 0, 0, 0.7333170175552368);\">more</span> <span style=\"color:black; background-color:rgba(255, 0, 0, 0.38493865728378296);\">obnoxious</span> <span style=\"color:black; background-color:rgba(255, 0, 0, 0.7337296605110168);\">than</span> <span style=\"color:black; background-color:rgba(255, 0, 0, 0.09685807675123215);\">Fred</span> <span style=\"color:black; background-color:rgba(255, 0, 0, 0.3311987817287445);\">.</span></font></br><font size=\"5\"><span style=\"color:black; background-color:rgba(255, 255, 0, 0.6);\">1 &#10004; 0.20</span>:   <span style=\"color:black; background-color:rgba(255, 0, 0, 0.4698837995529175);\">The</span> <span style=\"color:white; background-color:rgba(255, 0, 0, 0.9615892171859741);\">more</span> <span style=\"color:black; background-color:rgba(0, 0, 255, 0.3914695978164673);\">people</span> <span style=\"color:black; background-color:rgba(255, 0, 0, 0.3811197876930237);\">you</span> <span style=\"color:black; background-color:rgba(255, 0, 0, 0.6472543478012085);\">give</span> <span style=\"color:white; background-color:rgba(255, 0, 0, 1.0);\">beer</span> <span style=\"color:black; background-color:rgba(255, 0, 0, 0.057839784771203995);\">to</span> <span style=\"color:black; background-color:rgba(255, 0, 0, 0.467728853225708);\">,</span> <span style=\"color:black; background-color:rgba(255, 0, 0, 0.16316893696784973);\">the</span> <span style=\"color:black; background-color:rgba(255, 0, 0, 0.7435941100120544);\">more</span> <span style=\"color:black; background-color:rgba(255, 0, 0, 0.32341861724853516);\">people</span> <span style=\"color:black; background-color:rgba(255, 0, 0, 0.3567787706851959);\">get</span> <span style=\"color:black; background-color:rgba(255, 0, 0, 0.5005475878715515);\">sick</span> <span style=\"color:black; background-color:rgba(0, 0, 255, 0.0845828726887703);\">.</span></font></br><font size=\"5\"><span style=\"color:black; background-color:rgba(255, 255, 0, 0.6);\">0 &#10006; 0.23</span>:   <span style=\"color:black; background-color:rgba(255, 0, 0, 0.09216775745153427);\">The</span> <span style=\"color:black; background-color:rgba(0, 0, 255, 1.0);\">more</span> <span style=\"color:black; background-color:rgba(0, 0, 255, 0.32455548644065857);\">does</span> <span style=\"color:black; background-color:rgba(0, 0, 255, 0.16825339198112488);\">Bill</span> <span style=\"color:black; background-color:rgba(0, 0, 255, 0.3486023247241974);\">smoke</span> <span style=\"color:black; background-color:rgba(0, 0, 255, 0.23172128200531006);\">,</span> <span style=\"color:black; background-color:rgba(0, 0, 255, 0.4192289113998413);\">the</span> <span style=\"color:black; background-color:rgba(0, 0, 255, 0.7928227782249451);\">more</span> <span style=\"color:black; background-color:rgba(0, 0, 255, 0.11098391562700272);\">Susan</span> <span style=\"color:black; background-color:rgba(0, 0, 255, 0.1867557168006897);\">hates</span> <span style=\"color:black; background-color:rgba(0, 0, 255, 0.1331915706396103);\">him</span> <span style=\"color:black; background-color:rgba(0, 0, 255, 0.20415470004081726);\">.</span></font></br><font size=\"5\"><span style=\"color:black; background-color:rgba(255, 255, 0, 0.6);\">1 &#10004; 0.92</span>:   <span style=\"color:black; background-color:rgba(255, 0, 0, 0.5368346571922302);\">The</span> <span style=\"color:black; background-color:rgba(255, 0, 0, 0.14391492307186127);\">more</span> <span style=\"color:black; background-color:rgba(0, 0, 255, 0.5845234394073486);\">pictures</span> <span style=\"color:black; background-color:rgba(0, 0, 255, 1.0);\">of</span> <span style=\"color:black; background-color:rgba(255, 0, 0, 0.41599881649017334);\">him</span> <span style=\"color:black; background-color:rgba(255, 0, 0, 0.13234823942184448);\">that</span> <span style=\"color:black; background-color:rgba(255, 0, 0, 0.5547071695327759);\">appear</span> <span style=\"color:black; background-color:rgba(255, 0, 0, 0.14933593571186066);\">in</span> <span style=\"color:black; background-color:rgba(255, 0, 0, 0.31838008761405945);\">the</span> <span style=\"color:black; background-color:rgba(255, 0, 0, 0.08850377053022385);\">news</span> <span style=\"color:black; background-color:rgba(255, 0, 0, 0.36439815163612366);\">,</span> <span style=\"color:black; background-color:rgba(0, 0, 255, 0.04950912669301033);\">the</span> <span style=\"color:black; background-color:rgba(255, 0, 0, 0.09998276084661484);\">more</span> <span style=\"color:black; background-color:rgba(255, 0, 0, 0.10704509913921356);\">embarrassed</span> <span style=\"color:black; background-color:rgba(0, 0, 255, 0.005808903835713863);\">John</span> <span style=\"color:black; background-color:rgba(0, 0, 255, 0.019219107925891876);\">becomes</span> <span style=\"color:black; background-color:rgba(255, 0, 0, 0.022595925256609917);\">.</span></font></br><font size=\"5\"><span style=\"color:black; background-color:rgba(255, 255, 0, 0.6);\">1 &#10004; 0.02</span>:   <span style=\"color:black; background-color:rgba(255, 0, 0, 0.5805822610855103);\">Every</span> <span style=\"color:black; background-color:rgba(255, 0, 0, 0.3324090838432312);\">senator</span> <span style=\"color:black; background-color:rgba(0, 0, 255, 1.0);\">seems</span> <span style=\"color:black; background-color:rgba(255, 0, 0, 0.05825737118721008);\">to</span> <span style=\"color:white; background-color:rgba(255, 0, 0, 0.9551376700401306);\">become</span> <span style=\"color:black; background-color:rgba(255, 0, 0, 0.535990834236145);\">more</span> <span style=\"color:black; background-color:rgba(255, 0, 0, 0.5654492974281311);\">corrupt</span> <span style=\"color:black; background-color:rgba(255, 0, 0, 0.3812468647956848);\">,</span> <span style=\"color:black; background-color:rgba(255, 0, 0, 0.687967836856842);\">as</span> <span style=\"color:white; background-color:rgba(255, 0, 0, 0.9138281345367432);\">he</span> <span style=\"color:black; background-color:rgba(255, 0, 0, 0.5507828593254089);\">talks</span> <span style=\"color:black; background-color:rgba(255, 0, 0, 0.04713587835431099);\">to</span> <span style=\"color:black; background-color:rgba(255, 0, 0, 0.36722809076309204);\">more</span> <span style=\"color:black; background-color:rgba(255, 0, 0, 0.557080864906311);\">lobbyists</span> <span style=\"color:black; background-color:rgba(255, 0, 0, 0.3256705403327942);\">.</span></font></br><font size=\"5\"><span style=\"color:black; background-color:rgba(255, 255, 0, 0.6);\">0 &#10004; 0.37</span>:   <span style=\"color:white; background-color:rgba(255, 0, 0, 1.0);\">Who</span> <span style=\"color:black; background-color:rgba(255, 0, 0, 0.3513864278793335);\">does</span> <span style=\"color:black; background-color:rgba(0, 0, 255, 0.11166553199291229);\">John</span> <span style=\"color:black; background-color:rgba(255, 0, 0, 0.4118172228336334);\">visit</span> <span style=\"color:black; background-color:rgba(255, 0, 0, 0.07440882921218872);\">Sally</span> <span style=\"color:black; background-color:rgba(255, 0, 0, 0.16565777361392975);\">because</span> <span style=\"color:black; background-color:rgba(255, 0, 0, 0.14003868401050568);\">he</span> <span style=\"color:black; background-color:rgba(0, 0, 255, 0.05918825417757034);\">likes</span> <span style=\"color:black; background-color:rgba(255, 0, 0, 0.35900458693504333);\">?</span></font></br><font size=\"5\"><span style=\"color:black; background-color:rgba(255, 255, 0, 0.6);\">1 &#10004; 0.84</span>:   <span style=\"color:white; background-color:rgba(255, 0, 0, 1.0);\">Marianne</span> <span style=\"color:black; background-color:rgba(255, 0, 0, 0.0921788439154625);\">did</span> <span style=\"color:black; background-color:rgba(255, 0, 0, 0.12030129879713058);\">not</span> <span style=\"color:black; background-color:rgba(255, 0, 0, 0.11830425262451172);\">leave</span> <span style=\"color:black; background-color:rgba(255, 0, 0, 0.061257656663656235);\">.</span></font></br><font size=\"5\"><span style=\"color:black; background-color:rgba(255, 255, 0, 0.6);\">1 &#10006; 0.49</span>:   <span style=\"color:black; background-color:rgba(255, 0, 0, 0.7122484445571899);\">He</span> <span style=\"color:black; background-color:rgba(255, 0, 0, 0.4621484875679016);\">could</span> <span style=\"color:white; background-color:rgba(255, 0, 0, 1.0);\">not</span> <span style=\"color:black; background-color:rgba(0, 0, 255, 0.57357257604599);\">]</span> <span style=\"color:black; background-color:rgba(0, 0, 255, 0.278400182723999);\">have</span> <span style=\"color:black; background-color:rgba(0, 0, 255, 0.12901467084884644);\">been</span> <span style=\"color:black; background-color:rgba(0, 0, 255, 0.5248552560806274);\">working</span> <span style=\"color:black; background-color:rgba(0, 0, 255, 0.5325668454170227);\">.</span></font></br><font size=\"5\"><span style=\"color:black; background-color:rgba(255, 255, 0, 0.6);\">1 &#10004; 0.87</span>:   <span style=\"color:black; background-color:rgba(255, 0, 0, 0.2811180353164673);\">He</span> <span style=\"color:black; background-color:rgba(255, 0, 0, 0.2422509789466858);\">can</span> <span style=\"color:black; background-color:rgba(255, 0, 0, 0.22925536334514618);\">not</span> <span style=\"color:white; background-color:rgba(255, 0, 0, 1.0);\">have</span> <span style=\"color:black; background-color:rgba(255, 0, 0, 0.7182164192199707);\">been</span> <span style=\"color:black; background-color:rgba(255, 0, 0, 0.13565081357955933);\">working</span> <span style=\"color:black; background-color:rgba(0, 0, 255, 0.01952311024069786);\">.</span></font></br><font size=\"5\"><span style=\"color:black; background-color:rgba(255, 255, 0, 0.6);\">1 &#10004; 0.24</span>:   <span style=\"color:white; background-color:rgba(255, 0, 0, 1.0);\">You</span> <span style=\"color:white; background-color:rgba(255, 0, 0, 0.8477782607078552);\">will</span> <span style=\"color:black; background-color:rgba(255, 0, 0, 0.6058254837989807);\">believe</span> <span style=\"color:black; background-color:rgba(0, 0, 255, 0.011632099747657776);\">Bob</span> <span style=\"color:black; background-color:rgba(255, 0, 0, 0.2205420583486557);\">.</span></font>"
      ],
      "text/plain": [
       "<IPython.core.display.HTML object>"
      ]
     },
     "execution_count": 44,
     "metadata": {},
     "output_type": "execute_result"
    }
   ],
   "source": [
    "HTML(visualize_relevances(input_instances[instance_idx: instance_idx+n], grad_relevances, labels_true, labels_pred))"
   ]
  },
  {
   "cell_type": "code",
   "execution_count": 45,
   "metadata": {},
   "outputs": [
    {
     "name": "stdout",
     "output_type": "stream",
     "text": [
      "0.1441721835195447\n",
      "0.06491314281530187\n",
      "0.10737025456902813\n"
     ]
    }
   ],
   "source": [
    "print(calculate_correlation(unk_relevances, res_relevances))\n",
    "print(calculate_correlation(unk_relevances, grad_relevances))\n",
    "print(calculate_correlation(res_relevances, grad_relevances))"
   ]
  },
  {
   "cell_type": "code",
   "execution_count": null,
   "metadata": {},
   "outputs": [],
   "source": []
  }
 ],
 "metadata": {
  "kernelspec": {
   "display_name": "Python 3",
   "language": "python",
   "name": "python3"
  },
  "language_info": {
   "codemirror_mode": {
    "name": "ipython",
    "version": 3
   },
   "file_extension": ".py",
   "mimetype": "text/x-python",
   "name": "python",
   "nbconvert_exporter": "python",
   "pygments_lexer": "ipython3",
   "version": "3.7.4"
  }
 },
 "nbformat": 4,
 "nbformat_minor": 4
}
