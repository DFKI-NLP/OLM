{
 "cells": [
  {
   "cell_type": "code",
   "execution_count": 1,
   "metadata": {},
   "outputs": [],
   "source": [
    "%load_ext autoreload\n",
    "%autoreload 2"
   ]
  },
  {
   "cell_type": "code",
   "execution_count": 2,
   "metadata": {},
   "outputs": [],
   "source": [
    "import sys\n",
    "\n",
    "sys.path.append(\"../\")"
   ]
  },
  {
   "cell_type": "code",
   "execution_count": 3,
   "metadata": {},
   "outputs": [],
   "source": [
    "from IPython.core.display import HTML"
   ]
  },
  {
   "cell_type": "code",
   "execution_count": 4,
   "metadata": {},
   "outputs": [],
   "source": [
    "import os\n",
    "import numpy as np\n",
    "\n",
    "import torch\n",
    "import torch.nn.functional as F\n",
    "\n",
    "from xbert.engine import Engine, weight_of_evidence, difference_of_log_probabilities, calculate_correlation\n",
    "from xbert import InputInstance, Config\n",
    "from xbert.visualization import visualize_relevances\n",
    "from xbert.occlusion.explainer import GradxInputExplainer, IntegrateGradExplainer"
   ]
  },
  {
   "cell_type": "code",
   "execution_count": 5,
   "metadata": {},
   "outputs": [],
   "source": [
    "#import spacy\n",
    "from tqdm import tqdm\n",
    "from collections import defaultdict\n",
    "\n",
    "from segtok.tokenizer import web_tokenizer, space_tokenizer\n",
    "from transformers import RobertaTokenizer, RobertaForSequenceClassification  #, glue_convert_examples_to_features"
   ]
  },
  {
   "cell_type": "code",
   "execution_count": 6,
   "metadata": {},
   "outputs": [],
   "source": [
    "CUDA_DEVICE = 0 # or -1 if no GPU is available\n",
    "\n",
    "MODEL_NAME = \"roberta-large-mnli\""
   ]
  },
  {
   "cell_type": "code",
   "execution_count": 7,
   "metadata": {},
   "outputs": [],
   "source": [
    "tokenizer = RobertaTokenizer.from_pretrained(MODEL_NAME)\n",
    "model = RobertaForSequenceClassification.from_pretrained(MODEL_NAME).to(CUDA_DEVICE)"
   ]
  },
  {
   "cell_type": "code",
   "execution_count": 8,
   "metadata": {},
   "outputs": [],
   "source": [
    "MNLI_DATASET_PATH = \"../data/glue_data/MNLI/\"\n",
    "MNLI_IDX2LABEL = {0: 'contradiction', 1: 'neutral', 2: 'entailment'}\n",
    "MNLI_LABEL2IDX = {v: k for k, v in MNLI_IDX2LABEL.items()}"
   ]
  },
  {
   "cell_type": "code",
   "execution_count": 9,
   "metadata": {},
   "outputs": [],
   "source": [
    "def rindex(alist, value):\n",
    "    return len(alist) - alist[-1::-1].index(value) - 1\n",
    "\n",
    "\n",
    "def byte_pair_offsets(input_ids, tokenizer):\n",
    "    def get_offsets(tokens, start_offset):\n",
    "        offsets = [start_offset]\n",
    "        for t_idx, token in enumerate(tokens, start_offset):\n",
    "            if not token.startswith(\" \"):\n",
    "                continue\n",
    "            offsets.append(t_idx)\n",
    "        offsets.append(start_offset + len(tokens))\n",
    "        return offsets\n",
    "        \n",
    "    tokens = [tokenizer.convert_tokens_to_string(t)\n",
    "              for t in tokenizer.convert_ids_to_tokens(input_ids, skip_special_tokens=False)]\n",
    "    tokens = [token for token in tokens if token != \"<pad>\"]\n",
    "    tokens = tokens[1:-1]\n",
    "    \n",
    "    sent_1_end = tokens.index(\"</s>\")\n",
    "    sent_2_start = rindex(tokens, \"</s>\") + 1\n",
    "    \n",
    "    sent_1_offsets = get_offsets(tokens[:sent_1_end], start_offset=1)\n",
    "    sent_2_offsets = get_offsets(tokens[sent_2_start:], start_offset=sent_2_start+1)\n",
    "    \n",
    "    return sent_1_offsets, sent_2_offsets"
   ]
  },
  {
   "cell_type": "code",
   "execution_count": 10,
   "metadata": {},
   "outputs": [],
   "source": [
    "from typing import List, Tuple\n",
    "\n",
    "\n",
    "def read_mnli_dataset(path: str) -> List[Tuple[List[str], List[str], str]]:\n",
    "    dataset = []\n",
    "    with open(path) as fin:\n",
    "        fin.readline()\n",
    "        for index, line in enumerate(fin):\n",
    "            tokens = line.strip().split('\\t')\n",
    "            sent1, sent2, target = tokens[8], tokens[9], tokens[-1]\n",
    "            dataset.append((sent1, sent2, target))\n",
    "            \n",
    "    return dataset\n",
    "\n",
    "\n",
    "def dataset_to_input_instances(dataset: List[Tuple[List[str], List[str], str]]) -> List[InputInstance]:\n",
    "    input_instances = []\n",
    "    for idx, (sent1, sent2, _) in enumerate(dataset):\n",
    "        instance = InputInstance(id_=idx, sent1=web_tokenizer(sent1), sent2=web_tokenizer(sent2))\n",
    "        input_instances.append(instance)\n",
    "        \n",
    "    return input_instances\n",
    "\n",
    "\n",
    "def get_labels(dataset: List[Tuple[List[str], List[str], str]]) -> List[str]:\n",
    "    return [label for _, _, label in dataset]"
   ]
  },
  {
   "cell_type": "code",
   "execution_count": 11,
   "metadata": {},
   "outputs": [],
   "source": [
    "def collate_tokens(values, pad_idx, eos_idx=None, left_pad=False, move_eos_to_beginning=False):\n",
    "    \"\"\"Convert a list of 1d tensors into a padded 2d tensor.\"\"\"\n",
    "    size = max(v.size(0) for v in values)\n",
    "    res = values[0].new(len(values), size).fill_(pad_idx)\n",
    "    \n",
    "    def copy_tensor(src, dst):\n",
    "        assert dst.numel() == src.numel()\n",
    "        if move_eos_to_beginning:\n",
    "            assert src[-1] == eos_idx\n",
    "            dst[0] = eos_idx\n",
    "            dst[1:] = src[:-1]\n",
    "        else:\n",
    "            dst.copy_(src)\n",
    "\n",
    "    for i, v in enumerate(values):\n",
    "        copy_tensor(v, res[i][size - len(v):] if left_pad else res[i][:len(v)])\n",
    "    return res"
   ]
  },
  {
   "cell_type": "code",
   "execution_count": 12,
   "metadata": {},
   "outputs": [],
   "source": [
    "def encode_instance(input_instance):\n",
    "    return tokenizer.encode(text=\" \".join(input_instance.sent1.tokens),\n",
    "                            text_pair=\" \".join(input_instance.sent2.tokens),\n",
    "                            add_special_tokens=True,\n",
    "                            return_tensors=\"pt\")[0]"
   ]
  },
  {
   "cell_type": "code",
   "execution_count": 13,
   "metadata": {},
   "outputs": [],
   "source": [
    "#def predict(input_instance, model, tokenizer, cuda_device):\n",
    "#    input_ids = tokenizer.encode(text=input_instance.sent1.tokens,\n",
    "#                                 text_pair=input_instance.sent2.tokens,\n",
    "#                                 add_special_tokens=True,\n",
    "#                                 return_tensors=\"pt\").to(cuda_device)\n",
    "#    \n",
    "#    logits = model(input_ids)[0]\n",
    "#    return F.softmax(logits, dim=-1)\n",
    "\n",
    "def predict(input_instances, model, tokenizer, cuda_device):\n",
    "    if isinstance(input_instances, InputInstance):\n",
    "        input_instances = [input_instances]\n",
    "    \n",
    "    input_ids = [encode_instance(instance) for instance in input_instances]\n",
    "    attention_mask = [torch.ones_like(t) for t in input_ids]\n",
    "    \n",
    "    input_ids = collate_tokens(input_ids, pad_idx=1).to(cuda_device)\n",
    "    attention_mask = collate_tokens(attention_mask, pad_idx=0).to(cuda_device)\n",
    "    \n",
    "    logits = model(input_ids=input_ids, attention_mask=attention_mask)[0]\n",
    "    return F.softmax(logits, dim=-1)"
   ]
  },
  {
   "cell_type": "code",
   "execution_count": 14,
   "metadata": {},
   "outputs": [],
   "source": [
    "dataset = read_mnli_dataset(os.path.join(MNLI_DATASET_PATH, \"dev_matched.tsv\"))\n",
    "input_instances = dataset_to_input_instances(dataset)\n",
    "labels = get_labels(dataset)"
   ]
  },
  {
   "cell_type": "code",
   "execution_count": 15,
   "metadata": {},
   "outputs": [],
   "source": [
    "# batch_size = 100\n",
    "\n",
    "# ncorrect, nsamples = 0, 0\n",
    "# for i in tqdm(range(0, len(input_instances[:1000]), batch_size), total=len(input_instances) // batch_size):\n",
    "#     batch_instances = input_instances[i: i + batch_size]\n",
    "#     with torch.no_grad():\n",
    "#         probs = predict(batch_instances, model, tokenizer, CUDA_DEVICE)\n",
    "#         #print(probs)\n",
    "#         predictions = probs.argmax(dim=-1).cpu().numpy().tolist()\n",
    "#         #print(predictions)\n",
    "#         for batch_idx, instance in enumerate(batch_instances):\n",
    "#             # the instance id is also the position in the list of labels\n",
    "#             idx = instance.id\n",
    "#             true_label = labels[idx]\n",
    "#             pred_label = MNLI_IDX2LABEL[predictions[batch_idx]]\n",
    "#             ncorrect += int(true_label == pred_label)\n",
    "#             nsamples += 1\n",
    "# print('| Accuracy: ', float(ncorrect)/float(nsamples))"
   ]
  },
  {
   "cell_type": "code",
   "execution_count": 16,
   "metadata": {},
   "outputs": [],
   "source": [
    "def batcher(batch_instances):\n",
    "    true_label_indices = []\n",
    "    probabilities = []\n",
    "    with torch.no_grad():\n",
    "        probs = predict(batch_instances, model, tokenizer, CUDA_DEVICE).cpu().numpy().tolist()\n",
    "        for batch_idx, instance in enumerate(batch_instances):\n",
    "            # the instance id is also the position in the list of labels\n",
    "            idx = instance.id\n",
    "            true_label_idx = MNLI_LABEL2IDX[labels[idx]]\n",
    "            true_label_indices.append(true_label_idx)\n",
    "            probabilities.append(probs[batch_idx][true_label_idx])\n",
    "    \n",
    "    return probabilities\n",
    "    \n",
    "    \n",
    "def batcher_gradient(batch_instances):\n",
    "    input_ids = [encode_instance(instance) for instance in batch_instances]\n",
    "    attention_mask = [torch.ones_like(t) for t in input_ids]\n",
    "    \n",
    "    input_ids = collate_tokens(input_ids, pad_idx=1).to(CUDA_DEVICE)\n",
    "    attention_mask = collate_tokens(attention_mask, pad_idx=0).to(CUDA_DEVICE)\n",
    "    \n",
    "    inputs_embeds = model.roberta.embeddings(input_ids=input_ids).detach()\n",
    "\n",
    "    true_label_idx_list = [MNLI_LABEL2IDX[labels[instance.id]] for instance in batch_instances]\n",
    "    true_label_idx_tensor = torch.tensor(true_label_idx_list, dtype=torch.long, device=CUDA_DEVICE)\n",
    "    \n",
    "    # output_getter extracts the first entry of the return tuple and also applies a softmax to the\n",
    "    # log probabilities\n",
    "    explainer = GradxInputExplainer(model=model,\n",
    "                                       input_key=\"inputs_embeds\",\n",
    "                                       output_getter=lambda x: F.softmax(x[0], dim=-1))\n",
    "    inputs_embeds.requires_grad = True\n",
    "    expl = explainer.explain(inp={\"inputs_embeds\": inputs_embeds, \"attention_mask\": attention_mask},\n",
    "                             ind=true_label_idx_tensor)\n",
    "    \n",
    "    input_ids_np = input_ids.cpu().numpy()\n",
    "    expl_np = expl.cpu().numpy()\n",
    "\n",
    "    relevances = []\n",
    "    for b_idx in range(input_ids_np.shape[0]):\n",
    "        sent1_offsets, sent2_offsets = byte_pair_offsets(input_ids_np[b_idx].tolist(), tokenizer)\n",
    "        \n",
    "        relevance_dict = defaultdict(float)\n",
    "        for offsets, sent_id in zip([sent1_offsets, sent2_offsets], [\"sent1\", \"sent2\"]):\n",
    "            for token_idx, (token_start, token_end) in enumerate(zip(offsets, offsets[1:])):\n",
    "                relevance = expl_np[b_idx][token_start: token_end].sum()\n",
    "                relevance_dict[(sent_id, token_idx)] = relevance\n",
    "        relevances.append(relevance_dict)\n",
    "\n",
    "    return relevances\n",
    "    \n",
    "\n",
    "config_unk = Config.from_dict({\n",
    "    \"strategy\": \"unk_replacement\",\n",
    "    \"batch_size\": 128,\n",
    "    \"unk_token\": \"<unk>\"\n",
    "})\n",
    "\n",
    "config_gradient = Config.from_dict({\n",
    "    \"strategy\": \"gradient\",\n",
    "    \"batch_size\": 128\n",
    "})\n",
    "\n",
    "config_resample = Config.from_dict({\n",
    "    \"strategy\": \"bert_lm_sampling\",\n",
    "    \"cuda_device\": 0,\n",
    "    \"bert_model\": \"bert-base-uncased\",\n",
    "    \"batch_size\": 256,\n",
    "    \"n_samples\": 100,\n",
    "    \"verbose\": False\n",
    "})\n",
    "\n",
    "unknown_engine = Engine(config_unk, batcher)\n",
    "resample_engine = Engine(config_resample, batcher)\n",
    "gradient_engine = Engine(config_gradient, batcher_gradient)"
   ]
  },
  {
   "cell_type": "code",
   "execution_count": 17,
   "metadata": {},
   "outputs": [
    {
     "name": "stderr",
     "output_type": "stream",
     "text": [
      "100%|██████████| 5/5 [00:00<00:00, 3554.49it/s]\n",
      "2it [00:01,  1.43it/s]                       \n",
      "100%|██████████| 5/5 [00:01<00:00,  3.58it/s]\n",
      "10it [00:19,  1.96s/it]                      \n",
      "100%|██████████| 5/5 [00:00<00:00, 41943.04it/s]\n",
      "1it [00:00,  5.78it/s]\n"
     ]
    }
   ],
   "source": [
    "instance_idx = 0\n",
    "n = 5\n",
    "\n",
    "unk_candidate_instances, unk_candidate_results = unknown_engine.run(input_instances[instance_idx: instance_idx+n])\n",
    "res_candidate_instances, res_candidate_results = resample_engine.run(input_instances[instance_idx: instance_idx+n])\n",
    "grad_candidate_instances, grad_candidate_results = gradient_engine.run(input_instances[instance_idx: instance_idx+n])"
   ]
  },
  {
   "cell_type": "code",
   "execution_count": 18,
   "metadata": {},
   "outputs": [],
   "source": [
    "unk_relevances = unknown_engine.relevances(unk_candidate_instances, unk_candidate_results)\n",
    "res_relevances = resample_engine.relevances(res_candidate_instances, res_candidate_results)\n",
    "grad_relevances = gradient_engine.relevances(grad_candidate_instances, grad_candidate_results)"
   ]
  },
  {
   "cell_type": "code",
   "execution_count": 19,
   "metadata": {},
   "outputs": [],
   "source": [
    "labels_true = labels[instance_idx: instance_idx+n]\n",
    "labels_pred = [MNLI_IDX2LABEL[predict(instance, model, tokenizer, CUDA_DEVICE)[0].argmax().item()] for instance in input_instances[instance_idx: instance_idx+n]]"
   ]
  },
  {
   "cell_type": "code",
   "execution_count": 23,
   "metadata": {},
   "outputs": [
    {
     "data": {
      "text/html": [
       "<font size=\"5\"><span style=\"color:black; background-color:rgba(255, 255, 0, 0.6);\">neutral &#10004; 0.40</span>:   <span style=\"color:black; background-color:rgba(0, 0, 255, 0.00458536259094665);\">The</span> <span style=\"color:black; background-color:rgba(255, 0, 0, 0.12300556630197247);\">new</span> <span style=\"color:black; background-color:rgba(0, 0, 255, 0.00803440997435855);\">rights</span> <span style=\"color:black; background-color:rgba(0, 0, 255, 0.017127447243248106);\">are</span> <span style=\"color:black; background-color:rgba(255, 0, 0, 0.020022024893279006);\">nice</span> <span style=\"color:black; background-color:rgba(0, 0, 255, 0.007979954446767355);\">enough</span></font></br><font size=\"5\"><span style=\"color:black; background-color:rgba(255, 255, 0, 0.6);\">neutral &#10004; 0.40</span>:   <span style=\"color:white; background-color:rgba(255, 0, 0, 1.0);\">Everyone</span> <span style=\"color:black; background-color:rgba(255, 0, 0, 0.020157571804348393);\">really</span> <span style=\"color:black; background-color:rgba(255, 0, 0, 0.27874112434091053);\">likes</span> <span style=\"color:black; background-color:rgba(255, 0, 0, 0.029219237954082152);\">the</span> <span style=\"color:black; background-color:rgba(255, 0, 0, 0.016578156704067353);\">newest</span> <span style=\"color:black; background-color:rgba(255, 0, 0, 0.0746378115507277);\">benefits</span></font></br><font size=\"5\"><span style=\"color:black; background-color:rgba(255, 255, 0, 0.6);\">contradiction &#10004; 1.00</span>:   <span style=\"color:black; background-color:rgba(255, 0, 0, 6.478583393151179e-05);\">This</span> <span style=\"color:black; background-color:rgba(255, 0, 0, 7.529487243100125e-05);\">site</span> <span style=\"color:black; background-color:rgba(255, 0, 0, 3.3437849771102855e-05);\">includes</span> <span style=\"color:black; background-color:rgba(255, 0, 0, 2.7466805169120202e-06);\">a</span> <span style=\"color:black; background-color:rgba(255, 0, 0, 7.123456210165305e-05);\">list</span> <span style=\"color:black; background-color:rgba(255, 0, 0, 4.657414789546469e-06);\">of</span> <span style=\"color:black; background-color:rgba(255, 0, 0, 4.340949425641389e-05);\">all</span> <span style=\"color:black; background-color:rgba(255, 0, 0, 9.243177043869146e-05);\">award</span> <span style=\"color:black; background-color:rgba(255, 0, 0, 4.00657092793036e-05);\">winners</span> <span style=\"color:black; background-color:rgba(255, 0, 0, 2.686970070892194e-05);\">and</span> <span style=\"color:black; background-color:rgba(255, 0, 0, 0.09576444927284207);\">a</span> <span style=\"color:black; background-color:rgba(255, 0, 0, 0.19892194741962896);\">searchable</span> <span style=\"color:black; background-color:rgba(255, 0, 0, 0.00012097336363616855);\">database</span> <span style=\"color:black; background-color:rgba(255, 0, 0, 0.00019764157632562581);\">of</span> <span style=\"color:black; background-color:rgba(255, 0, 0, 0.0006127485970554599);\">Government</span> <span style=\"color:black; background-color:rgba(255, 0, 0, 0.014317669298864105);\">Executive</span> <span style=\"color:black; background-color:rgba(255, 0, 0, 7.839981562403223e-05);\">articles</span> <span style=\"color:black; background-color:rgba(255, 0, 0, 3.0332906578071877e-05);\">.</span></font></br><font size=\"5\"><span style=\"color:black; background-color:rgba(255, 255, 0, 0.6);\">contradiction &#10004; 1.00</span>:   <span style=\"color:black; background-color:rgba(0, 0, 255, 2.3346784393752174e-05);\">The</span> <span style=\"color:black; background-color:rgba(255, 0, 0, 0.0003098972148428997);\">Government</span> <span style=\"color:black; background-color:rgba(255, 0, 0, 0.00038752079466867416);\">Executive</span> <span style=\"color:black; background-color:rgba(255, 0, 0, 0.0006372895903696085);\">articles</span> <span style=\"color:black; background-color:rgba(255, 0, 0, 0.00011882378757945479);\">housed</span> <span style=\"color:black; background-color:rgba(255, 0, 0, 0.00011488289814214624);\">on</span> <span style=\"color:black; background-color:rgba(255, 0, 0, 0.00010317965072226024);\">the</span> <span style=\"color:black; background-color:rgba(255, 0, 0, 7.422008440264438e-05);\">website</span> <span style=\"color:black; background-color:rgba(0, 0, 255, 1.3016877232322184e-05);\">are</span> <span style=\"color:white; background-color:rgba(255, 0, 0, 1.0);\">not</span> <span style=\"color:black; background-color:rgba(255, 0, 0, 0.0006029560839082083);\">able</span> <span style=\"color:black; background-color:rgba(255, 0, 0, 2.6392017140763327e-05);\">to</span> <span style=\"color:black; background-color:rgba(255, 0, 0, 0.0003135992624961289);\">be</span> <span style=\"color:black; background-color:rgba(255, 0, 0, 0.00021274831916864192);\">searched</span> <span style=\"color:black; background-color:rgba(255, 0, 0, 1.3852823476599754e-05);\">.</span></font></br><font size=\"5\"><span style=\"color:black; background-color:rgba(255, 255, 0, 0.6);\">entailment &#10004; 0.08</span>:   <span style=\"color:black; background-color:rgba(0, 0, 255, 0.0004673230593607306);\">uh</span> <span style=\"color:black; background-color:rgba(0, 0, 255, 0.004840182648401826);\">i</span> <span style=\"color:black; background-color:rgba(255, 0, 0, 0.0013834189497716894);\">don't</span> <span style=\"color:black; background-color:rgba(0, 0, 255, 0.017490011415525114);\">know</span> <span style=\"color:black; background-color:rgba(255, 0, 0, 0.008807077625570776);\">i</span> <span style=\"color:black; background-color:rgba(255, 0, 0, 0.011872859589041097);\">i</span> <span style=\"color:black; background-color:rgba(0, 0, 255, 0.009471318493150685);\">have</span> <span style=\"color:black; background-color:rgba(255, 0, 0, 0.02893193493150685);\">mixed</span> <span style=\"color:black; background-color:rgba(0, 0, 255, 0.03598672945205479);\">emotions</span> <span style=\"color:black; background-color:rgba(255, 0, 0, 0.0024621860730593605);\">about</span> <span style=\"color:black; background-color:rgba(255, 0, 0, 0.015302511415525114);\">him</span> <span style=\"color:black; background-color:rgba(255, 0, 0, 0.017507134703196345);\">uh</span> <span style=\"color:black; background-color:rgba(0, 0, 255, 0.03070704908675799);\">sometimes</span> <span style=\"color:black; background-color:rgba(255, 0, 0, 0.034879423515981736);\">i</span> <span style=\"color:black; background-color:rgba(255, 0, 0, 0.03440425228310502);\">like</span> <span style=\"color:black; background-color:rgba(255, 0, 0, 0.06289740296803653);\">him</span> <span style=\"color:black; background-color:rgba(255, 0, 0, 0.420052796803653);\">but</span> <span style=\"color:black; background-color:rgba(255, 0, 0, 0.10129494863013698);\">at</span> <span style=\"color:black; background-color:rgba(255, 0, 0, 0.12126569634703196);\">the</span> <span style=\"color:black; background-color:rgba(255, 0, 0, 0.11216680936073059);\">same</span> <span style=\"color:black; background-color:rgba(255, 0, 0, 0.1085052796803653);\">times</span> <span style=\"color:black; background-color:rgba(255, 0, 0, 0.008441067351598174);\">i</span> <span style=\"color:black; background-color:rgba(255, 0, 0, 0.04473316210045662);\">love</span> <span style=\"color:black; background-color:rgba(255, 0, 0, 0.04153610159817352);\">to</span> <span style=\"color:black; background-color:rgba(255, 0, 0, 0.04928795662100457);\">see</span> <span style=\"color:black; background-color:rgba(255, 0, 0, 0.04816994863013699);\">somebody</span> <span style=\"color:black; background-color:rgba(255, 0, 0, 0.07066566780821917);\">beat</span> <span style=\"color:black; background-color:rgba(0, 0, 255, 0.009238013698630136);\">him</span></font></br><font size=\"5\"><span style=\"color:black; background-color:rgba(255, 255, 0, 0.6);\">entailment &#10004; 0.08</span>:   <span style=\"color:black; background-color:rgba(255, 0, 0, 0.04254209474885845);\">I</span> <span style=\"color:black; background-color:rgba(0, 0, 255, 0.00568564497716895);\">like</span> <span style=\"color:black; background-color:rgba(0, 0, 255, 0.004216609589041096);\">him</span> <span style=\"color:black; background-color:rgba(255, 0, 0, 0.07951626712328767);\">for</span> <span style=\"color:black; background-color:rgba(255, 0, 0, 0.08602668378995434);\">the</span> <span style=\"color:black; background-color:rgba(0, 0, 255, 0.0014818778538812786);\">most</span> <span style=\"color:black; background-color:rgba(255, 0, 0, 0.10790025684931506);\">part</span> <span style=\"color:black; background-color:rgba(255, 0, 0, 0.01983590182648402);\">,</span> <span style=\"color:white; background-color:rgba(255, 0, 0, 1.0);\">but</span> <span style=\"color:black; background-color:rgba(255, 0, 0, 0.025017123287671233);\">would</span> <span style=\"color:black; background-color:rgba(255, 0, 0, 0.17062714041095892);\">still</span> <span style=\"color:black; background-color:rgba(255, 0, 0, 0.006358447488584475);\">enjoy</span> <span style=\"color:black; background-color:rgba(255, 0, 0, 0.04514269406392694);\">seeing</span> <span style=\"color:black; background-color:rgba(255, 0, 0, 0.024535530821917808);\">someone</span> <span style=\"color:black; background-color:rgba(255, 0, 0, 0.01927511415525114);\">beat</span> <span style=\"color:black; background-color:rgba(0, 0, 255, 0.07435573630136987);\">him</span> <span style=\"color:black; background-color:rgba(0, 0, 255, 0.026192208904109587);\">.</span></font></br><font size=\"5\"><span style=\"color:black; background-color:rgba(255, 255, 0, 0.6);\">contradiction &#10004; 0.47</span>:   <span style=\"color:black; background-color:rgba(255, 0, 0, 0.00034592803161190945);\">yeah</span> <span style=\"color:black; background-color:rgba(255, 0, 0, 0.00016253370334706808);\">i</span> <span style=\"color:black; background-color:rgba(255, 0, 0, 0.00012260416362715843);\">i</span> <span style=\"color:black; background-color:rgba(255, 0, 0, 0.00013386634149687655);\">think</span> <span style=\"color:black; background-color:rgba(255, 0, 0, 0.0003779228551054268);\">my</span> <span style=\"color:black; background-color:rgba(255, 0, 0, 0.0008417198164674541);\">favorite</span> <span style=\"color:black; background-color:rgba(255, 0, 0, 0.0010102685466313035);\">restaurant</span> <span style=\"color:black; background-color:rgba(255, 0, 0, 0.00015306323559298693);\">is</span> <span style=\"color:black; background-color:rgba(255, 0, 0, 0.0006373368839908654);\">always</span> <span style=\"color:black; background-color:rgba(255, 0, 0, 0.00029000108014524116);\">been</span> <span style=\"color:black; background-color:rgba(255, 0, 0, 0.001386271712327119);\">the</span> <span style=\"color:black; background-color:rgba(255, 0, 0, 0.0029463393058710243);\">one</span> <span style=\"color:black; background-color:rgba(255, 0, 0, 0.0006872488086407523);\">closest</span> <span style=\"color:black; background-color:rgba(255, 0, 0, 0.0008048617798029221);\">you</span> <span style=\"color:black; background-color:rgba(255, 0, 0, 0.00044728763243937235);\">know</span> <span style=\"color:black; background-color:rgba(255, 0, 0, 0.000490800592390556);\">the</span> <span style=\"color:black; background-color:rgba(0, 0, 255, 1.3565805161251351e-05);\">closest</span> <span style=\"color:black; background-color:rgba(255, 0, 0, 0.00038624150921374127);\">as</span> <span style=\"color:black; background-color:rgba(255, 0, 0, 0.00014026530619558);\">long</span> <span style=\"color:black; background-color:rgba(255, 0, 0, 2.5211920912891663e-05);\">as</span> <span style=\"color:black; background-color:rgba(255, 0, 0, 4.876011100412042e-05);\">it's</span> <span style=\"color:black; background-color:rgba(255, 0, 0, 0.00044728763243937235);\">it</span> <span style=\"color:black; background-color:rgba(255, 0, 0, 0.0001356580516125135);\">meets</span> <span style=\"color:black; background-color:rgba(255, 0, 0, 4.607254583066496e-06);\">the</span> <span style=\"color:black; background-color:rgba(255, 0, 0, 0.00040134306590268145);\">minimum</span> <span style=\"color:black; background-color:rgba(0, 0, 255, 5.707876511243493e-05);\">criteria</span> <span style=\"color:black; background-color:rgba(255, 0, 0, 2.1116583505721442e-05);\">you</span> <span style=\"color:black; background-color:rgba(255, 0, 0, 2.930725832006188e-05);\">know</span> <span style=\"color:black; background-color:rgba(255, 0, 0, 2.0092749153928887e-05);\">of</span> <span style=\"color:black; background-color:rgba(255, 0, 0, 0.00038061042027888226);\">good</span> <span style=\"color:black; background-color:rgba(255, 0, 0, 9.98238492997741e-06);\">food</span></font></br><font size=\"5\"><span style=\"color:black; background-color:rgba(255, 255, 0, 0.6);\">contradiction &#10004; 0.47</span>:   <span style=\"color:black; background-color:rgba(255, 0, 0, 0.0013041090055957666);\">My</span> <span style=\"color:black; background-color:rgba(255, 0, 0, 0.030751504652559252);\">favorite</span> <span style=\"color:black; background-color:rgba(255, 0, 0, 0.0005747550092375454);\">restaurants</span> <span style=\"color:black; background-color:rgba(0, 0, 255, 6.270985404729398e-05);\">are</span> <span style=\"color:black; background-color:rgba(255, 0, 0, 0.01805775040044721);\">always</span> <span style=\"color:black; background-color:rgba(255, 0, 0, 0.05603279034278486);\">at</span> <span style=\"color:black; background-color:rgba(255, 0, 0, 0.0016284085365260584);\">least</span> <span style=\"color:black; background-color:rgba(255, 0, 0, 0.006831406733041848);\">a</span> <span style=\"color:white; background-color:rgba(255, 0, 0, 1.0);\">hundred</span> <span style=\"color:black; background-color:rgba(255, 0, 0, 0.28046291134464774);\">miles</span> <span style=\"color:black; background-color:rgba(255, 0, 0, 0.005367835527154391);\">away</span> <span style=\"color:black; background-color:rgba(255, 0, 0, 0.0016209857374755623);\">from</span> <span style=\"color:black; background-color:rgba(255, 0, 0, 0.0011807369662047637);\">my</span> <span style=\"color:black; background-color:rgba(0, 0, 255, 0.00025480677430237206);\">house</span> <span style=\"color:black; background-color:rgba(255, 0, 0, 0.00013309846573303212);\">.</span></font></br><font size=\"5\"><span style=\"color:black; background-color:rgba(255, 255, 0, 0.6);\">contradiction &#10004; 0.76</span>:   <span style=\"color:black; background-color:rgba(255, 0, 0, 5.647745270865197e-05);\">i</span> <span style=\"color:white; background-color:rgba(255, 0, 0, 1.0);\">don't</span> <span style=\"color:black; background-color:rgba(255, 0, 0, 5.3344168231056855e-05);\">know</span> <span style=\"color:black; background-color:rgba(0, 0, 255, 1.535309394021607e-05);\">um</span> <span style=\"color:black; background-color:rgba(255, 0, 0, 5.788743072356978e-05);\">do</span> <span style=\"color:black; background-color:rgba(0, 0, 255, 7.402384578318462e-05);\">you</span> <span style=\"color:black; background-color:rgba(0, 0, 255, 6.587730614143732e-05);\">do</span> <span style=\"color:black; background-color:rgba(0, 0, 255, 0.0001028500629770597);\">a</span> <span style=\"color:black; background-color:rgba(0, 0, 255, 0.00010206674185766092);\">lot</span> <span style=\"color:black; background-color:rgba(0, 0, 255, 3.195950167147019e-05);\">of</span> <span style=\"color:black; background-color:rgba(255, 0, 0, 2.1697995007346182e-05);\">camping</span></font></br><font size=\"5\"><span style=\"color:black; background-color:rgba(255, 255, 0, 0.6);\">contradiction &#10004; 0.76</span>:   <span style=\"color:black; background-color:rgba(255, 0, 0, 0.001125319120128286);\">I</span> <span style=\"color:black; background-color:rgba(255, 0, 0, 0.05410422471320949);\">know</span> <span style=\"color:black; background-color:rgba(255, 0, 0, 0.0020378882242278636);\">exactly</span> <span style=\"color:black; background-color:rgba(0, 0, 255, 4.527596070124943e-05);\">.</span></font>"
      ],
      "text/plain": [
       "<IPython.core.display.HTML object>"
      ]
     },
     "execution_count": 23,
     "metadata": {},
     "output_type": "execute_result"
    }
   ],
   "source": [
    "HTML(visualize_relevances(input_instances[instance_idx: instance_idx+n], unk_relevances, labels_true, labels_pred))"
   ]
  },
  {
   "cell_type": "code",
   "execution_count": 22,
   "metadata": {},
   "outputs": [
    {
     "data": {
      "text/html": [
       "<font size=\"5\"><span style=\"color:black; background-color:rgba(255, 255, 0, 0.6);\">neutral &#10004; 0.31</span>:   <span style=\"color:black; background-color:rgba(255, 0, 0, 0.03078855911065214);\">The</span> <span style=\"color:black; background-color:rgba(255, 0, 0, 0.3946441368090235);\">new</span> <span style=\"color:black; background-color:rgba(255, 0, 0, 0.13879366045007016);\">rights</span> <span style=\"color:black; background-color:rgba(255, 0, 0, 0.021349437189510614);\">are</span> <span style=\"color:white; background-color:rgba(255, 0, 0, 1.0);\">nice</span> <span style=\"color:black; background-color:rgba(0, 0, 255, 0.03871130321317243);\">enough</span></font></br><font size=\"5\"><span style=\"color:black; background-color:rgba(255, 255, 0, 0.6);\">neutral &#10004; 0.31</span>:   <span style=\"color:black; background-color:rgba(255, 0, 0, 0.5446082131817856);\">Everyone</span> <span style=\"color:black; background-color:rgba(0, 0, 255, 0.028940813583755436);\">really</span> <span style=\"color:black; background-color:rgba(255, 0, 0, 0.1573696933050874);\">likes</span> <span style=\"color:black; background-color:rgba(255, 0, 0, 0.0005583938639653688);\">the</span> <span style=\"color:black; background-color:rgba(255, 0, 0, 0.021153654082103842);\">newest</span> <span style=\"color:black; background-color:rgba(255, 0, 0, 0.05549149498978667);\">benefits</span></font></br><font size=\"5\"><span style=\"color:black; background-color:rgba(255, 255, 0, 0.6);\">contradiction &#10004; 0.85</span>:   <span style=\"color:black; background-color:rgba(255, 0, 0, 2.6393389996489834e-05);\">This</span> <span style=\"color:black; background-color:rgba(255, 0, 0, 3.595886922280246e-05);\">site</span> <span style=\"color:black; background-color:rgba(255, 0, 0, 6.515117505117e-06);\">includes</span> <span style=\"color:black; background-color:rgba(0, 0, 255, 4.551311064701636e-07);\">a</span> <span style=\"color:black; background-color:rgba(255, 0, 0, 7.421165541109226e-06);\">list</span> <span style=\"color:black; background-color:rgba(255, 0, 0, 0.0);\">of</span> <span style=\"color:black; background-color:rgba(255, 0, 0, 1.1285565768895866e-05);\">all</span> <span style=\"color:black; background-color:rgba(255, 0, 0, 4.4136479519358346e-06);\">award</span> <span style=\"color:black; background-color:rgba(0, 0, 255, 2.105683730129267e-06);\">winners</span> <span style=\"color:black; background-color:rgba(255, 0, 0, 0.0);\">and</span> <span style=\"color:black; background-color:rgba(0, 0, 255, 2.268631904322025e-07);\">a</span> <span style=\"color:black; background-color:rgba(255, 0, 0, 0.13961664050461298);\">searchable</span> <span style=\"color:black; background-color:rgba(255, 0, 0, 6.751884011279121e-05);\">database</span> <span style=\"color:black; background-color:rgba(255, 0, 0, 2.8916277240818007e-06);\">of</span> <span style=\"color:black; background-color:rgba(255, 0, 0, 0.2843767190478161);\">Government</span> <span style=\"color:black; background-color:rgba(255, 0, 0, 0.1684929968476009);\">Executive</span> <span style=\"color:black; background-color:rgba(255, 0, 0, 0.0005482419405720382);\">articles</span> <span style=\"color:black; background-color:rgba(255, 0, 0, 0.0);\">.</span></font></br><font size=\"5\"><span style=\"color:black; background-color:rgba(255, 255, 0, 0.6);\">contradiction &#10004; 0.85</span>:   <span style=\"color:black; background-color:rgba(255, 0, 0, 0.08247972161037437);\">The</span> <span style=\"color:black; background-color:rgba(255, 0, 0, 0.11033649718194999);\">Government</span> <span style=\"color:black; background-color:rgba(255, 0, 0, 0.0518801131754646);\">Executive</span> <span style=\"color:black; background-color:rgba(255, 0, 0, 0.0196266137864192);\">articles</span> <span style=\"color:black; background-color:rgba(255, 0, 0, 0.00014010241851030898);\">housed</span> <span style=\"color:black; background-color:rgba(255, 0, 0, 3.7787119640038092e-06);\">on</span> <span style=\"color:black; background-color:rgba(255, 0, 0, 3.2835461768537484e-06);\">the</span> <span style=\"color:black; background-color:rgba(255, 0, 0, 0.18254975232510767);\">website</span> <span style=\"color:black; background-color:rgba(255, 0, 0, 9.911744095719997e-06);\">are</span> <span style=\"color:white; background-color:rgba(255, 0, 0, 1.0);\">not</span> <span style=\"color:black; background-color:rgba(255, 0, 0, 0.04781141526988113);\">able</span> <span style=\"color:black; background-color:rgba(255, 0, 0, 0.0);\">to</span> <span style=\"color:black; background-color:rgba(255, 0, 0, 0.0);\">be</span> <span style=\"color:black; background-color:rgba(255, 0, 0, 0.058182649467442484);\">searched</span> <span style=\"color:black; background-color:rgba(0, 0, 255, 1.917450495032854e-07);\">.</span></font></br><font size=\"5\"><span style=\"color:black; background-color:rgba(255, 255, 0, 0.6);\">entailment &#10004; 0.69</span>:   <span style=\"color:black; background-color:rgba(255, 0, 0, 1.016220624506781e-05);\">uh</span> <span style=\"color:black; background-color:rgba(0, 0, 255, 7.299398254305706e-05);\">i</span> <span style=\"color:black; background-color:rgba(0, 0, 255, 0.0009867897181822956);\">don't</span> <span style=\"color:black; background-color:rgba(0, 0, 255, 0.0009192518375093603);\">know</span> <span style=\"color:black; background-color:rgba(255, 0, 0, 0.0009171741885591152);\">i</span> <span style=\"color:black; background-color:rgba(255, 0, 0, 0.0023164382797393455);\">i</span> <span style=\"color:black; background-color:rgba(255, 0, 0, 9.220725555709635e-05);\">have</span> <span style=\"color:black; background-color:rgba(255, 0, 0, 0.0054094019683530396);\">mixed</span> <span style=\"color:black; background-color:rgba(0, 0, 255, 0.002835675575616805);\">emotions</span> <span style=\"color:black; background-color:rgba(0, 0, 255, 0.0009795339687430078);\">about</span> <span style=\"color:black; background-color:rgba(255, 0, 0, 0.0008440762802662156);\">him</span> <span style=\"color:black; background-color:rgba(0, 0, 255, 0.001691133497458765);\">uh</span> <span style=\"color:black; background-color:rgba(0, 0, 255, 0.0024609314461226488);\">sometimes</span> <span style=\"color:black; background-color:rgba(255, 0, 0, 0.0);\">i</span> <span style=\"color:black; background-color:rgba(255, 0, 0, 0.6903762968401445);\">like</span> <span style=\"color:black; background-color:rgba(255, 0, 0, 0.0008281435967574862);\">him</span> <span style=\"color:black; background-color:rgba(255, 0, 0, 0.004698038870718198);\">but</span> <span style=\"color:black; background-color:rgba(0, 0, 255, 7.969286317245205e-05);\">at</span> <span style=\"color:black; background-color:rgba(255, 0, 0, 2.718351198409974e-05);\">the</span> <span style=\"color:black; background-color:rgba(255, 0, 0, 0.002560085272013195);\">same</span> <span style=\"color:black; background-color:rgba(255, 0, 0, 0.0013292969461031524);\">times</span> <span style=\"color:black; background-color:rgba(255, 0, 0, 0.0);\">i</span> <span style=\"color:black; background-color:rgba(255, 0, 0, 0.3186685883359307);\">love</span> <span style=\"color:black; background-color:rgba(255, 0, 0, 0.0);\">to</span> <span style=\"color:black; background-color:rgba(255, 0, 0, 0.0005651387014676498);\">see</span> <span style=\"color:black; background-color:rgba(255, 0, 0, 0.010742405519805764);\">somebody</span> <span style=\"color:white; background-color:rgba(255, 0, 0, 0.8102222074195448);\">beat</span> <span style=\"color:black; background-color:rgba(0, 0, 255, 0.0002327685644023775);\">him</span></font></br><font size=\"5\"><span style=\"color:black; background-color:rgba(255, 255, 0, 0.6);\">entailment &#10004; 0.69</span>:   <span style=\"color:black; background-color:rgba(255, 0, 0, 0.011696268096225737);\">I</span> <span style=\"color:white; background-color:rgba(255, 0, 0, 1.0);\">like</span> <span style=\"color:black; background-color:rgba(255, 0, 0, 0.22557727794050167);\">him</span> <span style=\"color:black; background-color:rgba(255, 0, 0, 0.0);\">for</span> <span style=\"color:black; background-color:rgba(255, 0, 0, 0.0);\">the</span> <span style=\"color:black; background-color:rgba(255, 0, 0, 0.0);\">most</span> <span style=\"color:black; background-color:rgba(255, 0, 0, 0.0);\">part</span> <span style=\"color:black; background-color:rgba(255, 0, 0, 2.173780268696196e-07);\">,</span> <span style=\"color:black; background-color:rgba(255, 0, 0, 0.015124445157212745);\">but</span> <span style=\"color:black; background-color:rgba(255, 0, 0, 0.003056903185491859);\">would</span> <span style=\"color:black; background-color:rgba(255, 0, 0, 0.6554361361442314);\">still</span> <span style=\"color:black; background-color:rgba(255, 0, 0, 0.456624960315944);\">enjoy</span> <span style=\"color:black; background-color:rgba(255, 0, 0, 0.0022773353502889095);\">seeing</span> <span style=\"color:black; background-color:rgba(255, 0, 0, 0.2689323941787205);\">someone</span> <span style=\"color:black; background-color:rgba(255, 0, 0, 0.434562859273069);\">beat</span> <span style=\"color:black; background-color:rgba(255, 0, 0, 0.022089950762218324);\">him</span> <span style=\"color:black; background-color:rgba(255, 0, 0, 7.541285437211856e-05);\">.</span></font></br><font size=\"5\"><span style=\"color:black; background-color:rgba(255, 255, 0, 0.6);\">contradiction &#10004; 0.87</span>:   <span style=\"color:black; background-color:rgba(255, 0, 0, 8.461956693167871e-05);\">yeah</span> <span style=\"color:black; background-color:rgba(255, 0, 0, 5.7637657239398515e-05);\">i</span> <span style=\"color:black; background-color:rgba(0, 0, 255, 2.2157470502113278e-05);\">i</span> <span style=\"color:black; background-color:rgba(0, 0, 255, 1.379145436102208e-05);\">think</span> <span style=\"color:black; background-color:rgba(255, 0, 0, 0.00014912656769965486);\">my</span> <span style=\"color:black; background-color:rgba(255, 0, 0, 2.435793559291675e-05);\">favorite</span> <span style=\"color:black; background-color:rgba(255, 0, 0, 0.006117780193493833);\">restaurant</span> <span style=\"color:black; background-color:rgba(255, 0, 0, 1.0846764701879887e-05);\">is</span> <span style=\"color:black; background-color:rgba(255, 0, 0, 0.01954939409493499);\">always</span> <span style=\"color:black; background-color:rgba(255, 0, 0, 0.03271740940216838);\">been</span> <span style=\"color:black; background-color:rgba(0, 0, 255, 1.7796972410682799e-06);\">the</span> <span style=\"color:black; background-color:rgba(255, 0, 0, 0.00042367621912919336);\">one</span> <span style=\"color:black; background-color:rgba(255, 0, 0, 0.00013237192085876356);\">closest</span> <span style=\"color:black; background-color:rgba(255, 0, 0, 4.79819259625133e-05);\">you</span> <span style=\"color:black; background-color:rgba(255, 0, 0, 2.325393395441814e-05);\">know</span> <span style=\"color:black; background-color:rgba(0, 0, 255, 2.1791525824916742e-05);\">the</span> <span style=\"color:black; background-color:rgba(0, 0, 255, 6.140743564633884e-05);\">closest</span> <span style=\"color:black; background-color:rgba(0, 0, 255, 7.288055509513344e-06);\">as</span> <span style=\"color:black; background-color:rgba(255, 0, 0, 7.079042163994318e-06);\">long</span> <span style=\"color:black; background-color:rgba(255, 0, 0, 0.0);\">as</span> <span style=\"color:black; background-color:rgba(255, 0, 0, 9.092765823064353e-05);\">it's</span> <span style=\"color:black; background-color:rgba(255, 0, 0, 1.0592522238943072e-05);\">it</span> <span style=\"color:black; background-color:rgba(255, 0, 0, 1.8517897130159676e-05);\">meets</span> <span style=\"color:black; background-color:rgba(0, 0, 255, 6.770661818544156e-07);\">the</span> <span style=\"color:black; background-color:rgba(255, 0, 0, 1.986860304540135e-05);\">minimum</span> <span style=\"color:black; background-color:rgba(0, 0, 255, 3.59352190700326e-05);\">criteria</span> <span style=\"color:black; background-color:rgba(0, 0, 255, 1.6519592488323854e-05);\">you</span> <span style=\"color:black; background-color:rgba(255, 0, 0, 2.893155876835872e-05);\">know</span> <span style=\"color:black; background-color:rgba(0, 0, 255, 2.8717748395215435e-05);\">of</span> <span style=\"color:black; background-color:rgba(255, 0, 0, 0.00012869876829356782);\">good</span> <span style=\"color:black; background-color:rgba(255, 0, 0, 5.117057873970143e-06);\">food</span></font></br><font size=\"5\"><span style=\"color:black; background-color:rgba(255, 255, 0, 0.6);\">contradiction &#10004; 0.87</span>:   <span style=\"color:black; background-color:rgba(255, 0, 0, 5.409265384013473e-05);\">My</span> <span style=\"color:black; background-color:rgba(255, 0, 0, 0.0010497499974987177);\">favorite</span> <span style=\"color:black; background-color:rgba(255, 0, 0, 0.027739221922384087);\">restaurants</span> <span style=\"color:black; background-color:rgba(255, 0, 0, 5.0709378800172705e-05);\">are</span> <span style=\"color:black; background-color:rgba(255, 0, 0, 0.05344101682481263);\">always</span> <span style=\"color:black; background-color:rgba(255, 0, 0, 0.0);\">at</span> <span style=\"color:black; background-color:rgba(255, 0, 0, 0.0);\">least</span> <span style=\"color:black; background-color:rgba(255, 0, 0, 8.369442589430707e-06);\">a</span> <span style=\"color:black; background-color:rgba(255, 0, 0, 0.19790292192974476);\">hundred</span> <span style=\"color:white; background-color:rgba(255, 0, 0, 1.0);\">miles</span> <span style=\"color:black; background-color:rgba(255, 0, 0, 0.0);\">away</span> <span style=\"color:black; background-color:rgba(255, 0, 0, 0.0);\">from</span> <span style=\"color:black; background-color:rgba(255, 0, 0, 6.03932069529058e-05);\">my</span> <span style=\"color:black; background-color:rgba(255, 0, 0, 9.22509525596797e-05);\">house</span> <span style=\"color:black; background-color:rgba(0, 0, 255, 2.8919223559135935e-07);\">.</span></font></br><font size=\"5\"><span style=\"color:black; background-color:rgba(255, 255, 0, 0.6);\">contradiction &#10004; 0.82</span>:   <span style=\"color:black; background-color:rgba(255, 0, 0, 1.0613277038720242e-05);\">i</span> <span style=\"color:white; background-color:rgba(255, 0, 0, 1.0);\">don't</span> <span style=\"color:black; background-color:rgba(255, 0, 0, 0.00025285608288515597);\">know</span> <span style=\"color:black; background-color:rgba(0, 0, 255, 7.006903558693793e-05);\">um</span> <span style=\"color:black; background-color:rgba(255, 0, 0, 7.01484021619286e-05);\">do</span> <span style=\"color:black; background-color:rgba(255, 0, 0, 1.576409494323541e-06);\">you</span> <span style=\"color:black; background-color:rgba(255, 0, 0, 8.69537283181342e-05);\">do</span> <span style=\"color:black; background-color:rgba(255, 0, 0, 0.0);\">a</span> <span style=\"color:black; background-color:rgba(0, 0, 255, 5.402752169774575e-07);\">lot</span> <span style=\"color:black; background-color:rgba(255, 0, 0, 5.78866303855981e-07);\">of</span> <span style=\"color:black; background-color:rgba(0, 0, 255, 1.537964034117072e-05);\">camping</span></font></br><font size=\"5\"><span style=\"color:black; background-color:rgba(255, 255, 0, 0.6);\">contradiction &#10004; 0.82</span>:   <span style=\"color:black; background-color:rgba(255, 0, 0, 0.00022599231758146555);\">I</span> <span style=\"color:black; background-color:rgba(255, 0, 0, 0.08320576733716763);\">know</span> <span style=\"color:black; background-color:rgba(255, 0, 0, 0.004447323505419871);\">exactly</span> <span style=\"color:black; background-color:rgba(0, 0, 255, 1.5582061518401585e-07);\">.</span></font>"
      ],
      "text/plain": [
       "<IPython.core.display.HTML object>"
      ]
     },
     "execution_count": 22,
     "metadata": {},
     "output_type": "execute_result"
    }
   ],
   "source": [
    "HTML(visualize_relevances(input_instances[instance_idx: instance_idx+n], res_relevances, labels_true, labels_pred))"
   ]
  },
  {
   "cell_type": "code",
   "execution_count": 20,
   "metadata": {},
   "outputs": [
    {
     "data": {
      "text/html": [
       "<font size=\"5\"><span style=\"color:black; background-color:rgba(255, 255, 0, 0.6);\">neutral &#10004; 0.00</span>:   <span style=\"color:black; background-color:rgba(255, 0, 0, 0.20879226922988892);\">The</span> <span style=\"color:black; background-color:rgba(255, 0, 0, 0.20444904267787933);\">new</span> <span style=\"color:black; background-color:rgba(0, 0, 255, 0.08431914448738098);\">rights</span> <span style=\"color:black; background-color:rgba(0, 0, 255, 0.11407092213630676);\">are</span> <span style=\"color:black; background-color:rgba(0, 0, 255, 0.7473740577697754);\">nice</span> <span style=\"color:black; background-color:rgba(0, 0, 255, 1.0);\">enough</span></font></br><font size=\"5\"><span style=\"color:black; background-color:rgba(255, 255, 0, 0.6);\">neutral &#10004; 0.00</span>:   <span style=\"color:black; background-color:rgba(255, 0, 0, 0.04265078529715538);\">Everyone</span> <span style=\"color:black; background-color:rgba(255, 0, 0, 0.18266254663467407);\">really</span> <span style=\"color:black; background-color:rgba(255, 0, 0, 0.025537027046084404);\">likes</span> <span style=\"color:black; background-color:rgba(255, 0, 0, 0.31937527656555176);\">the</span> <span style=\"color:black; background-color:rgba(255, 0, 0, 0.34548237919807434);\">newest</span> <span style=\"color:black; background-color:rgba(0, 0, 255, 0.9342002272605896);\">benefits</span></font></br><font size=\"5\"><span style=\"color:black; background-color:rgba(255, 255, 0, 0.6);\">contradiction &#10004; 0.00</span>:   <span style=\"color:black; background-color:rgba(255, 0, 0, 0.09401434659957886);\">This</span> <span style=\"color:black; background-color:rgba(255, 0, 0, 0.2634359896183014);\">site</span> <span style=\"color:black; background-color:rgba(255, 0, 0, 0.08066770434379578);\">includes</span> <span style=\"color:black; background-color:rgba(0, 0, 255, 0.020368700847029686);\">a</span> <span style=\"color:black; background-color:rgba(255, 0, 0, 0.07011869549751282);\">list</span> <span style=\"color:black; background-color:rgba(0, 0, 255, 0.013860181905329227);\">of</span> <span style=\"color:black; background-color:rgba(255, 0, 0, 0.011176124215126038);\">all</span> <span style=\"color:black; background-color:rgba(255, 0, 0, 0.03594245761632919);\">award</span> <span style=\"color:black; background-color:rgba(0, 0, 255, 0.2658337354660034);\">winners</span> <span style=\"color:black; background-color:rgba(0, 0, 255, 0.034971266984939575);\">and</span> <span style=\"color:black; background-color:rgba(255, 0, 0, 0.02064242586493492);\">a</span> <span style=\"color:white; background-color:rgba(255, 0, 0, 1.0);\">searchable</span> <span style=\"color:black; background-color:rgba(0, 0, 255, 0.05771506577730179);\">database</span> <span style=\"color:black; background-color:rgba(255, 0, 0, 0.1101163998246193);\">of</span> <span style=\"color:black; background-color:rgba(255, 0, 0, 0.03657428175210953);\">Government</span> <span style=\"color:black; background-color:rgba(255, 0, 0, 0.101325623691082);\">Executive</span> <span style=\"color:black; background-color:rgba(0, 0, 255, 0.21896477043628693);\">articles</span> <span style=\"color:black; background-color:rgba(0, 0, 255, 0.025438614189624786);\">.</span></font></br><font size=\"5\"><span style=\"color:black; background-color:rgba(255, 255, 0, 0.6);\">contradiction &#10004; 0.00</span>:   <span style=\"color:black; background-color:rgba(255, 0, 0, 0.04265764355659485);\">The</span> <span style=\"color:black; background-color:rgba(255, 0, 0, 0.1461704671382904);\">Government</span> <span style=\"color:black; background-color:rgba(255, 0, 0, 0.1332583874464035);\">Executive</span> <span style=\"color:black; background-color:rgba(0, 0, 255, 0.19401006400585175);\">articles</span> <span style=\"color:black; background-color:rgba(255, 0, 0, 0.06901023536920547);\">housed</span> <span style=\"color:black; background-color:rgba(0, 0, 255, 0.027294408529996872);\">on</span> <span style=\"color:black; background-color:rgba(255, 0, 0, 0.02199479006230831);\">the</span> <span style=\"color:black; background-color:rgba(255, 0, 0, 0.012736445292830467);\">website</span> <span style=\"color:black; background-color:rgba(255, 0, 0, 0.06491687893867493);\">are</span> <span style=\"color:black; background-color:rgba(0, 0, 255, 0.2564398944377899);\">not</span> <span style=\"color:black; background-color:rgba(255, 0, 0, 0.31862905621528625);\">able</span> <span style=\"color:black; background-color:rgba(255, 0, 0, 0.23186171054840088);\">to</span> <span style=\"color:black; background-color:rgba(0, 0, 255, 0.03617977350950241);\">be</span> <span style=\"color:black; background-color:rgba(0, 0, 255, 0.008644847199320793);\">searched</span> <span style=\"color:black; background-color:rgba(0, 0, 255, 0.14010141789913177);\">.</span></font></br><font size=\"5\"><span style=\"color:black; background-color:rgba(255, 255, 0, 0.6);\">entailment &#10004; 0.00</span>:   <span style=\"color:black; background-color:rgba(0, 0, 255, 0.0845058262348175);\">uh</span> <span style=\"color:black; background-color:rgba(255, 0, 0, 0.002602809341624379);\">i</span> <span style=\"color:black; background-color:rgba(255, 0, 0, 0.10206903517246246);\">don't</span> <span style=\"color:black; background-color:rgba(0, 0, 255, 0.019549371674656868);\">know</span> <span style=\"color:black; background-color:rgba(0, 0, 255, 0.06100451946258545);\">i</span> <span style=\"color:black; background-color:rgba(0, 0, 255, 0.056691572070121765);\">i</span> <span style=\"color:black; background-color:rgba(0, 0, 255, 0.09397214651107788);\">have</span> <span style=\"color:black; background-color:rgba(0, 0, 255, 0.33309704065322876);\">mixed</span> <span style=\"color:black; background-color:rgba(255, 0, 0, 0.026415424421429634);\">emotions</span> <span style=\"color:black; background-color:rgba(0, 0, 255, 0.03698143735527992);\">about</span> <span style=\"color:black; background-color:rgba(255, 0, 0, 0.01286818366497755);\">him</span> <span style=\"color:black; background-color:rgba(255, 0, 0, 0.20086653530597687);\">uh</span> <span style=\"color:black; background-color:rgba(255, 0, 0, 0.17501947283744812);\">sometimes</span> <span style=\"color:black; background-color:rgba(0, 0, 255, 0.04345307499170303);\">i</span> <span style=\"color:black; background-color:rgba(255, 0, 0, 0.030105488374829292);\">like</span> <span style=\"color:black; background-color:rgba(255, 0, 0, 0.006353049539029598);\">him</span> <span style=\"color:black; background-color:rgba(255, 0, 0, 0.07982944697141647);\">but</span> <span style=\"color:black; background-color:rgba(255, 0, 0, 0.04676006734371185);\">at</span> <span style=\"color:black; background-color:rgba(0, 0, 255, 0.24206343293190002);\">the</span> <span style=\"color:black; background-color:rgba(255, 0, 0, 0.10046926140785217);\">same</span> <span style=\"color:black; background-color:rgba(0, 0, 255, 0.014205864630639553);\">times</span> <span style=\"color:black; background-color:rgba(255, 0, 0, 0.110423244535923);\">i</span> <span style=\"color:black; background-color:rgba(255, 0, 0, 0.12306562811136246);\">love</span> <span style=\"color:black; background-color:rgba(255, 0, 0, 0.608494758605957);\">to</span> <span style=\"color:black; background-color:rgba(0, 0, 255, 0.16704897582530975);\">see</span> <span style=\"color:black; background-color:rgba(0, 0, 255, 0.037727583199739456);\">somebody</span> <span style=\"color:black; background-color:rgba(0, 0, 255, 0.0022879939060658216);\">beat</span> <span style=\"color:black; background-color:rgba(0, 0, 255, 0.5643975734710693);\">him</span></font></br><font size=\"5\"><span style=\"color:black; background-color:rgba(255, 255, 0, 0.6);\">entailment &#10004; 0.00</span>:   <span style=\"color:white; background-color:rgba(255, 0, 0, 1.0);\">I</span> <span style=\"color:black; background-color:rgba(255, 0, 0, 0.1857471466064453);\">like</span> <span style=\"color:black; background-color:rgba(255, 0, 0, 0.23213331401348114);\">him</span> <span style=\"color:black; background-color:rgba(255, 0, 0, 0.05707565322518349);\">for</span> <span style=\"color:black; background-color:rgba(0, 0, 255, 0.33660969138145447);\">the</span> <span style=\"color:black; background-color:rgba(0, 0, 255, 0.21431943774223328);\">most</span> <span style=\"color:black; background-color:rgba(0, 0, 255, 0.2805846333503723);\">part</span> <span style=\"color:black; background-color:rgba(255, 0, 0, 0.0019426324870437384);\">,</span> <span style=\"color:black; background-color:rgba(255, 0, 0, 0.013047456741333008);\">but</span> <span style=\"color:black; background-color:rgba(255, 0, 0, 0.010462664999067783);\">would</span> <span style=\"color:black; background-color:rgba(255, 0, 0, 0.2006990909576416);\">still</span> <span style=\"color:black; background-color:rgba(255, 0, 0, 0.0787644013762474);\">enjoy</span> <span style=\"color:black; background-color:rgba(0, 0, 255, 0.06273318827152252);\">seeing</span> <span style=\"color:black; background-color:rgba(255, 0, 0, 0.016920192167162895);\">someone</span> <span style=\"color:black; background-color:rgba(255, 0, 0, 0.0795106589794159);\">beat</span> <span style=\"color:black; background-color:rgba(255, 0, 0, 0.0213855542242527);\">him</span> <span style=\"color:black; background-color:rgba(0, 0, 255, 0.19940491020679474);\">.</span></font></br><font size=\"5\"><span style=\"color:black; background-color:rgba(255, 255, 0, 0.6);\">contradiction &#10004; 0.00</span>:   <span style=\"color:black; background-color:rgba(0, 0, 255, 0.11887802183628082);\">yeah</span> <span style=\"color:black; background-color:rgba(255, 0, 0, 0.09634819626808167);\">i</span> <span style=\"color:black; background-color:rgba(0, 0, 255, 0.013272427953779697);\">i</span> <span style=\"color:black; background-color:rgba(0, 0, 255, 0.03264157101511955);\">think</span> <span style=\"color:black; background-color:rgba(0, 0, 255, 0.12915116548538208);\">my</span> <span style=\"color:black; background-color:rgba(0, 0, 255, 0.006367560941725969);\">favorite</span> <span style=\"color:black; background-color:rgba(0, 0, 255, 0.0488428920507431);\">restaurant</span> <span style=\"color:black; background-color:rgba(0, 0, 255, 0.03075518272817135);\">is</span> <span style=\"color:black; background-color:rgba(255, 0, 0, 0.03860662505030632);\">always</span> <span style=\"color:black; background-color:rgba(255, 0, 0, 0.019049953669309616);\">been</span> <span style=\"color:black; background-color:rgba(255, 0, 0, 0.11412398517131805);\">the</span> <span style=\"color:black; background-color:rgba(255, 0, 0, 0.16462640464305878);\">one</span> <span style=\"color:black; background-color:rgba(255, 0, 0, 0.4106270670890808);\">closest</span> <span style=\"color:black; background-color:rgba(255, 0, 0, 0.15349435806274414);\">you</span> <span style=\"color:black; background-color:rgba(0, 0, 255, 0.12592089176177979);\">know</span> <span style=\"color:black; background-color:rgba(0, 0, 255, 0.11940395087003708);\">the</span> <span style=\"color:black; background-color:rgba(0, 0, 255, 0.02248079515993595);\">closest</span> <span style=\"color:black; background-color:rgba(255, 0, 0, 0.0027400655671954155);\">as</span> <span style=\"color:black; background-color:rgba(0, 0, 255, 0.01707904413342476);\">long</span> <span style=\"color:black; background-color:rgba(0, 0, 255, 0.04298756271600723);\">as</span> <span style=\"color:black; background-color:rgba(0, 0, 255, 0.16551747918128967);\">it's</span> <span style=\"color:black; background-color:rgba(0, 0, 255, 0.10193805396556854);\">it</span> <span style=\"color:black; background-color:rgba(255, 0, 0, 0.007542731706053019);\">meets</span> <span style=\"color:black; background-color:rgba(0, 0, 255, 0.08821992576122284);\">the</span> <span style=\"color:black; background-color:rgba(0, 0, 255, 0.2218683511018753);\">minimum</span> <span style=\"color:black; background-color:rgba(255, 0, 0, 0.11226107180118561);\">criteria</span> <span style=\"color:black; background-color:rgba(0, 0, 255, 0.012595127336680889);\">you</span> <span style=\"color:black; background-color:rgba(0, 0, 255, 0.13237938284873962);\">know</span> <span style=\"color:black; background-color:rgba(0, 0, 255, 0.08508985489606857);\">of</span> <span style=\"color:black; background-color:rgba(0, 0, 255, 0.050129227340221405);\">good</span> <span style=\"color:black; background-color:rgba(0, 0, 255, 0.0661897286772728);\">food</span></font></br><font size=\"5\"><span style=\"color:black; background-color:rgba(255, 255, 0, 0.6);\">contradiction &#10004; 0.00</span>:   <span style=\"color:black; background-color:rgba(0, 0, 255, 0.0934872180223465);\">My</span> <span style=\"color:black; background-color:rgba(0, 0, 255, 0.11782795935869217);\">favorite</span> <span style=\"color:black; background-color:rgba(255, 0, 0, 0.34008824825286865);\">restaurants</span> <span style=\"color:black; background-color:rgba(0, 0, 255, 0.0006402774597518146);\">are</span> <span style=\"color:black; background-color:rgba(255, 0, 0, 0.0438542515039444);\">always</span> <span style=\"color:black; background-color:rgba(255, 0, 0, 0.02390545792877674);\">at</span> <span style=\"color:black; background-color:rgba(255, 0, 0, 0.2570365369319916);\">least</span> <span style=\"color:black; background-color:rgba(255, 0, 0, 0.0944569781422615);\">a</span> <span style=\"color:black; background-color:rgba(0, 0, 255, 1.0);\">hundred</span> <span style=\"color:black; background-color:rgba(255, 0, 0, 0.5923100113868713);\">miles</span> <span style=\"color:black; background-color:rgba(0, 0, 255, 0.2229413092136383);\">away</span> <span style=\"color:black; background-color:rgba(0, 0, 255, 0.2835354804992676);\">from</span> <span style=\"color:black; background-color:rgba(0, 0, 255, 0.0337236262857914);\">my</span> <span style=\"color:black; background-color:rgba(0, 0, 255, 0.4364076852798462);\">house</span> <span style=\"color:black; background-color:rgba(255, 0, 0, 0.06124227121472359);\">.</span></font></br><font size=\"5\"><span style=\"color:black; background-color:rgba(255, 255, 0, 0.6);\">contradiction &#10004; 0.00</span>:   <span style=\"color:black; background-color:rgba(0, 0, 255, 0.7544891834259033);\">i</span> <span style=\"color:black; background-color:rgba(255, 0, 0, 0.011175207793712616);\">don't</span> <span style=\"color:black; background-color:rgba(255, 0, 0, 0.15709416568279266);\">know</span> <span style=\"color:black; background-color:rgba(255, 0, 0, 0.008331436663866043);\">um</span> <span style=\"color:black; background-color:rgba(0, 0, 255, 0.1016472727060318);\">do</span> <span style=\"color:black; background-color:rgba(0, 0, 255, 0.16907189786434174);\">you</span> <span style=\"color:black; background-color:rgba(0, 0, 255, 0.028485005721449852);\">do</span> <span style=\"color:black; background-color:rgba(0, 0, 255, 0.13547484576702118);\">a</span> <span style=\"color:black; background-color:rgba(255, 0, 0, 0.1466716229915619);\">lot</span> <span style=\"color:black; background-color:rgba(255, 0, 0, 0.013802495785057545);\">of</span> <span style=\"color:black; background-color:rgba(255, 0, 0, 0.30036473274230957);\">camping</span></font></br><font size=\"5\"><span style=\"color:black; background-color:rgba(255, 255, 0, 0.6);\">contradiction &#10004; 0.00</span>:   <span style=\"color:black; background-color:rgba(0, 0, 255, 0.018826626241207123);\">I</span> <span style=\"color:black; background-color:rgba(255, 0, 0, 0.28979381918907166);\">know</span> <span style=\"color:black; background-color:rgba(0, 0, 255, 0.020661547780036926);\">exactly</span> <span style=\"color:white; background-color:rgba(255, 0, 0, 1.0);\">.</span></font>"
      ],
      "text/plain": [
       "<IPython.core.display.HTML object>"
      ]
     },
     "execution_count": 20,
     "metadata": {},
     "output_type": "execute_result"
    }
   ],
   "source": [
    "HTML(visualize_relevances(input_instances[instance_idx: instance_idx+n], grad_relevances, labels_true, labels_pred))"
   ]
  },
  {
   "cell_type": "code",
   "execution_count": 21,
   "metadata": {},
   "outputs": [
    {
     "name": "stdout",
     "output_type": "stream",
     "text": [
      "0.5377059620115671\n",
      "-0.0936591304083674\n",
      "0.02276684356083297\n"
     ]
    }
   ],
   "source": [
    "print(calculate_correlation(unk_relevances, res_relevances))\n",
    "print(calculate_correlation(unk_relevances, grad_relevances))\n",
    "print(calculate_correlation(res_relevances, grad_relevances))"
   ]
  },
  {
   "cell_type": "code",
   "execution_count": null,
   "metadata": {},
   "outputs": [],
   "source": []
  }
 ],
 "metadata": {
  "kernelspec": {
   "display_name": "Python 3",
   "language": "python",
   "name": "python3"
  },
  "language_info": {
   "codemirror_mode": {
    "name": "ipython",
    "version": 3
   },
   "file_extension": ".py",
   "mimetype": "text/x-python",
   "name": "python",
   "nbconvert_exporter": "python",
   "pygments_lexer": "ipython3",
   "version": "3.7.4"
  }
 },
 "nbformat": 4,
 "nbformat_minor": 4
}
