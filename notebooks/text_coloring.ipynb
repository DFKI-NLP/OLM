{
 "cells": [
  {
   "cell_type": "code",
   "execution_count": 1,
   "metadata": {},
   "outputs": [],
   "source": [
    "%load_ext autoreload\n",
    "%autoreload 2"
   ]
  },
  {
   "cell_type": "code",
   "execution_count": 2,
   "metadata": {},
   "outputs": [],
   "source": [
    "import sys\n",
    "sys.path.append(\"../\")\n",
    "sys.path.append(\"../experiments/\")"
   ]
  },
  {
   "cell_type": "code",
   "execution_count": 3,
   "metadata": {},
   "outputs": [],
   "source": [
    "import os\n",
    "from pathlib import Path\n",
    "\n",
    "import dill\n",
    "import numpy as np\n",
    "from typing import List, Tuple, Dict, Any"
   ]
  },
  {
   "cell_type": "code",
   "execution_count": 4,
   "metadata": {},
   "outputs": [],
   "source": [
    "from xbert import InputInstance, Config\n",
    "from segtok.tokenizer import web_tokenizer"
   ]
  },
  {
   "cell_type": "code",
   "execution_count": 5,
   "metadata": {},
   "outputs": [],
   "source": [
    "RESULTS_DIR = \"/raid/calt/xbert/\"\n",
    "DATASET_DIR = \"../data/glue_data/\"\n",
    "\n",
    "STRATEGY_NAME_MAPPING = {\n",
    "    \"unk\": \"Unk\",\n",
    "    \"delete\": \"Delete\",\n",
    "    \"resampling\": \"OLM\",\n",
    "    \"resampling_std\": \"OLM-S\",\n",
    "    \"grad\": \"Grad.\",\n",
    "    \"gradxinput\": \"Grad*Input\",\n",
    "    \"saliency\": \"Sensitivity\",\n",
    "    \"integratedgrad\": \"Integr. grad\"\n",
    "}"
   ]
  },
  {
   "cell_type": "code",
   "execution_count": 6,
   "metadata": {},
   "outputs": [],
   "source": [
    "def experiment_load_relevances(experiment_dir: str,\n",
    "                               relevance_filename: str = \"relevances.pkl\"):\n",
    "    path = Path(experiment_dir)\n",
    "    \n",
    "    experiment_relevances = {}\n",
    "    for relevance_file in path.glob(f\"**/{relevance_filename}\"):\n",
    "        name = relevance_file.parents[0].name\n",
    "        with relevance_file.open(\"rb\") as f:\n",
    "            relevances = dill.load(f)\n",
    "            experiment_relevances[name] = relevances\n",
    "            \n",
    "    return experiment_relevances"
   ]
  },
  {
   "cell_type": "code",
   "execution_count": 7,
   "metadata": {},
   "outputs": [],
   "source": [
    "SST2_RESULTS_PATH = os.path.join(RESULTS_DIR, \"sst2\")\n",
    "SST2_DATA_PATH = os.path.join(DATASET_DIR, \"SST-2/dev.tsv\")"
   ]
  },
  {
   "cell_type": "code",
   "execution_count": 8,
   "metadata": {},
   "outputs": [],
   "source": [
    "sst2_experiment_relevances = experiment_load_relevances(SST2_RESULTS_PATH)"
   ]
  },
  {
   "cell_type": "code",
   "execution_count": 9,
   "metadata": {},
   "outputs": [],
   "source": [
    "def read_sst2_dataset(path: str) -> List[Tuple[List[str], str]]:\n",
    "    dataset = []\n",
    "    with open(path) as fin:\n",
    "        fin.readline()\n",
    "        for index, line in enumerate(fin):\n",
    "            tokens = line.strip().split('\\t')\n",
    "            sent, target = tokens[0], tokens[1]\n",
    "            dataset.append((sent, target))\n",
    "            \n",
    "    return dataset\n",
    "\n",
    "\n",
    "def dataset_to_input_instances(dataset: List[Tuple[List[str], str]]) -> List[InputInstance]:\n",
    "    input_instances = []\n",
    "    for idx, (sent, _) in enumerate(dataset):\n",
    "        instance = InputInstance(id_=idx, sent=web_tokenizer(sent))\n",
    "        input_instances.append(instance)\n",
    "        \n",
    "    return input_instances"
   ]
  },
  {
   "cell_type": "code",
   "execution_count": 10,
   "metadata": {},
   "outputs": [],
   "source": [
    "dataset = read_sst2_dataset(SST2_DATA_PATH)\n",
    "input_instances = dataset_to_input_instances(dataset)"
   ]
  },
  {
   "cell_type": "code",
   "execution_count": 11,
   "metadata": {},
   "outputs": [],
   "source": [
    "def relevance_to_colored_text(relevance_dict, input_instances, method, idx):\n",
    "    output_text = ''\n",
    "    \n",
    "    sentence_relevance_dict = relevance_dict[method][idx]\n",
    "    sentence_value_list = list(sentence_relevance_dict.values())\n",
    "    norm_sentence_value_list = sentence_value_list/np.abs(np.array(sentence_value_list)).max()\n",
    "\n",
    "    for word, score in zip(input_instances[idx].token_fields['sent']._tokens, norm_sentence_value_list):\n",
    "        red = 255 * min(1, 1+score)\n",
    "        green = 255 * (1-abs(score))\n",
    "        blue = 255 * min(1, 1-score)\n",
    "        output_text += '\\colorbox[RGB]{' + str(int(red)) + ',' + str(int(green)) + ',' + str(int(blue)) + '}{\\strut ' + word + '} '\n",
    "\n",
    "    return output_text"
   ]
  },
  {
   "cell_type": "code",
   "execution_count": 12,
   "metadata": {},
   "outputs": [],
   "source": [
    "def colored_text_to_table(relevance_dict, input_instances, idx):\n",
    "    table_string_start = [\"\\\\begin{table}\", \"  \\\\centering\", \"  \\\\begin{tabular}{l|l}\"]    \n",
    "    table_string_end = [\"  \\\\end{tabular}\", \"  \\\\caption{Example explanations for SST-2}\", \"  \\\\label{tab:example_explanations}\", \"\\\\end{table}\"]\n",
    "    \n",
    "    for method in relevance_dict.keys():\n",
    "        table_string_start.append(f\"    {method}&{relevance_to_colored_text(relevance_dict, input_instances, method, idx)}\\\\\\\\\")\n",
    "    \n",
    "    return \"\\n\".join(table_string_start+table_string_end)"
   ]
  },
  {
   "cell_type": "code",
   "execution_count": 13,
   "metadata": {},
   "outputs": [
    {
     "name": "stdout",
     "output_type": "stream",
     "text": [
      "\\begin{table}\n",
      "  \\centering\n",
      "  \\begin{tabular}{l|l}\n",
      "    grad&\\colorbox[RGB]{106,106,255}{\\strut forced} \\colorbox[RGB]{255,232,232}{\\strut ,} \\colorbox[RGB]{240,240,255}{\\strut familiar} \\colorbox[RGB]{255,163,163}{\\strut and} \\colorbox[RGB]{255,255,255}{\\strut thoroughly} \\colorbox[RGB]{0,0,255}{\\strut condescending} \\colorbox[RGB]{255,220,220}{\\strut .} \\\\\n",
      "    gradxinput&\\colorbox[RGB]{114,114,255}{\\strut forced} \\colorbox[RGB]{255,115,115}{\\strut ,} \\colorbox[RGB]{255,251,251}{\\strut familiar} \\colorbox[RGB]{255,155,155}{\\strut and} \\colorbox[RGB]{255,36,36}{\\strut thoroughly} \\colorbox[RGB]{0,0,255}{\\strut condescending} \\colorbox[RGB]{255,126,126}{\\strut .} \\\\\n",
      "    saliency&\\colorbox[RGB]{255,128,128}{\\strut forced} \\colorbox[RGB]{255,196,196}{\\strut ,} \\colorbox[RGB]{255,172,172}{\\strut familiar} \\colorbox[RGB]{255,196,196}{\\strut and} \\colorbox[RGB]{255,159,159}{\\strut thoroughly} \\colorbox[RGB]{255,0,0}{\\strut condescending} \\colorbox[RGB]{255,205,205}{\\strut .} \\\\\n",
      "    integratedgrad&\\colorbox[RGB]{255,251,251}{\\strut forced} \\colorbox[RGB]{240,240,255}{\\strut ,} \\colorbox[RGB]{255,208,208}{\\strut familiar} \\colorbox[RGB]{241,241,255}{\\strut and} \\colorbox[RGB]{216,216,255}{\\strut thoroughly} \\colorbox[RGB]{255,0,0}{\\strut condescending} \\colorbox[RGB]{255,238,238}{\\strut .} \\\\\n",
      "    unk&\\colorbox[RGB]{254,254,255}{\\strut forced} \\colorbox[RGB]{254,254,255}{\\strut ,} \\colorbox[RGB]{254,254,255}{\\strut familiar} \\colorbox[RGB]{254,254,255}{\\strut and} \\colorbox[RGB]{255,252,252}{\\strut thoroughly} \\colorbox[RGB]{255,0,0}{\\strut condescending} \\colorbox[RGB]{255,254,254}{\\strut .} \\\\\n",
      "    resampling&\\colorbox[RGB]{255,133,133}{\\strut forced} \\colorbox[RGB]{254,254,255}{\\strut ,} \\colorbox[RGB]{255,238,238}{\\strut familiar} \\colorbox[RGB]{254,254,255}{\\strut and} \\colorbox[RGB]{255,224,224}{\\strut thoroughly} \\colorbox[RGB]{255,0,0}{\\strut condescending} \\colorbox[RGB]{254,254,255}{\\strut .} \\\\\n",
      "    resampling_std&\\colorbox[RGB]{255,0,0}{\\strut forced} \\colorbox[RGB]{255,254,254}{\\strut ,} \\colorbox[RGB]{255,136,136}{\\strut familiar} \\colorbox[RGB]{255,254,254}{\\strut and} \\colorbox[RGB]{255,98,98}{\\strut thoroughly} \\colorbox[RGB]{255,27,27}{\\strut condescending} \\colorbox[RGB]{255,254,254}{\\strut .} \\\\\n",
      "    delete&\\colorbox[RGB]{254,254,255}{\\strut forced} \\colorbox[RGB]{254,254,255}{\\strut ,} \\colorbox[RGB]{254,254,255}{\\strut familiar} \\colorbox[RGB]{254,254,255}{\\strut and} \\colorbox[RGB]{254,254,255}{\\strut thoroughly} \\colorbox[RGB]{255,0,0}{\\strut condescending} \\colorbox[RGB]{254,254,255}{\\strut .} \\\\\n",
      "  \\end{tabular}\n",
      "  \\caption{Example explanations for SST-2}\n",
      "  \\label{tab:example_explanations}\n",
      "\\end{table}\n"
     ]
    }
   ],
   "source": [
    "print(colored_text_to_table(sst2_experiment_relevances, input_instances, 137))"
   ]
  }
 ],
 "metadata": {
  "kernelspec": {
   "display_name": "Python 3",
   "language": "python",
   "name": "python3"
  },
  "language_info": {
   "codemirror_mode": {
    "name": "ipython",
    "version": 3
   },
   "file_extension": ".py",
   "mimetype": "text/x-python",
   "name": "python",
   "nbconvert_exporter": "python",
   "pygments_lexer": "ipython3",
   "version": "3.7.6"
  }
 },
 "nbformat": 4,
 "nbformat_minor": 4
}
