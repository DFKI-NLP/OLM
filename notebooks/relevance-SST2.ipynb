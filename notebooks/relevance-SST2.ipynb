{
 "cells": [
  {
   "cell_type": "code",
   "execution_count": 1,
   "metadata": {},
   "outputs": [],
   "source": [
    "%load_ext autoreload\n",
    "%autoreload 2"
   ]
  },
  {
   "cell_type": "code",
   "execution_count": 2,
   "metadata": {},
   "outputs": [],
   "source": [
    "import sys\n",
    "\n",
    "sys.path.append(\"../\")"
   ]
  },
  {
   "cell_type": "code",
   "execution_count": 3,
   "metadata": {},
   "outputs": [],
   "source": [
    "from IPython.core.display import HTML"
   ]
  },
  {
   "cell_type": "code",
   "execution_count": 4,
   "metadata": {},
   "outputs": [],
   "source": [
    "import numpy as np\n",
    "\n",
    "from xbert_tasks.predictor_utils import load_predictor\n",
    "\n",
    "from xbert_tasks.classification.models.text_classifier import TextClassifier\n",
    "from xbert_tasks.classification.predictors.text_classifier_predictor import TextClassifierPredictor\n",
    "from xbert_tasks.classification.dataset_readers.sst2_dataset_reader import Sst2DatasetReader"
   ]
  },
  {
   "cell_type": "code",
   "execution_count": 5,
   "metadata": {},
   "outputs": [],
   "source": [
    "from xbert.engine import Engine, weight_of_evidence, difference_of_log_probabilities, calculate_correlation\n",
    "from xbert import InputInstance, Config\n",
    "from xbert.visualization import visualize_relevances\n",
    "from xbert.occlusion.explainer_allennlp import AllenNLPIntegrateGradExplainer"
   ]
  },
  {
   "cell_type": "code",
   "execution_count": 6,
   "metadata": {},
   "outputs": [],
   "source": [
    "# import torch\n",
    "# from torch import Tensor\n",
    "# from torch.utils.hooks import RemovableHandle\n",
    "# from allennlp.data.dataset import Batch\n",
    "# from allennlp.nn import util\n",
    "\n",
    "\n",
    "# class AllenNLPVanillaGradExplainer:\n",
    "#     def __init__(self, predictor, output_getter=None):\n",
    "#         self.predictor = predictor\n",
    "#         self.output_getter = output_getter\n",
    "\n",
    "#     def _backprop(self, instances, ind, register_forward_hooks: bool = True):\n",
    "#         embedding_gradients: List[Tensor] = []\n",
    "#         grad_hooks: List[RemovableHandle] = self._register_embedding_gradient_hooks(embedding_gradients)\n",
    "            \n",
    "#         embedding_values: List[Tensor] = []\n",
    "            \n",
    "#         if register_forward_hooks:\n",
    "#             val_hooks: List[RemovableHandle] = self._register_embedding_value_hooks(embedding_values)\n",
    "        \n",
    "#         model = self.predictor._model\n",
    "        \n",
    "#         cuda_device = model._get_prediction_device()\n",
    "    \n",
    "#         dataset = Batch(instances)\n",
    "#         dataset.index_instances(model.vocab)\n",
    "        \n",
    "#         model_input = util.move_to_device(dataset.as_tensor_dict(), cuda_device)\n",
    "        \n",
    "#         output = model.decode(\n",
    "#             model.forward(**model_input)  # type: ignore\n",
    "#         )\n",
    "\n",
    "#         if self.output_getter is not None:\n",
    "#             output = self.output_getter(output)\n",
    "        \n",
    "#         grad_out = output.data.clone()\n",
    "#         grad_out.fill_(0.0)\n",
    "#         grad_out.scatter_(1, ind.unsqueeze(0).t(), 1.0)\n",
    "        \n",
    "#         model.zero_grad()\n",
    "        \n",
    "#         output.backward(grad_out)\n",
    "        \n",
    "#         for hook in grad_hooks:\n",
    "#             hook.remove()\n",
    "            \n",
    "#         if register_forward_hooks:\n",
    "#             for hook in val_hooks:\n",
    "#                 hook.remove()\n",
    "        \n",
    "#         return embedding_values, embedding_gradients\n",
    "\n",
    "#     def explain(self, instances, ind):\n",
    "#         return self._backprop(instances, ind)[1]\n",
    "    \n",
    "#     def _register_embedding_gradient_hooks(self, embedding_gradients):\n",
    "\n",
    "#         def backward_hook_layers(module, grad_in, grad_out):\n",
    "#             embedding_gradients.append(grad_out[0])\n",
    "\n",
    "#         backward_hooks = []\n",
    "#         embedding_layer = util.find_embedding_layer(self.predictor._model)\n",
    "#         embedding_layer.weight.requires_grad = True\n",
    "#         backward_hooks.append(embedding_layer.register_backward_hook(backward_hook_layers))\n",
    "#         return backward_hooks\n",
    "    \n",
    "#     def _register_embedding_value_hooks(self, embedding_values):\n",
    "\n",
    "#         def forward_hook_layers(module, input, output):\n",
    "#             embedding_values.append(output)\n",
    "\n",
    "#         forward_hooks = []\n",
    "#         embedding_layer = util.find_embedding_layer(self.predictor._model)\n",
    "#         embedding_layer.weight.requires_grad = True\n",
    "#         forward_hooks.append(embedding_layer.register_forward_hook(forward_hook_layers))\n",
    "#         return forward_hooks\n",
    "    \n",
    "    \n",
    "# class AllenNLPGradxInputExplainer(AllenNLPVanillaGradExplainer):\n",
    "#     def __init__(self, predictor, output_getter=None):\n",
    "#         super().__init__(predictor=predictor,\n",
    "#                          output_getter=output_getter)\n",
    "\n",
    "#     def explain(self, instances, ind):\n",
    "#         inputs, grads = self._backprop(instances, ind)\n",
    "#         return [input * grad for input, grad in zip(inputs, grads)]\n",
    "    \n",
    "    \n",
    "# class AllenNLPSaliencyExplainer(AllenNLPVanillaGradExplainer):\n",
    "#     def __init__(self, predictor, output_getter=None):\n",
    "#         super().__init__(predictor=predictor,\n",
    "#                          output_getter=output_getter)\n",
    "\n",
    "#     def explain(self, instances, ind):\n",
    "#         _, grads = self._backprop(instances, ind)\n",
    "#         return [grad.abs() for grad in grads]\n",
    "\n",
    "\n",
    "# class AllenNLPIntegrateGradExplainer(AllenNLPVanillaGradExplainer):\n",
    "#     def __init__(self, predictor, steps=100, output_getter=None):\n",
    "#         super().__init__(predictor=predictor,\n",
    "#                          output_getter=output_getter)\n",
    "#         self.steps = steps\n",
    "\n",
    "#     def explain(self, instances, ind):\n",
    "#         grads = [0 for _ in instances]\n",
    "#         inputs = []\n",
    "\n",
    "#         for alpha in np.linspace(0, 1.0, num=self.steps, endpoint=False):\n",
    "#             embedding_values: List[Tensor] = []\n",
    "#             handle: RemovableHandle = self._register_embedding_value_hook(alpha, inputs)\n",
    "            \n",
    "#             _, grads_current = self._backprop(instances, ind, register_forward_hooks=False)\n",
    "            \n",
    "#             handle.remove()\n",
    "            \n",
    "#             grads = [grad + grad_c for grad, grad_c in zip(grads, grads_current)]\n",
    "\n",
    "#         return [input * grad / self.steps for input, grad in zip(inputs, grads)]\n",
    "    \n",
    "#     def _register_embedding_value_hook(self, alpha: float, embedding_values):\n",
    "\n",
    "#         def forward_hook(module, inputs, output):\n",
    "#             # Save the input for later use. Only do so on first call.\n",
    "#             if alpha == 0:\n",
    "#                 embedding_values.append(output.squeeze(0).clone().detach())\n",
    "\n",
    "#             # Scale the embedding by alpha\n",
    "#             output.mul_(alpha)\n",
    "\n",
    "#         embedding_layer = util.find_embedding_layer(self.predictor._model)\n",
    "#         embedding_layer.weight.requires_grad = True\n",
    "#         return embedding_layer.register_forward_hook(forward_hook)"
   ]
  },
  {
   "cell_type": "code",
   "execution_count": 7,
   "metadata": {},
   "outputs": [],
   "source": [
    "CUDA_DEVICE = 0 # or -1 if no GPU is available\n",
    "\n",
    "MODEL_DIR = \"../models/sst2/\"\n",
    "PREDICTOR_NAME = \"sst_text_classifier\""
   ]
  },
  {
   "cell_type": "code",
   "execution_count": 8,
   "metadata": {},
   "outputs": [],
   "source": [
    "from allennlp.predictors import Predictor\n",
    "from allennlp.models.archival import load_archive\n",
    "\n",
    "archive = load_archive(MODEL_DIR + \"model.tar.gz\")\n",
    "predictor = load_predictor(MODEL_DIR, PREDICTOR_NAME, CUDA_DEVICE, archive_filename=\"model.tar.gz\", weights_file=None)"
   ]
  },
  {
   "cell_type": "code",
   "execution_count": 9,
   "metadata": {},
   "outputs": [
    {
     "name": "stderr",
     "output_type": "stream",
     "text": [
      "872it [00:00, 47441.22it/s]\n"
     ]
    }
   ],
   "source": [
    "SST_DATASET_PATH = \"~/Downloads/SST-2/\"\n",
    "\n",
    "dataset_instances = predictor._dataset_reader.read(SST_DATASET_PATH + \"dev.tsv\")"
   ]
  },
  {
   "cell_type": "code",
   "execution_count": 10,
   "metadata": {},
   "outputs": [
    {
     "data": {
      "text/plain": [
       "872"
      ]
     },
     "execution_count": 10,
     "metadata": {},
     "output_type": "execute_result"
    }
   ],
   "source": [
    "len(dataset_instances)"
   ]
  },
  {
   "cell_type": "code",
   "execution_count": 19,
   "metadata": {},
   "outputs": [],
   "source": [
    "from collections import defaultdict\n",
    "\n",
    "import torch\n",
    "import torch.nn.functional as F\n",
    "torch.backends.cudnn.enabled = False\n",
    "\n",
    "\n",
    "def batcher(batch_instances):\n",
    "    label2idx = predictor._model.vocab.get_token_to_index_vocabulary(\"labels\")\n",
    "    \n",
    "    true_label_indices = []\n",
    "    batch_dicts = []\n",
    "    for instance in batch_instances:\n",
    "        idx = instance.id\n",
    "        true_label_idx = label2idx[dataset_instances[idx].fields[\"label\"].label]\n",
    "        true_label_indices.append(true_label_idx)\n",
    "        batch_dicts.append(dict(text=instance.text.tokens))\n",
    "    \n",
    "    results = predictor.predict_batch_json(batch_dicts)\n",
    "    \n",
    "    return [result[\"class_probabilities\"][tl_idx] for (result, tl_idx) in zip(results, true_label_indices)]\n",
    "    \n",
    "    \n",
    "def batcher_gradient(batch_instances):\n",
    "    label2idx = predictor._model.vocab.get_token_to_index_vocabulary(\"labels\")\n",
    "    \n",
    "    explainer = AllenNLPIntegrateGradExplainer(predictor=predictor,\n",
    "                                               output_getter=lambda x: F.softmax(x[\"logits\"], dim=-1))\n",
    "    \n",
    "    relevances = []\n",
    "    for instance in batch_instances:\n",
    "        idx = instance.id\n",
    "        true_label_idx = label2idx[dataset_instances[idx].fields[\"label\"].label]\n",
    "        \n",
    "        inst = predictor._json_to_instance(dict(text=instance.text.tokens))\n",
    "        expl = explainer.explain([inst], ind=torch.tensor([true_label_idx], dtype=torch.long, device=CUDA_DEVICE))[0]\n",
    "        expl_np = expl.sum(dim=-1).squeeze().detach().cpu().numpy().tolist()\n",
    "        \n",
    "        relevance_dict = defaultdict(float)\n",
    "        for token_idx, relevance in enumerate(expl_np):\n",
    "            relevance_dict[(\"text\", token_idx)] = relevance\n",
    "        relevances.append(relevance_dict)\n",
    "\n",
    "    return relevances\n",
    "    \n",
    "\n",
    "config_unk = Config.from_dict({\n",
    "    \"strategy\": \"unk_replacement\",\n",
    "    \"batch_size\": 128,\n",
    "    \"unk_token\": \"<unk>\"\n",
    "})\n",
    "\n",
    "config_del = Config.from_dict({\n",
    "    \"strategy\": \"delete\",\n",
    "    \"batch_size\": 128,\n",
    "})\n",
    "\n",
    "config_gradient = Config.from_dict({\n",
    "    \"strategy\": \"gradient\",\n",
    "    \"batch_size\": 2\n",
    "})\n",
    "\n",
    "config_resample = Config.from_dict({\n",
    "    \"strategy\": \"bert_lm_sampling\",\n",
    "    \"std\": True,\n",
    "    \"cuda_device\": 0,\n",
    "    \"bert_model\": \"bert-base-uncased\",\n",
    "    \"batch_size\": 256,\n",
    "    \"n_samples\": 100,\n",
    "    \"verbose\": False\n",
    "})\n",
    "\n",
    "unknown_engine = Engine(config_unk, batcher)\n",
    "delete_engine = Engine(config_del, batcher)\n",
    "resample_engine = Engine(config_resample, batcher)\n",
    "gradient_engine = Engine(config_gradient, batcher_gradient)"
   ]
  },
  {
   "cell_type": "code",
   "execution_count": 20,
   "metadata": {},
   "outputs": [],
   "source": [
    "instance_idx = 0\n",
    "n = 5\n",
    "input_instances = [InputInstance(id_=idx, text=[t.text for t in dataset_instance.fields[\"tokens\"].tokens])\n",
    "                   for idx, dataset_instance\n",
    "                   in zip(range(instance_idx, instance_idx+n), dataset_instances[instance_idx: instance_idx+n])]"
   ]
  },
  {
   "cell_type": "code",
   "execution_count": 21,
   "metadata": {},
   "outputs": [
    {
     "name": "stderr",
     "output_type": "stream",
     "text": [
      "100%|██████████| 5/5 [00:00<00:00, 28263.50it/s]\n",
      "1it [00:00, 120.94it/s]\n",
      "100%|██████████| 5/5 [00:00<00:00, 25236.49it/s]\n",
      "1it [00:00, 141.87it/s]\n",
      "100%|██████████| 5/5 [00:00<00:00,  8.66it/s]\n",
      "5it [00:00, 64.86it/s]               \n",
      "100%|██████████| 5/5 [00:00<00:00, 101311.69it/s]\n",
      "3it [00:04,  1.57s/it]                       \n"
     ]
    }
   ],
   "source": [
    "unk_candidate_instances, unk_candidate_results = unknown_engine.run(input_instances[instance_idx: instance_idx+n])\n",
    "del_candidate_instances, del_candidate_results = delete_engine.run(input_instances[instance_idx: instance_idx+n])\n",
    "res_candidate_instances, res_candidate_results = resample_engine.run(input_instances[instance_idx: instance_idx+n])\n",
    "grad_candidate_instances, grad_candidate_results = gradient_engine.run(input_instances[instance_idx: instance_idx+n])"
   ]
  },
  {
   "cell_type": "code",
   "execution_count": 22,
   "metadata": {},
   "outputs": [],
   "source": [
    "unk_relevances = unknown_engine.relevances(unk_candidate_instances, unk_candidate_results)\n",
    "del_relevances = delete_engine.relevances(del_candidate_instances, del_candidate_results)\n",
    "res_relevances = resample_engine.relevances(res_candidate_instances, res_candidate_results)\n",
    "grad_relevances = gradient_engine.relevances(grad_candidate_instances, grad_candidate_results)"
   ]
  },
  {
   "cell_type": "code",
   "execution_count": 23,
   "metadata": {},
   "outputs": [],
   "source": [
    "labels_true = [instance.fields[\"label\"].label for instance in dataset_instances[instance_idx: instance_idx+n]]\n",
    "labels_pred = [predictor.predict_instance(instance)[\"label\"] for instance in dataset_instances[instance_idx: instance_idx+n]]"
   ]
  },
  {
   "cell_type": "code",
   "execution_count": 24,
   "metadata": {},
   "outputs": [
    {
     "data": {
      "text/html": [
       "<font size=\"5\"><span style=\"color:black; background-color:rgba(255, 255, 0, 0.6);\">1 &#10004; 0.14</span>:   <span style=\"color:black; background-color:rgba(255, 0, 0, 0.0005032942852427006);\">it</span> <span style=\"color:black; background-color:rgba(255, 0, 0, 0.0019771483176847225);\">'s</span> <span style=\"color:black; background-color:rgba(255, 0, 0, 5.507108533210704e-05);\">a</span> <span style=\"color:black; background-color:rgba(255, 0, 0, 0.12639264538067194);\">charming</span> <span style=\"color:black; background-color:rgba(255, 0, 0, 0.0009165931636442853);\">and</span> <span style=\"color:black; background-color:rgba(255, 0, 0, 0.002549005380083468);\">often</span> <span style=\"color:white; background-color:rgba(255, 0, 0, 1.0);\">affecting</span> <span style=\"color:black; background-color:rgba(255, 0, 0, 0.07017821007428929);\">journey</span> <span style=\"color:black; background-color:rgba(255, 0, 0, 0.001256241911241902);\">.</span></font></br><font size=\"5\"><span style=\"color:black; background-color:rgba(255, 255, 0, 0.6);\">0 &#10004; 0.30</span>:   <span style=\"color:black; background-color:rgba(255, 0, 0, 0.029050285825393762);\">unflinchingly</span> <span style=\"color:white; background-color:rgba(255, 0, 0, 1.0);\">bleak</span> <span style=\"color:black; background-color:rgba(255, 0, 0, 0.2992939249512782);\">and</span> <span style=\"color:black; background-color:rgba(255, 0, 0, 0.28285999802360756);\">desperate</span></font></br><font size=\"5\"><span style=\"color:black; background-color:rgba(255, 255, 0, 0.6);\">1 &#10004; 0.00</span>:   <span style=\"color:black; background-color:rgba(255, 0, 0, 0.017887331594568366);\">allows</span> <span style=\"color:black; background-color:rgba(255, 0, 0, 0.007350163527692785);\">us</span> <span style=\"color:black; background-color:rgba(255, 0, 0, 0.0);\">to</span> <span style=\"color:black; background-color:rgba(255, 0, 0, 0.004722628326276242);\">hope</span> <span style=\"color:black; background-color:rgba(255, 0, 0, 0.0016233289966847205);\">that</span> <span style=\"color:black; background-color:rgba(255, 0, 0, 0.2013811067515686);\">nolan</span> <span style=\"color:black; background-color:rgba(255, 0, 0, 0.0007774734605795345);\">is</span> <span style=\"color:black; background-color:rgba(255, 0, 0, 0.010187221531609471);\">poised</span> <span style=\"color:black; background-color:rgba(255, 0, 0, 0.0);\">to</span> <span style=\"color:black; background-color:rgba(255, 0, 0, 0.002368558774825907);\">embark</span> <span style=\"color:black; background-color:rgba(255, 0, 0, 0.000415732563378351);\">a</span> <span style=\"color:black; background-color:rgba(255, 0, 0, 0.010690958369242283);\">major</span> <span style=\"color:black; background-color:rgba(255, 0, 0, 0.00875474488577389);\">career</span> <span style=\"color:black; background-color:rgba(255, 0, 0, 0.0);\">as</span> <span style=\"color:black; background-color:rgba(255, 0, 0, 0.0);\">a</span> <span style=\"color:black; background-color:rgba(255, 0, 0, 0.20842424970365922);\">commercial</span> <span style=\"color:black; background-color:rgba(255, 0, 0, 0.009644097013075689);\">yet</span> <span style=\"color:black; background-color:rgba(255, 0, 0, 0.20233352425747894);\">inventive</span> <span style=\"color:white; background-color:rgba(255, 0, 0, 1.0);\">filmmaker</span> <span style=\"color:black; background-color:rgba(255, 0, 0, 0.020813337906690956);\">.</span></font></br><font size=\"5\"><span style=\"color:black; background-color:rgba(255, 255, 0, 0.6);\">1 &#10004; 0.14</span>:   <span style=\"color:black; background-color:rgba(255, 0, 0, 0.020926564495157816);\">the</span> <span style=\"color:black; background-color:rgba(255, 0, 0, 0.016041494808266055);\">acting</span> <span style=\"color:black; background-color:rgba(255, 0, 0, 0.0);\">,</span> <span style=\"color:black; background-color:rgba(255, 0, 0, 0.017538823931995406);\">costumes</span> <span style=\"color:black; background-color:rgba(255, 0, 0, 0.0);\">,</span> <span style=\"color:black; background-color:rgba(255, 0, 0, 0.022094792421524824);\">music</span> <span style=\"color:black; background-color:rgba(255, 0, 0, 0.0006391921024695215);\">,</span> <span style=\"color:black; background-color:rgba(255, 0, 0, 0.020162870759057087);\">cinematography</span> <span style=\"color:black; background-color:rgba(255, 0, 0, 0.0379526078600305);\">and</span> <span style=\"color:black; background-color:rgba(255, 0, 0, 0.025062289560272698);\">sound</span> <span style=\"color:black; background-color:rgba(255, 0, 0, 0.09663658999097499);\">are</span> <span style=\"color:black; background-color:rgba(255, 0, 0, 0.019408941927125976);\">all</span> <span style=\"color:white; background-color:rgba(255, 0, 0, 1.0);\">astounding</span> <span style=\"color:black; background-color:rgba(255, 0, 0, 0.02029137022946945);\">given</span> <span style=\"color:black; background-color:rgba(255, 0, 0, 0.0);\">the</span> <span style=\"color:black; background-color:rgba(255, 0, 0, 0.004343591546959788);\">production</span> <span style=\"color:black; background-color:rgba(255, 0, 0, 0.007369091498305316);\">'s</span> <span style=\"color:black; background-color:rgba(255, 0, 0, 0.053588044898450427);\">austere</span> <span style=\"color:black; background-color:rgba(255, 0, 0, 0.054541705553749896);\">locales</span> <span style=\"color:black; background-color:rgba(255, 0, 0, 0.004793695046187403);\">.</span></font></br><font size=\"5\"><span style=\"color:black; background-color:rgba(255, 255, 0, 0.6);\">0 &#10004; 0.22</span>:   <span style=\"color:black; background-color:rgba(255, 0, 0, 0.0040070300687833115);\">it</span> <span style=\"color:black; background-color:rgba(255, 0, 0, 0.0009007731036639024);\">'s</span> <span style=\"color:black; background-color:rgba(255, 0, 0, 0.3754687736243627);\">slow</span> <span style=\"color:black; background-color:rgba(255, 0, 0, 0.009404923201765874);\">--</span> <span style=\"color:black; background-color:rgba(255, 0, 0, 0.005417415882474161);\">very</span> <span style=\"color:black; background-color:rgba(255, 0, 0, 0.0);\">,</span> <span style=\"color:black; background-color:rgba(255, 0, 0, 0.0);\">very</span> <span style=\"color:white; background-color:rgba(255, 0, 0, 1.0);\">slow</span> <span style=\"color:black; background-color:rgba(255, 0, 0, 0.0035699768371975525);\">.</span></font>"
      ],
      "text/plain": [
       "<IPython.core.display.HTML object>"
      ]
     },
     "execution_count": 24,
     "metadata": {},
     "output_type": "execute_result"
    }
   ],
   "source": [
    "HTML(visualize_relevances(input_instances[instance_idx: instance_idx+n], res_relevances, labels_true, labels_pred))"
   ]
  },
  {
   "cell_type": "code",
   "execution_count": 18,
   "metadata": {},
   "outputs": [
    {
     "data": {
      "text/html": [
       "<font size=\"5\"><span style=\"color:black; background-color:rgba(255, 255, 0, 0.6);\">1 &#10004; 0.06</span>:   <span style=\"color:black; background-color:rgba(255, 0, 0, 0.00010829027796106472);\">it</span> <span style=\"color:black; background-color:rgba(255, 0, 0, 0.002780854912480614);\">'s</span> <span style=\"color:black; background-color:rgba(0, 0, 255, 1.378811000686737e-05);\">a</span> <span style=\"color:black; background-color:rgba(255, 0, 0, 0.11815896876873068);\">charming</span> <span style=\"color:black; background-color:rgba(0, 0, 255, 0.0008908657093676484);\">and</span> <span style=\"color:black; background-color:rgba(0, 0, 255, 0.0028959905050720365);\">often</span> <span style=\"color:white; background-color:rgba(255, 0, 0, 1.0);\">affecting</span> <span style=\"color:black; background-color:rgba(255, 0, 0, 0.016680320424736807);\">journey</span> <span style=\"color:black; background-color:rgba(255, 0, 0, 0.00044706836498284674);\">.</span></font></br><font size=\"5\"><span style=\"color:black; background-color:rgba(255, 255, 0, 0.6);\">0 &#10004; 0.37</span>:   <span style=\"color:black; background-color:rgba(0, 0, 255, 0.44540464729430856);\">unflinchingly</span> <span style=\"color:white; background-color:rgba(255, 0, 0, 0.8457997819894627);\">bleak</span> <span style=\"color:black; background-color:rgba(0, 0, 255, 0.1040953537435834);\">and</span> <span style=\"color:white; background-color:rgba(255, 0, 0, 1.0);\">desperate</span></font></br><font size=\"5\"><span style=\"color:black; background-color:rgba(255, 255, 0, 0.6);\">1 &#10004; 0.00</span>:   <span style=\"color:black; background-color:rgba(255, 0, 0, 0.2737047804608361);\">allows</span> <span style=\"color:black; background-color:rgba(0, 0, 255, 0.026004111564468316);\">us</span> <span style=\"color:black; background-color:rgba(255, 0, 0, 0.0);\">to</span> <span style=\"color:black; background-color:rgba(0, 0, 255, 0.0392286213986417);\">hope</span> <span style=\"color:black; background-color:rgba(255, 0, 0, 0.0019177073425176812);\">that</span> <span style=\"color:black; background-color:rgba(255, 0, 0, 0.19403171120842502);\">nolan</span> <span style=\"color:black; background-color:rgba(0, 0, 255, 0.0010777515263377686);\">is</span> <span style=\"color:black; background-color:rgba(255, 0, 0, 0.024329953054364653);\">poised</span> <span style=\"color:black; background-color:rgba(255, 0, 0, 0.0);\">to</span> <span style=\"color:black; background-color:rgba(255, 0, 0, 0.007828081372214328);\">embark</span> <span style=\"color:black; background-color:rgba(255, 0, 0, 0.0010739161117384614);\">a</span> <span style=\"color:black; background-color:rgba(255, 0, 0, 0.048004050197959745);\">major</span> <span style=\"color:black; background-color:rgba(255, 0, 0, 0.030773449725509824);\">career</span> <span style=\"color:black; background-color:rgba(255, 0, 0, 0.0);\">as</span> <span style=\"color:black; background-color:rgba(255, 0, 0, 0.0);\">a</span> <span style=\"color:black; background-color:rgba(255, 0, 0, 0.37838091804479257);\">commercial</span> <span style=\"color:black; background-color:rgba(255, 0, 0, 0.06667484888459758);\">yet</span> <span style=\"color:white; background-color:rgba(255, 0, 0, 0.9190554907796997);\">inventive</span> <span style=\"color:white; background-color:rgba(255, 0, 0, 1.0);\">filmmaker</span> <span style=\"color:black; background-color:rgba(255, 0, 0, 0.03800128869935895);\">.</span></font></br><font size=\"5\"><span style=\"color:black; background-color:rgba(255, 255, 0, 0.6);\">1 &#10004; 0.03</span>:   <span style=\"color:black; background-color:rgba(255, 0, 0, 0.013251611268472862);\">the</span> <span style=\"color:black; background-color:rgba(0, 0, 255, 0.043837903625154294);\">acting</span> <span style=\"color:black; background-color:rgba(255, 0, 0, 0.0);\">,</span> <span style=\"color:black; background-color:rgba(0, 0, 255, 0.05260333853591684);\">costumes</span> <span style=\"color:black; background-color:rgba(255, 0, 0, 0.0);\">,</span> <span style=\"color:black; background-color:rgba(255, 0, 0, 0.06969749007323774);\">music</span> <span style=\"color:black; background-color:rgba(0, 0, 255, 0.00027661168832817534);\">,</span> <span style=\"color:black; background-color:rgba(255, 0, 0, 0.022852849853659263);\">cinematography</span> <span style=\"color:black; background-color:rgba(255, 0, 0, 0.01969677179881865);\">and</span> <span style=\"color:black; background-color:rgba(255, 0, 0, 0.04857470748326368);\">sound</span> <span style=\"color:white; background-color:rgba(255, 0, 0, 0.95713466711131);\">are</span> <span style=\"color:black; background-color:rgba(255, 0, 0, 0.01032502714827262);\">all</span> <span style=\"color:white; background-color:rgba(255, 0, 0, 1.0);\">astounding</span> <span style=\"color:black; background-color:rgba(255, 0, 0, 0.006625318768812817);\">given</span> <span style=\"color:black; background-color:rgba(255, 0, 0, 0.0);\">the</span> <span style=\"color:black; background-color:rgba(0, 0, 255, 0.07725982642824787);\">production</span> <span style=\"color:black; background-color:rgba(0, 0, 255, 0.07505252285796368);\">'s</span> <span style=\"color:black; background-color:rgba(0, 0, 255, 0.07753898063600619);\">austere</span> <span style=\"color:black; background-color:rgba(255, 0, 0, 0.0810036231765434);\">locales</span> <span style=\"color:black; background-color:rgba(255, 0, 0, 0.003629960399639561);\">.</span></font></br><font size=\"5\"><span style=\"color:black; background-color:rgba(255, 255, 0, 0.6);\">0 &#10004; 0.07</span>:   <span style=\"color:black; background-color:rgba(255, 0, 0, 0.005260685275475735);\">it</span> <span style=\"color:black; background-color:rgba(255, 0, 0, 0.016769951535811994);\">'s</span> <span style=\"color:black; background-color:rgba(255, 0, 0, 0.5141250293516006);\">slow</span> <span style=\"color:black; background-color:rgba(255, 0, 0, 0.029432564327381394);\">--</span> <span style=\"color:black; background-color:rgba(255, 0, 0, 0.002299139355574173);\">very</span> <span style=\"color:black; background-color:rgba(255, 0, 0, 0.0);\">,</span> <span style=\"color:black; background-color:rgba(255, 0, 0, 0.0);\">very</span> <span style=\"color:white; background-color:rgba(255, 0, 0, 1.0);\">slow</span> <span style=\"color:black; background-color:rgba(255, 0, 0, 0.0024047043211996967);\">.</span></font>"
      ],
      "text/plain": [
       "<IPython.core.display.HTML object>"
      ]
     },
     "execution_count": 18,
     "metadata": {},
     "output_type": "execute_result"
    }
   ],
   "source": [
    "HTML(visualize_relevances(input_instances[instance_idx: instance_idx+n], res_relevances, labels_true, labels_pred))"
   ]
  },
  {
   "cell_type": "code",
   "execution_count": null,
   "metadata": {},
   "outputs": [],
   "source": []
  },
  {
   "cell_type": "code",
   "execution_count": 18,
   "metadata": {},
   "outputs": [
    {
     "data": {
      "text/html": [
       "<font size=\"5\"><span style=\"color:black; background-color:rgba(255, 255, 0, 0.6);\">1 &#10004; 0.00</span>:   <span style=\"color:black; background-color:rgba(255, 0, 0, 0.1869299706558807);\">it</span> <span style=\"color:black; background-color:rgba(0, 0, 255, 0.05353319057815846);\">'s</span> <span style=\"color:black; background-color:rgba(0, 0, 255, 0.27139344912364183);\">a</span> <span style=\"color:white; background-color:rgba(255, 0, 0, 1.0);\">charming</span> <span style=\"color:black; background-color:rgba(0, 0, 255, 0.06305020223649774);\">and</span> <span style=\"color:black; background-color:rgba(0, 0, 255, 0.3015306527083829);\">often</span> <span style=\"color:black; background-color:rgba(255, 0, 0, 0.024426996589737487);\">affecting</span> <span style=\"color:black; background-color:rgba(0, 0, 255, 0.3594258069632802);\">journey</span> <span style=\"color:black; background-color:rgba(0, 0, 255, 0.32119914346895073);\">.</span></font></br><font size=\"5\"><span style=\"color:black; background-color:rgba(255, 255, 0, 0.6);\">0 &#10004; 0.70</span>:   <span style=\"color:black; background-color:rgba(0, 0, 255, 0.2311282138234229);\">unflinchingly</span> <span style=\"color:black; background-color:rgba(255, 0, 0, 0.5924203771242559);\">bleak</span> <span style=\"color:black; background-color:rgba(0, 0, 255, 0.12505587955737496);\">and</span> <span style=\"color:white; background-color:rgba(255, 0, 0, 1.0);\">desperate</span></font></br><font size=\"5\"><span style=\"color:black; background-color:rgba(255, 255, 0, 0.6);\">1 &#10004; 0.00</span>:   <span style=\"color:black; background-color:rgba(255, 0, 0, 0.4267241379310345);\">allows</span> <span style=\"color:black; background-color:rgba(0, 0, 255, 0.6185344827586207);\">us</span> <span style=\"color:black; background-color:rgba(0, 0, 255, 0.3620689655172414);\">to</span> <span style=\"color:black; background-color:rgba(0, 0, 255, 0.4331896551724138);\">hope</span> <span style=\"color:black; background-color:rgba(0, 0, 255, 0.015086206896551725);\">that</span> <span style=\"color:black; background-color:rgba(0, 0, 255, 0.04956896551724138);\">nolan</span> <span style=\"color:black; background-color:rgba(0, 0, 255, 0.26939655172413796);\">is</span> <span style=\"color:black; background-color:rgba(255, 0, 0, 0.22844827586206898);\">poised</span> <span style=\"color:black; background-color:rgba(0, 0, 255, 0.22413793103448276);\">to</span> <span style=\"color:black; background-color:rgba(255, 0, 0, 0.04310344827586207);\">embark</span> <span style=\"color:black; background-color:rgba(0, 0, 255, 0.01293103448275862);\">a</span> <span style=\"color:black; background-color:rgba(255, 0, 0, 0.021551724137931036);\">major</span> <span style=\"color:black; background-color:rgba(255, 0, 0, 0.20905172413793102);\">career</span> <span style=\"color:black; background-color:rgba(0, 0, 255, 0.33836206896551724);\">as</span> <span style=\"color:black; background-color:rgba(255, 0, 0, 0.09051724137931035);\">a</span> <span style=\"color:black; background-color:rgba(0, 0, 255, 0.5517241379310345);\">commercial</span> <span style=\"color:black; background-color:rgba(0, 0, 255, 0.48060344827586204);\">yet</span> <span style=\"color:black; background-color:rgba(255, 0, 0, 0.7133620689655172);\">inventive</span> <span style=\"color:black; background-color:rgba(0, 0, 255, 0.1810344827586207);\">filmmaker</span> <span style=\"color:black; background-color:rgba(0, 0, 255, 1.0);\">.</span></font></br><font size=\"5\"><span style=\"color:black; background-color:rgba(255, 255, 0, 0.6);\">1 &#10004; 0.01</span>:   <span style=\"color:black; background-color:rgba(0, 0, 255, 0.4707788727167773);\">the</span> <span style=\"color:black; background-color:rgba(0, 0, 255, 0.5049767039129179);\">acting</span> <span style=\"color:black; background-color:rgba(0, 0, 255, 0.13485342019543975);\">,</span> <span style=\"color:black; background-color:rgba(0, 0, 255, 0.2785634766832969);\">costumes</span> <span style=\"color:black; background-color:rgba(255, 0, 0, 0.36882859852389394);\">,</span> <span style=\"color:black; background-color:rgba(255, 0, 0, 0.6867521543726549);\">music</span> <span style=\"color:black; background-color:rgba(255, 0, 0, 0.035377066754628296);\">,</span> <span style=\"color:black; background-color:rgba(255, 0, 0, 0.31373438337525256);\">cinematography</span> <span style=\"color:black; background-color:rgba(255, 0, 0, 0.22543190533129923);\">and</span> <span style=\"color:black; background-color:rgba(255, 0, 0, 0.30248629035583224);\">sound</span> <span style=\"color:black; background-color:rgba(0, 0, 255, 0.33975178328454214);\">are</span> <span style=\"color:black; background-color:rgba(0, 0, 255, 0.10682389807446502);\">all</span> <span style=\"color:black; background-color:rgba(255, 0, 0, 0.4404486042963757);\">astounding</span> <span style=\"color:black; background-color:rgba(255, 0, 0, 0.3447573496062343);\">given</span> <span style=\"color:white; background-color:rgba(255, 0, 0, 1.0);\">the</span> <span style=\"color:black; background-color:rgba(0, 0, 255, 0.24288953943841998);\">production</span> <span style=\"color:black; background-color:rgba(0, 0, 255, 0.4391374262977776);\">'s</span> <span style=\"color:black; background-color:rgba(0, 0, 255, 0.5687049024862904);\">austere</span> <span style=\"color:black; background-color:rgba(0, 0, 255, 0.48441842246320044);\">locales</span> <span style=\"color:black; background-color:rgba(0, 0, 255, 0.4304127324454707);\">.</span></font></br><font size=\"5\"><span style=\"color:black; background-color:rgba(255, 255, 0, 0.6);\">0 &#10004; 0.98</span>:   <span style=\"color:black; background-color:rgba(255, 0, 0, 0.002657876092068051);\">it</span> <span style=\"color:black; background-color:rgba(255, 0, 0, 0.024945055020866375);\">'s</span> <span style=\"color:black; background-color:rgba(255, 0, 0, 0.3109363139557763);\">slow</span> <span style=\"color:black; background-color:rgba(255, 0, 0, 0.08925755272497923);\">--</span> <span style=\"color:black; background-color:rgba(255, 0, 0, 0.00512496944578011);\">very</span> <span style=\"color:black; background-color:rgba(255, 0, 0, 0.004651525424913827);\">,</span> <span style=\"color:black; background-color:rgba(255, 0, 0, 0.0023836940423735825);\">very</span> <span style=\"color:white; background-color:rgba(255, 0, 0, 1.0);\">slow</span> <span style=\"color:black; background-color:rgba(255, 0, 0, 0.0001866036878967657);\">.</span></font>"
      ],
      "text/plain": [
       "<IPython.core.display.HTML object>"
      ]
     },
     "execution_count": 18,
     "metadata": {},
     "output_type": "execute_result"
    }
   ],
   "source": [
    "HTML(visualize_relevances(input_instances[instance_idx: instance_idx+n], unk_relevances, labels_true, labels_pred))"
   ]
  },
  {
   "cell_type": "code",
   "execution_count": 19,
   "metadata": {},
   "outputs": [
    {
     "data": {
      "text/html": [
       "<font size=\"5\"><span style=\"color:black; background-color:rgba(255, 255, 0, 0.6);\">1 &#10004; 0.00</span>:   <span style=\"color:black; background-color:rgba(0, 0, 255, 0.10711777848707309);\">it</span> <span style=\"color:black; background-color:rgba(0, 0, 255, 0.07941270347909352);\">'s</span> <span style=\"color:black; background-color:rgba(0, 0, 255, 0.032014044047239065);\">a</span> <span style=\"color:white; background-color:rgba(255, 0, 0, 1.0);\">charming</span> <span style=\"color:black; background-color:rgba(255, 0, 0, 0.12776891158633896);\">and</span> <span style=\"color:black; background-color:rgba(0, 0, 255, 0.1075007979572295);\">often</span> <span style=\"color:white; background-color:rgba(255, 0, 0, 0.860963932333227);\">affecting</span> <span style=\"color:black; background-color:rgba(0, 0, 255, 0.1045643153526971);\">journey</span> <span style=\"color:white; background-color:rgba(255, 0, 0, 0.8382700287264603);\">.</span></font></br><font size=\"5\"><span style=\"color:black; background-color:rgba(255, 255, 0, 0.6);\">0 &#10004; 0.17</span>:   <span style=\"color:black; background-color:rgba(0, 0, 255, 0.9487780544360876);\">unflinchingly</span> <span style=\"color:white; background-color:rgba(255, 0, 0, 1.0);\">bleak</span> <span style=\"color:white; background-color:rgba(255, 0, 0, 0.9979618553790076);\">and</span> <span style=\"color:black; background-color:rgba(255, 0, 0, 0.45849629078214443);\">desperate</span></font></br><font size=\"5\"><span style=\"color:black; background-color:rgba(255, 255, 0, 0.6);\">1 &#10004; 0.00</span>:   <span style=\"color:black; background-color:rgba(255, 0, 0, 0.06703672075149444);\">allows</span> <span style=\"color:black; background-color:rgba(255, 0, 0, 0.0004269854824935952);\">us</span> <span style=\"color:black; background-color:rgba(0, 0, 255, 0.013663535439795047);\">to</span> <span style=\"color:black; background-color:rgba(0, 0, 255, 0.04654141759180188);\">hope</span> <span style=\"color:black; background-color:rgba(255, 0, 0, 0.07344150298889837);\">that</span> <span style=\"color:black; background-color:rgba(0, 0, 255, 0.0269000853970965);\">nolan</span> <span style=\"color:black; background-color:rgba(0, 0, 255, 0.02391118701964133);\">is</span> <span style=\"color:black; background-color:rgba(255, 0, 0, 0.017933390264730998);\">poised</span> <span style=\"color:black; background-color:rgba(255, 0, 0, 0.003842869342442357);\">to</span> <span style=\"color:black; background-color:rgba(0, 0, 255, 0.0025619128949615714);\">embark</span> <span style=\"color:black; background-color:rgba(255, 0, 0, 0.018360375747224593);\">a</span> <span style=\"color:black; background-color:rgba(255, 0, 0, 0.09180187873612297);\">major</span> <span style=\"color:black; background-color:rgba(255, 0, 0, 0.11272416737830913);\">career</span> <span style=\"color:black; background-color:rgba(0, 0, 255, 0.015371477369769428);\">as</span> <span style=\"color:black; background-color:rgba(255, 0, 0, 0.07941929974380871);\">a</span> <span style=\"color:black; background-color:rgba(0, 0, 255, 0.005123825789923143);\">commercial</span> <span style=\"color:black; background-color:rgba(255, 0, 0, 0.15499573014517506);\">yet</span> <span style=\"color:white; background-color:rgba(255, 0, 0, 1.0);\">inventive</span> <span style=\"color:black; background-color:rgba(255, 0, 0, 0.008966695132365499);\">filmmaker</span> <span style=\"color:black; background-color:rgba(0, 0, 255, 0.12766865926558496);\">.</span></font></br><font size=\"5\"><span style=\"color:black; background-color:rgba(255, 255, 0, 0.6);\">1 &#10004; 0.00</span>:   <span style=\"color:black; background-color:rgba(255, 0, 0, 0.6599568129414779);\">the</span> <span style=\"color:black; background-color:rgba(255, 0, 0, 0.19739169686100844);\">acting</span> <span style=\"color:black; background-color:rgba(255, 0, 0, 0.3356390830679891);\">,</span> <span style=\"color:black; background-color:rgba(0, 0, 255, 0.49384523417389503);\">costumes</span> <span style=\"color:black; background-color:rgba(255, 0, 0, 0.46827459161390284);\">,</span> <span style=\"color:black; background-color:rgba(255, 0, 0, 0.5294196586514414);\">music</span> <span style=\"color:black; background-color:rgba(0, 0, 255, 0.050726494162427256);\">,</span> <span style=\"color:black; background-color:rgba(255, 0, 0, 0.2390659883614537);\">cinematography</span> <span style=\"color:black; background-color:rgba(255, 0, 0, 0.6842830826287987);\">and</span> <span style=\"color:black; background-color:rgba(255, 0, 0, 0.43234637484902827);\">sound</span> <span style=\"color:black; background-color:rgba(0, 0, 255, 0.4535617123546707);\">are</span> <span style=\"color:black; background-color:rgba(0, 0, 255, 0.1037831375276019);\">all</span> <span style=\"color:black; background-color:rgba(255, 0, 0, 0.7796118044626628);\">astounding</span> <span style=\"color:black; background-color:rgba(255, 0, 0, 0.36534543546950676);\">given</span> <span style=\"color:black; background-color:rgba(255, 0, 0, 0.3580011955739365);\">the</span> <span style=\"color:black; background-color:rgba(0, 0, 255, 0.514596981785797);\">production</span> <span style=\"color:black; background-color:rgba(0, 0, 255, 0.4754480352328319);\">'s</span> <span style=\"color:black; background-color:rgba(0, 0, 255, 0.5640669033415071);\">austere</span> <span style=\"color:white; background-color:rgba(255, 0, 0, 0.9793824494626017);\">locales</span> <span style=\"color:white; background-color:rgba(255, 0, 0, 1.0);\">.</span></font></br><font size=\"5\"><span style=\"color:black; background-color:rgba(255, 255, 0, 0.6);\">0 &#10004; 0.86</span>:   <span style=\"color:black; background-color:rgba(0, 0, 255, 0.0014175293651988248);\">it</span> <span style=\"color:black; background-color:rgba(255, 0, 0, 0.0006016590570802603);\">'s</span> <span style=\"color:black; background-color:rgba(255, 0, 0, 0.024208937501045275);\">slow</span> <span style=\"color:black; background-color:rgba(255, 0, 0, 0.0009668773936748449);\">--</span> <span style=\"color:black; background-color:rgba(0, 0, 255, 0.0016608688865474776);\">very</span> <span style=\"color:black; background-color:rgba(0, 0, 255, 0.0014245675357762056);\">,</span> <span style=\"color:black; background-color:rgba(255, 0, 0, 0.0005208246227261831);\">very</span> <span style=\"color:white; background-color:rgba(255, 0, 0, 1.0);\">slow</span> <span style=\"color:black; background-color:rgba(255, 0, 0, 0.007716622347097486);\">.</span></font>"
      ],
      "text/plain": [
       "<IPython.core.display.HTML object>"
      ]
     },
     "execution_count": 19,
     "metadata": {},
     "output_type": "execute_result"
    }
   ],
   "source": [
    "HTML(visualize_relevances(input_instances[instance_idx: instance_idx+n], del_relevances, labels_true, labels_pred))"
   ]
  },
  {
   "cell_type": "code",
   "execution_count": 20,
   "metadata": {},
   "outputs": [
    {
     "data": {
      "text/html": [
       "<font size=\"5\"><span style=\"color:black; background-color:rgba(255, 255, 0, 0.6);\">1 &#10004; 0.06</span>:   <span style=\"color:black; background-color:rgba(255, 0, 0, 0.00010829027796106472);\">it</span> <span style=\"color:black; background-color:rgba(255, 0, 0, 0.002780854912480614);\">'s</span> <span style=\"color:black; background-color:rgba(0, 0, 255, 1.378811000686737e-05);\">a</span> <span style=\"color:black; background-color:rgba(255, 0, 0, 0.11815896876873068);\">charming</span> <span style=\"color:black; background-color:rgba(0, 0, 255, 0.0008908657093676484);\">and</span> <span style=\"color:black; background-color:rgba(0, 0, 255, 0.0028959905050720365);\">often</span> <span style=\"color:white; background-color:rgba(255, 0, 0, 1.0);\">affecting</span> <span style=\"color:black; background-color:rgba(255, 0, 0, 0.016680320424736807);\">journey</span> <span style=\"color:black; background-color:rgba(255, 0, 0, 0.00044706836498284674);\">.</span></font></br><font size=\"5\"><span style=\"color:black; background-color:rgba(255, 255, 0, 0.6);\">0 &#10004; 0.37</span>:   <span style=\"color:black; background-color:rgba(0, 0, 255, 0.44540464729430856);\">unflinchingly</span> <span style=\"color:white; background-color:rgba(255, 0, 0, 0.8457997819894627);\">bleak</span> <span style=\"color:black; background-color:rgba(0, 0, 255, 0.1040953537435834);\">and</span> <span style=\"color:white; background-color:rgba(255, 0, 0, 1.0);\">desperate</span></font></br><font size=\"5\"><span style=\"color:black; background-color:rgba(255, 255, 0, 0.6);\">1 &#10004; 0.00</span>:   <span style=\"color:black; background-color:rgba(255, 0, 0, 0.2737047804608361);\">allows</span> <span style=\"color:black; background-color:rgba(0, 0, 255, 0.026004111564468316);\">us</span> <span style=\"color:black; background-color:rgba(255, 0, 0, 0.0);\">to</span> <span style=\"color:black; background-color:rgba(0, 0, 255, 0.0392286213986417);\">hope</span> <span style=\"color:black; background-color:rgba(255, 0, 0, 0.0019177073425176812);\">that</span> <span style=\"color:black; background-color:rgba(255, 0, 0, 0.19403171120842502);\">nolan</span> <span style=\"color:black; background-color:rgba(0, 0, 255, 0.0010777515263377686);\">is</span> <span style=\"color:black; background-color:rgba(255, 0, 0, 0.024329953054364653);\">poised</span> <span style=\"color:black; background-color:rgba(255, 0, 0, 0.0);\">to</span> <span style=\"color:black; background-color:rgba(255, 0, 0, 0.007828081372214328);\">embark</span> <span style=\"color:black; background-color:rgba(255, 0, 0, 0.0010739161117384614);\">a</span> <span style=\"color:black; background-color:rgba(255, 0, 0, 0.048004050197959745);\">major</span> <span style=\"color:black; background-color:rgba(255, 0, 0, 0.030773449725509824);\">career</span> <span style=\"color:black; background-color:rgba(255, 0, 0, 0.0);\">as</span> <span style=\"color:black; background-color:rgba(255, 0, 0, 0.0);\">a</span> <span style=\"color:black; background-color:rgba(255, 0, 0, 0.37838091804479257);\">commercial</span> <span style=\"color:black; background-color:rgba(255, 0, 0, 0.06667484888459758);\">yet</span> <span style=\"color:white; background-color:rgba(255, 0, 0, 0.9190554907796997);\">inventive</span> <span style=\"color:white; background-color:rgba(255, 0, 0, 1.0);\">filmmaker</span> <span style=\"color:black; background-color:rgba(255, 0, 0, 0.03800128869935895);\">.</span></font></br><font size=\"5\"><span style=\"color:black; background-color:rgba(255, 255, 0, 0.6);\">1 &#10004; 0.03</span>:   <span style=\"color:black; background-color:rgba(255, 0, 0, 0.013251611268472862);\">the</span> <span style=\"color:black; background-color:rgba(0, 0, 255, 0.043837903625154294);\">acting</span> <span style=\"color:black; background-color:rgba(255, 0, 0, 0.0);\">,</span> <span style=\"color:black; background-color:rgba(0, 0, 255, 0.05260333853591684);\">costumes</span> <span style=\"color:black; background-color:rgba(255, 0, 0, 0.0);\">,</span> <span style=\"color:black; background-color:rgba(255, 0, 0, 0.06969749007323774);\">music</span> <span style=\"color:black; background-color:rgba(0, 0, 255, 0.00027661168832817534);\">,</span> <span style=\"color:black; background-color:rgba(255, 0, 0, 0.022852849853659263);\">cinematography</span> <span style=\"color:black; background-color:rgba(255, 0, 0, 0.01969677179881865);\">and</span> <span style=\"color:black; background-color:rgba(255, 0, 0, 0.04857470748326368);\">sound</span> <span style=\"color:white; background-color:rgba(255, 0, 0, 0.95713466711131);\">are</span> <span style=\"color:black; background-color:rgba(255, 0, 0, 0.01032502714827262);\">all</span> <span style=\"color:white; background-color:rgba(255, 0, 0, 1.0);\">astounding</span> <span style=\"color:black; background-color:rgba(255, 0, 0, 0.006625318768812817);\">given</span> <span style=\"color:black; background-color:rgba(255, 0, 0, 0.0);\">the</span> <span style=\"color:black; background-color:rgba(0, 0, 255, 0.07725982642824787);\">production</span> <span style=\"color:black; background-color:rgba(0, 0, 255, 0.07505252285796368);\">'s</span> <span style=\"color:black; background-color:rgba(0, 0, 255, 0.07753898063600619);\">austere</span> <span style=\"color:black; background-color:rgba(255, 0, 0, 0.0810036231765434);\">locales</span> <span style=\"color:black; background-color:rgba(255, 0, 0, 0.003629960399639561);\">.</span></font></br><font size=\"5\"><span style=\"color:black; background-color:rgba(255, 255, 0, 0.6);\">0 &#10004; 0.07</span>:   <span style=\"color:black; background-color:rgba(255, 0, 0, 0.005260685275475735);\">it</span> <span style=\"color:black; background-color:rgba(255, 0, 0, 0.016769951535811994);\">'s</span> <span style=\"color:black; background-color:rgba(255, 0, 0, 0.5141250293516006);\">slow</span> <span style=\"color:black; background-color:rgba(255, 0, 0, 0.029432564327381394);\">--</span> <span style=\"color:black; background-color:rgba(255, 0, 0, 0.002299139355574173);\">very</span> <span style=\"color:black; background-color:rgba(255, 0, 0, 0.0);\">,</span> <span style=\"color:black; background-color:rgba(255, 0, 0, 0.0);\">very</span> <span style=\"color:white; background-color:rgba(255, 0, 0, 1.0);\">slow</span> <span style=\"color:black; background-color:rgba(255, 0, 0, 0.0024047043211996967);\">.</span></font>"
      ],
      "text/plain": [
       "<IPython.core.display.HTML object>"
      ]
     },
     "execution_count": 20,
     "metadata": {},
     "output_type": "execute_result"
    }
   ],
   "source": [
    "HTML(visualize_relevances(input_instances[instance_idx: instance_idx+n], res_relevances, labels_true, labels_pred))"
   ]
  },
  {
   "cell_type": "code",
   "execution_count": 21,
   "metadata": {},
   "outputs": [
    {
     "data": {
      "text/html": [
       "<font size=\"5\"><span style=\"color:black; background-color:rgba(255, 255, 0, 0.6);\">1 &#10004; 0.45</span>:   <span style=\"color:black; background-color:rgba(0, 0, 255, 0.1578729149234546);\">it</span> <span style=\"color:black; background-color:rgba(255, 0, 0, 0.02476176249504281);\">'s</span> <span style=\"color:black; background-color:rgba(0, 0, 255, 0.08413619102272812);\">a</span> <span style=\"color:white; background-color:rgba(255, 0, 0, 0.9386082575888866);\">charming</span> <span style=\"color:black; background-color:rgba(255, 0, 0, 0.19204905252548235);\">and</span> <span style=\"color:black; background-color:rgba(0, 0, 255, 0.37967753412088423);\">often</span> <span style=\"color:white; background-color:rgba(255, 0, 0, 1.0);\">affecting</span> <span style=\"color:black; background-color:rgba(255, 0, 0, 0.1582560505628072);\">journey</span> <span style=\"color:black; background-color:rgba(255, 0, 0, 0.12377866066558715);\">.</span></font></br><font size=\"5\"><span style=\"color:black; background-color:rgba(255, 255, 0, 0.6);\">0 &#10004; 1.03</span>:   <span style=\"color:black; background-color:rgba(0, 0, 255, 1.0);\">unflinchingly</span> <span style=\"color:black; background-color:rgba(255, 0, 0, 0.5596137550947715);\">bleak</span> <span style=\"color:black; background-color:rgba(255, 0, 0, 0.09967203422610489);\">and</span> <span style=\"color:black; background-color:rgba(255, 0, 0, 0.33873517484087245);\">desperate</span></font></br><font size=\"5\"><span style=\"color:black; background-color:rgba(255, 255, 0, 0.6);\">1 &#10004; 0.55</span>:   <span style=\"color:black; background-color:rgba(255, 0, 0, 0.1776827779184394);\">allows</span> <span style=\"color:black; background-color:rgba(255, 0, 0, 0.1597255874487027);\">us</span> <span style=\"color:black; background-color:rgba(255, 0, 0, 0.15736762439801788);\">to</span> <span style=\"color:black; background-color:rgba(0, 0, 255, 0.017484917286425174);\">hope</span> <span style=\"color:black; background-color:rgba(255, 0, 0, 0.005503463998298696);\">that</span> <span style=\"color:black; background-color:rgba(0, 0, 255, 0.13674363569094322);\">nolan</span> <span style=\"color:black; background-color:rgba(0, 0, 255, 0.12248674778654044);\">is</span> <span style=\"color:black; background-color:rgba(0, 0, 255, 0.3046240899180768);\">poised</span> <span style=\"color:black; background-color:rgba(255, 0, 0, 0.10945798294425747);\">to</span> <span style=\"color:black; background-color:rgba(0, 0, 255, 0.0036400519226604134);\">embark</span> <span style=\"color:black; background-color:rgba(0, 0, 255, 0.5080967167543102);\">a</span> <span style=\"color:black; background-color:rgba(0, 0, 255, 0.09623548455557149);\">major</span> <span style=\"color:black; background-color:rgba(0, 0, 255, 0.08062804531812502);\">career</span> <span style=\"color:black; background-color:rgba(255, 0, 0, 0.03574829929564115);\">as</span> <span style=\"color:black; background-color:rgba(0, 0, 255, 0.1574543591763843);\">a</span> <span style=\"color:black; background-color:rgba(0, 0, 255, 0.7981676123921487);\">commercial</span> <span style=\"color:black; background-color:rgba(255, 0, 0, 0.38796745537891264);\">yet</span> <span style=\"color:white; background-color:rgba(255, 0, 0, 1.0);\">inventive</span> <span style=\"color:black; background-color:rgba(255, 0, 0, 0.6755093560801338);\">filmmaker</span> <span style=\"color:black; background-color:rgba(255, 0, 0, 0.14008325830573);\">.</span></font></br><font size=\"5\"><span style=\"color:black; background-color:rgba(255, 255, 0, 0.6);\">1 &#10004; 0.30</span>:   <span style=\"color:black; background-color:rgba(255, 0, 0, 0.0047041780579009165);\">the</span> <span style=\"color:black; background-color:rgba(255, 0, 0, 0.0228181389846271);\">acting</span> <span style=\"color:black; background-color:rgba(0, 0, 255, 0.0374181442032407);\">,</span> <span style=\"color:black; background-color:rgba(255, 0, 0, 0.16036899183456277);\">costumes</span> <span style=\"color:black; background-color:rgba(0, 0, 255, 0.2051273177391731);\">,</span> <span style=\"color:black; background-color:rgba(0, 0, 255, 0.12713190075750566);\">music</span> <span style=\"color:black; background-color:rgba(0, 0, 255, 0.07742435101709684);\">,</span> <span style=\"color:black; background-color:rgba(0, 0, 255, 0.23692256762561348);\">cinematography</span> <span style=\"color:black; background-color:rgba(255, 0, 0, 0.6720177042462285);\">and</span> <span style=\"color:black; background-color:rgba(0, 0, 255, 0.8076602276211856);\">sound</span> <span style=\"color:white; background-color:rgba(255, 0, 0, 1.0);\">are</span> <span style=\"color:black; background-color:rgba(255, 0, 0, 0.5944024791999906);\">all</span> <span style=\"color:black; background-color:rgba(255, 0, 0, 0.2836421062842366);\">astounding</span> <span style=\"color:black; background-color:rgba(0, 0, 255, 0.6828131633751722);\">given</span> <span style=\"color:black; background-color:rgba(0, 0, 255, 0.18818004436020744);\">the</span> <span style=\"color:black; background-color:rgba(0, 0, 255, 0.5296455595324799);\">production</span> <span style=\"color:black; background-color:rgba(0, 0, 255, 0.059647707728955966);\">'s</span> <span style=\"color:black; background-color:rgba(255, 0, 0, 0.3374942647536132);\">austere</span> <span style=\"color:black; background-color:rgba(255, 0, 0, 0.6201472246586265);\">locales</span> <span style=\"color:black; background-color:rgba(255, 0, 0, 0.42931900777424037);\">.</span></font></br><font size=\"5\"><span style=\"color:black; background-color:rgba(255, 255, 0, 0.6);\">0 &#10004; 0.10</span>:   <span style=\"color:black; background-color:rgba(255, 0, 0, 0.3804927258525262);\">it</span> <span style=\"color:black; background-color:rgba(255, 0, 0, 0.20128094639911548);\">'s</span> <span style=\"color:black; background-color:rgba(255, 0, 0, 0.7453639014019127);\">slow</span> <span style=\"color:black; background-color:rgba(0, 0, 255, 0.01901966707549785);\">--</span> <span style=\"color:black; background-color:rgba(0, 0, 255, 0.5746706591403316);\">very</span> <span style=\"color:black; background-color:rgba(255, 0, 0, 0.2522174339061968);\">,</span> <span style=\"color:black; background-color:rgba(0, 0, 255, 0.2053846984345744);\">very</span> <span style=\"color:white; background-color:rgba(255, 0, 0, 1.0);\">slow</span> <span style=\"color:black; background-color:rgba(255, 0, 0, 0.1091662129542061);\">.</span></font>"
      ],
      "text/plain": [
       "<IPython.core.display.HTML object>"
      ]
     },
     "execution_count": 21,
     "metadata": {},
     "output_type": "execute_result"
    }
   ],
   "source": [
    "HTML(visualize_relevances(input_instances[instance_idx: instance_idx+n], grad_relevances, labels_true, labels_pred))"
   ]
  },
  {
   "cell_type": "code",
   "execution_count": 25,
   "metadata": {},
   "outputs": [
    {
     "name": "stdout",
     "output_type": "stream",
     "text": [
      "0.3632763330793503\n",
      "0.3827816202907428\n",
      "0.5675043686385648\n",
      "0.49687429693119034\n",
      "0.5988491751629121\n",
      "0.5616808325624799\n"
     ]
    }
   ],
   "source": [
    "print(calculate_correlation(unk_relevances, res_relevances))\n",
    "print(calculate_correlation(unk_relevances, grad_relevances))\n",
    "print(calculate_correlation(unk_relevances, del_relevances))\n",
    "print(calculate_correlation(del_relevances, res_relevances))\n",
    "print(calculate_correlation(del_relevances, grad_relevances))\n",
    "print(calculate_correlation(res_relevances, grad_relevances))"
   ]
  },
  {
   "cell_type": "code",
   "execution_count": null,
   "metadata": {},
   "outputs": [],
   "source": []
  }
 ],
 "metadata": {
  "kernelspec": {
   "display_name": "Python 3",
   "language": "python",
   "name": "python3"
  },
  "language_info": {
   "codemirror_mode": {
    "name": "ipython",
    "version": 3
   },
   "file_extension": ".py",
   "mimetype": "text/x-python",
   "name": "python",
   "nbconvert_exporter": "python",
   "pygments_lexer": "ipython3",
   "version": "3.7.4"
  }
 },
 "nbformat": 4,
 "nbformat_minor": 4
}
