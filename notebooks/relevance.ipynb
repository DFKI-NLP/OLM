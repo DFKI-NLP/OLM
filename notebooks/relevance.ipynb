{
 "cells": [
  {
   "cell_type": "code",
   "execution_count": null,
   "metadata": {},
   "outputs": [],
   "source": [
    "%load_ext autoreload\n",
    "%autoreload 2"
   ]
  },
  {
   "cell_type": "code",
   "execution_count": null,
   "metadata": {},
   "outputs": [],
   "source": [
    "import sys\n",
    "\n",
    "sys.path.append(\"../\")"
   ]
  },
  {
   "cell_type": "code",
   "execution_count": null,
   "metadata": {},
   "outputs": [],
   "source": [
    "from IPython.core.display import HTML"
   ]
  },
  {
   "cell_type": "code",
   "execution_count": null,
   "metadata": {},
   "outputs": [],
   "source": [
    "import numpy as np\n",
    "\n",
    "from xbert_tasks.predictor_utils import load_predictor\n",
    "\n",
    "from xbert_tasks.classification.models.text_classifier import TextClassifier\n",
    "from xbert_tasks.classification.predictors.text_classifier_predictor import TextClassifierPredictor\n",
    "from xbert_tasks.classification.dataset_readers.sst2_dataset_reader import Sst2DatasetReader"
   ]
  },
  {
   "cell_type": "code",
   "execution_count": null,
   "metadata": {},
   "outputs": [],
   "source": [
    "from xbert.engine import Engine, weight_of_evidence, difference_of_log_probabilities, calculate_correlation\n",
    "from xbert import InputInstance, Config\n",
    "from xbert.visualization import visualize_relevances"
   ]
  },
  {
   "cell_type": "code",
   "execution_count": null,
   "metadata": {},
   "outputs": [],
   "source": [
    "CUDA_DEVICE = 0 # or -1 if no GPU is available\n",
    "\n",
    "MODEL_DIR = \"~/Downloads/xbert_sst2/\"\n",
    "PREDICTOR_NAME = \"sst_text_classifier\""
   ]
  },
  {
   "cell_type": "code",
   "execution_count": null,
   "metadata": {},
   "outputs": [],
   "source": [
    "predictor = load_predictor(MODEL_DIR, PREDICTOR_NAME, CUDA_DEVICE, archive_filename=\"model.tar.gz\", weights_file=None)"
   ]
  },
  {
   "cell_type": "code",
   "execution_count": null,
   "metadata": {},
   "outputs": [],
   "source": [
    "SST_DATASET_PATH = \"~/Downloads/SST-2/\"\n",
    "\n",
    "dataset_instances = predictor._dataset_reader.read(SST_DATASET_PATH + \"dev.tsv\")"
   ]
  },
  {
   "cell_type": "code",
   "execution_count": null,
   "metadata": {},
   "outputs": [],
   "source": [
    "def batcher(batch_instances):\n",
    "    label2idx = predictor._model.vocab.get_token_to_index_vocabulary(\"labels\")\n",
    "    \n",
    "    true_label_indices = []\n",
    "    batch_dicts = []\n",
    "    for instance in batch_instances:\n",
    "        idx = instance.id\n",
    "        true_label_idx = label2idx[dataset_instances[idx].fields[\"label\"].label]\n",
    "        true_label_indices.append(true_label_idx)\n",
    "        batch_dicts.append(dict(text=instance.text.tokens))\n",
    "    \n",
    "    results = predictor.predict_batch_json(batch_dicts)\n",
    "    \n",
    "    return [result[\"class_probabilities\"][tl_idx] for (result, tl_idx) in zip(results, true_label_indices)]\n",
    "    \n",
    "\n",
    "config_unk = Config.from_dict({\n",
    "    \"strategy\": \"unk_replacement\",\n",
    "    \"batch_size\": 128,\n",
    "    \"unk_token\": \"___UNK___\"\n",
    "})\n",
    "\n",
    "config_resample = Config.from_dict({\n",
    "    \"strategy\": \"bert_lm_sampling\",\n",
    "    \"cuda_device\": 0,\n",
    "    \"bert_model\": \"bert-base-uncased\",\n",
    "    \"batch_size\": 128,\n",
    "    \"n_samples\": 100,\n",
    "    \"verbose\": False\n",
    "})\n",
    "\n",
    "unknown_engine = Engine(config_unk, batcher)\n",
    "resample_engine = Engine(config_resample, batcher)"
   ]
  },
  {
   "cell_type": "code",
   "execution_count": null,
   "metadata": {},
   "outputs": [],
   "source": [
    "instance_idx = 100\n",
    "n = 100\n",
    "input_instances = [InputInstance(id_=idx, text=[t.text for t in dataset_instance.fields[\"tokens\"].tokens])\n",
    "                   for idx, dataset_instance\n",
    "                   in zip(range(instance_idx, instance_idx+n), dataset_instances[instance_idx: instance_idx+n])]\n",
    "labels_true = [instance.fields[\"label\"].label for instance in dataset_instances[instance_idx: instance_idx+n]]\n",
    "labels_pred = [predictor.predict_instance(instance)[\"label\"] for instance in dataset_instances[instance_idx: instance_idx+n]]"
   ]
  },
  {
   "cell_type": "code",
   "execution_count": null,
   "metadata": {},
   "outputs": [],
   "source": [
    "unk_occluded_instances, unk_instance_probabilities = unknown_engine.run(input_instances)\n",
    "res_occluded_instances, res_instance_probabilities = resample_engine.run(input_instances)"
   ]
  },
  {
   "cell_type": "code",
   "execution_count": null,
   "metadata": {},
   "outputs": [],
   "source": [
    "unk_relevances_difference = unknown_engine.relevances(unk_occluded_instances, unk_instance_probabilities)\n",
    "res_relevances_difference = resample_engine.relevances(res_occluded_instances, res_instance_probabilities)"
   ]
  },
  {
   "cell_type": "code",
   "execution_count": null,
   "metadata": {},
   "outputs": [],
   "source": [
    "HTML(visualize_relevances(input_instances, unk_relevances_difference, labels_true, labels_pred))"
   ]
  },
  {
   "cell_type": "code",
   "execution_count": null,
   "metadata": {},
   "outputs": [],
   "source": [
    "HTML(visualize_relevances(input_instances, res_relevances_difference, labels_true, labels_pred))"
   ]
  },
  {
   "cell_type": "code",
   "execution_count": null,
   "metadata": {},
   "outputs": [],
   "source": [
    "calculate_correlation(unk_relevances_difference, res_relevances_difference)"
   ]
  },
  {
   "cell_type": "code",
   "execution_count": null,
   "metadata": {},
   "outputs": [],
   "source": []
  }
 ],
 "metadata": {
  "kernelspec": {
   "display_name": "Python 3",
   "language": "python",
   "name": "python3"
  },
  "language_info": {
   "codemirror_mode": {
    "name": "ipython",
    "version": 3
   },
   "file_extension": ".py",
   "mimetype": "text/x-python",
   "name": "python",
   "nbconvert_exporter": "python",
   "pygments_lexer": "ipython3",
   "version": "3.7.4"
  }
 },
 "nbformat": 4,
 "nbformat_minor": 4
}
