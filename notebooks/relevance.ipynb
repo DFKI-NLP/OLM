{
 "cells": [
  {
   "cell_type": "code",
   "execution_count": 1,
   "metadata": {},
   "outputs": [],
   "source": [
    "%load_ext autoreload\n",
    "%autoreload 2"
   ]
  },
  {
   "cell_type": "code",
   "execution_count": 2,
   "metadata": {},
   "outputs": [],
   "source": [
    "import sys\n",
    "\n",
    "sys.path.append(\"../\")"
   ]
  },
  {
   "cell_type": "code",
   "execution_count": 3,
   "metadata": {},
   "outputs": [],
   "source": [
    "from IPython.core.display import HTML"
   ]
  },
  {
   "cell_type": "code",
   "execution_count": 4,
   "metadata": {},
   "outputs": [
    {
     "name": "stdout",
     "output_type": "stream",
     "text": [
      "Better speed can be achieved with apex installed from https://www.github.com/nvidia/apex.\n"
     ]
    }
   ],
   "source": [
    "import numpy as np\n",
    "\n",
    "from xbert_tasks.predictor_utils import load_predictor\n",
    "\n",
    "from xbert_tasks.classification.models.text_classifier import TextClassifier\n",
    "from xbert_tasks.classification.predictors.text_classifier_predictor import TextClassifierPredictor\n",
    "from xbert_tasks.classification.dataset_readers.sst2_dataset_reader import Sst2DatasetReader"
   ]
  },
  {
   "cell_type": "code",
   "execution_count": 5,
   "metadata": {},
   "outputs": [],
   "source": [
    "from xbert.occlusion import Engine"
   ]
  },
  {
   "cell_type": "code",
   "execution_count": 6,
   "metadata": {},
   "outputs": [],
   "source": [
    "def visualize_relevances(inputs, relevances, labels_true = None, labels_pred = None, font_size=5):\n",
    "    def rgba(relevance):\n",
    "        if relevance >= 0:\n",
    "            return f\"rgba(255, 0, 0, {relevance})\"\n",
    "        else:\n",
    "            return f\"rgba(0, 0, 255, {abs(relevance)})\"\n",
    "        \n",
    "    def color(relevance):\n",
    "        if relevance > 0.8:\n",
    "            return \"white\"\n",
    "        else:\n",
    "            return \"black\"\n",
    "        \n",
    "    visualized_inputs = []\n",
    "    for i, (input_id, tokens) in enumerate(inputs):\n",
    "        tokens_relevance = relevances[input_id]\n",
    "        max_relevance = max(np.abs(list(tokens_relevance.values())))\n",
    "        norm_tokens_relevance = {idx: r / max_relevance for idx, r in tokens_relevance.items()}\n",
    "        \n",
    "        html_tokens = []\n",
    "        for idx, token in enumerate(tokens):\n",
    "            relevance = norm_tokens_relevance[idx]\n",
    "            html_token = f'<span style=\"color:{color(relevance)}; background-color:{rgba(relevance)};\">{token}</span>'\n",
    "            html_tokens.append(html_token)\n",
    "        \n",
    "        if labels_true is not None:\n",
    "            correct = \"\"\n",
    "            if labels_pred is not None:\n",
    "                correct = \"&#10004;\" if labels_true[i] == labels_pred[i] else \"&#10006;\"\n",
    "                \n",
    "            prefix = f'<span style=\"color:black; background-color:rgba(255, 255, 0, 0.6);\">{labels_true[i]} {correct}</span>:   '\n",
    "        else:\n",
    "            prefix = \"\"\n",
    "            \n",
    "        visualized_input = f'<font size=\"{font_size}\">' + prefix + \" \".join(html_tokens) + '</font>'\n",
    "        \n",
    "        visualized_inputs.append(visualized_input)\n",
    "            \n",
    "    return HTML(\"</br>\".join(visualized_inputs))"
   ]
  },
  {
   "cell_type": "code",
   "execution_count": 7,
   "metadata": {},
   "outputs": [],
   "source": [
    "CUDA_DEVICE = 0 # or -1 if no GPU is available\n",
    "\n",
    "MODEL_DIR = \"~/Downloads/xbert_sst2/\"\n",
    "PREDICTOR_NAME = \"text_classifier\""
   ]
  },
  {
   "cell_type": "code",
   "execution_count": 8,
   "metadata": {},
   "outputs": [],
   "source": [
    "predictor = load_predictor(MODEL_DIR, PREDICTOR_NAME, CUDA_DEVICE, archive_filename=\"model.tar.gz\", weights_file=None)"
   ]
  },
  {
   "cell_type": "code",
   "execution_count": 9,
   "metadata": {},
   "outputs": [
    {
     "name": "stderr",
     "output_type": "stream",
     "text": [
      "872it [00:00, 39127.39it/s]\n"
     ]
    }
   ],
   "source": [
    "SST_DATASET_PATH = \"~/Downloads/SST-2/\"\n",
    "\n",
    "instances = predictor._dataset_reader.read(SST_DATASET_PATH + \"dev.tsv\")"
   ]
  },
  {
   "cell_type": "code",
   "execution_count": 10,
   "metadata": {},
   "outputs": [],
   "source": [
    "def batcher(batch_candidates):\n",
    "    label2idx = predictor._model.vocab.get_token_to_index_vocabulary(\"labels\")\n",
    "    \n",
    "    batch_dicts = []\n",
    "    for candidate in batch_candidates:\n",
    "        idx = candidate.id\n",
    "        true_label_idx = label2idx[instances[idx].fields[\"label\"].label]\n",
    "        \n",
    "        batch_dicts.append(dict(text=candidate.tokens))\n",
    "    \n",
    "    results = predictor.predict_batch_json(batch_dicts)\n",
    "    \n",
    "    return [result[\"class_probabilities\"][true_label_idx] for result in results]\n",
    "    \n",
    "\n",
    "params = {\n",
    "    \"cuda_device\": 0,\n",
    "    \"bert_model\": \"bert-base-uncased\",\n",
    "    \"batch_size\": 128,\n",
    "    \"n_samples\": 100,\n",
    "    \"verbose\": False\n",
    "}\n",
    "\n",
    "engine = Engine(params, batcher)"
   ]
  },
  {
   "cell_type": "code",
   "execution_count": 11,
   "metadata": {},
   "outputs": [],
   "source": [
    "#inputs = [(idx, [t.text for t in instance.fields[\"tokens\"].tokens]) for idx, instance in enumerate(instances)]\n",
    "#labels_true = [instance.fields[\"label\"].label for instance in instances]\n",
    "#labels_pred = [predictor.predict_instance(instance)[\"label\"] for instance in instances]"
   ]
  },
  {
   "cell_type": "code",
   "execution_count": 12,
   "metadata": {},
   "outputs": [],
   "source": [
    "instance_idx = 0\n",
    "n = 20\n",
    "inputs = [(idx, [t.text for t in instance.fields[\"tokens\"].tokens]) for idx, instance in zip(range(instance_idx, instance_idx+n), instances[instance_idx: instance_idx+n])]\n",
    "labels_true = [instance.fields[\"label\"].label for instance in instances[instance_idx: instance_idx+n]]\n",
    "labels_pred = [predictor.predict_instance(instance)[\"label\"] for instance in instances[instance_idx: instance_idx+n]]"
   ]
  },
  {
   "cell_type": "code",
   "execution_count": 13,
   "metadata": {},
   "outputs": [],
   "source": [
    "relevances = engine.run(inputs)"
   ]
  },
  {
   "cell_type": "code",
   "execution_count": 14,
   "metadata": {},
   "outputs": [
    {
     "data": {
      "text/html": [
       "<font size=\"5\"><span style=\"color:black; background-color:rgba(255, 255, 0, 0.6);\">1 &#10004;</span>:   <span style=\"color:black; background-color:rgba(255, 0, 0, 0.0);\">it</span> <span style=\"color:black; background-color:rgba(255, 0, 0, 0.0869690500554507);\">'s</span> <span style=\"color:black; background-color:rgba(0, 0, 255, 0.00046950932698095984);\">a</span> <span style=\"color:black; background-color:rgba(255, 0, 0, 0.7002798456168321);\">charming</span> <span style=\"color:black; background-color:rgba(0, 0, 255, 0.029630344779988733);\">and</span> <span style=\"color:black; background-color:rgba(255, 0, 0, 0.08504517066506874);\">often</span> <span style=\"color:white; background-color:rgba(255, 0, 0, 1.0);\">affecting</span> <span style=\"color:black; background-color:rgba(0, 0, 255, 0.062099492921805784);\">journey</span> <span style=\"color:white; background-color:rgba(255, 0, 0, 0.9880852729919993);\">.</span></font></br><font size=\"5\"><span style=\"color:black; background-color:rgba(255, 255, 0, 0.6);\">0 &#10004;</span>:   <span style=\"color:black; background-color:rgba(0, 0, 255, 1.0);\">unflinchingly</span> <span style=\"color:black; background-color:rgba(255, 0, 0, 0.34465262428541216);\">bleak</span> <span style=\"color:black; background-color:rgba(0, 0, 255, 0.06819723772523142);\">and</span> <span style=\"color:black; background-color:rgba(255, 0, 0, 0.40070779688615826);\">desperate</span></font></br><font size=\"5\"><span style=\"color:black; background-color:rgba(255, 255, 0, 0.6);\">1 &#10004;</span>:   <span style=\"color:black; background-color:rgba(255, 0, 0, 0.1571538495684601);\">allows</span> <span style=\"color:black; background-color:rgba(0, 0, 255, 0.026088551627011985);\">us</span> <span style=\"color:black; background-color:rgba(255, 0, 0, 0.0028894963561308475);\">to</span> <span style=\"color:black; background-color:rgba(0, 0, 255, 0.054444096878806206);\">hope</span> <span style=\"color:black; background-color:rgba(255, 0, 0, 0.003630529360713552);\">that</span> <span style=\"color:black; background-color:rgba(255, 0, 0, 0.16889160185570645);\">nolan</span> <span style=\"color:black; background-color:rgba(255, 0, 0, 0.00011411363295643418);\">is</span> <span style=\"color:black; background-color:rgba(255, 0, 0, 0.0315920094020661);\">poised</span> <span style=\"color:black; background-color:rgba(255, 0, 0, 0.0);\">to</span> <span style=\"color:black; background-color:rgba(255, 0, 0, 0.29937262359996925);\">embark</span> <span style=\"color:black; background-color:rgba(255, 0, 0, 0.0015576494574816894);\">a</span> <span style=\"color:black; background-color:rgba(255, 0, 0, 0.03470438695404716);\">major</span> <span style=\"color:black; background-color:rgba(255, 0, 0, 0.024414133688589964);\">career</span> <span style=\"color:black; background-color:rgba(255, 0, 0, 0.0);\">as</span> <span style=\"color:black; background-color:rgba(255, 0, 0, 0.0);\">a</span> <span style=\"color:white; background-color:rgba(255, 0, 0, 1.0);\">commercial</span> <span style=\"color:black; background-color:rgba(255, 0, 0, 0.069639837585035);\">yet</span> <span style=\"color:black; background-color:rgba(255, 0, 0, 0.6157178199915248);\">inventive</span> <span style=\"color:black; background-color:rgba(255, 0, 0, 0.2160788845873672);\">filmmaker</span> <span style=\"color:black; background-color:rgba(255, 0, 0, 0.027056061765864153);\">.</span></font></br><font size=\"5\"><span style=\"color:black; background-color:rgba(255, 255, 0, 0.6);\">1 &#10004;</span>:   <span style=\"color:black; background-color:rgba(255, 0, 0, 0.008433881590813524);\">the</span> <span style=\"color:black; background-color:rgba(0, 0, 255, 0.06398754773102805);\">acting</span> <span style=\"color:black; background-color:rgba(255, 0, 0, 0.0);\">,</span> <span style=\"color:black; background-color:rgba(0, 0, 255, 0.09436544583454605);\">costumes</span> <span style=\"color:black; background-color:rgba(255, 0, 0, 0.0);\">,</span> <span style=\"color:black; background-color:rgba(255, 0, 0, 0.08586562251999684);\">music</span> <span style=\"color:black; background-color:rgba(255, 0, 0, 0.0);\">,</span> <span style=\"color:black; background-color:rgba(255, 0, 0, 0.012838489633478669);\">cinematography</span> <span style=\"color:black; background-color:rgba(255, 0, 0, 0.001966556748256397);\">and</span> <span style=\"color:black; background-color:rgba(255, 0, 0, 0.041399306759663114);\">sound</span> <span style=\"color:black; background-color:rgba(255, 0, 0, 0.3668670690961585);\">are</span> <span style=\"color:black; background-color:rgba(0, 0, 255, 0.000496994221363291);\">all</span> <span style=\"color:black; background-color:rgba(255, 0, 0, 0.42120745410466975);\">astounding</span> <span style=\"color:black; background-color:rgba(0, 0, 255, 0.013070953156886223);\">given</span> <span style=\"color:black; background-color:rgba(255, 0, 0, 4.251099415806424e-05);\">the</span> <span style=\"color:black; background-color:rgba(0, 0, 255, 0.1304791471871007);\">production</span> <span style=\"color:black; background-color:rgba(0, 0, 255, 0.12661700653165583);\">'s</span> <span style=\"color:black; background-color:rgba(255, 0, 0, 0.03267991855248636);\">austere</span> <span style=\"color:black; background-color:rgba(255, 0, 0, 0.07985704445585941);\">locales</span> <span style=\"color:white; background-color:rgba(255, 0, 0, 1.0);\">.</span></font></br><font size=\"5\"><span style=\"color:black; background-color:rgba(255, 255, 0, 0.6);\">0 &#10004;</span>:   <span style=\"color:black; background-color:rgba(255, 0, 0, 0.032320880031511484);\">it</span> <span style=\"color:black; background-color:rgba(255, 0, 0, 0.09099708708251174);\">'s</span> <span style=\"color:black; background-color:rgba(255, 0, 0, 0.4418203698336309);\">slow</span> <span style=\"color:black; background-color:rgba(255, 0, 0, 0.10851976195077138);\">--</span> <span style=\"color:black; background-color:rgba(255, 0, 0, 0.12439409897058798);\">very</span> <span style=\"color:black; background-color:rgba(0, 0, 255, 0.0005757296655855282);\">,</span> <span style=\"color:black; background-color:rgba(255, 0, 0, 0.0);\">very</span> <span style=\"color:black; background-color:rgba(255, 0, 0, 0.4891504403616947);\">slow</span> <span style=\"color:white; background-color:rgba(255, 0, 0, 1.0);\">.</span></font></br><font size=\"5\"><span style=\"color:black; background-color:rgba(255, 255, 0, 0.6);\">1 &#10004;</span>:   <span style=\"color:black; background-color:rgba(0, 0, 255, 0.007209615619344348);\">although</span> <span style=\"color:black; background-color:rgba(255, 0, 0, 0.00020042097241411845);\">laced</span> <span style=\"color:black; background-color:rgba(255, 0, 0, 0.0);\">with</span> <span style=\"color:black; background-color:rgba(0, 0, 255, 0.031564671454470526);\">humor</span> <span style=\"color:black; background-color:rgba(255, 0, 0, 0.0005925482272015075);\">and</span> <span style=\"color:black; background-color:rgba(255, 0, 0, 0.0);\">a</span> <span style=\"color:black; background-color:rgba(0, 0, 255, 0.00022336681638069);\">few</span> <span style=\"color:black; background-color:rgba(0, 0, 255, 0.03844183388333821);\">fanciful</span> <span style=\"color:black; background-color:rgba(0, 0, 255, 0.006657138311611315);\">touches</span> <span style=\"color:black; background-color:rgba(255, 0, 0, 0.0);\">,</span> <span style=\"color:black; background-color:rgba(0, 0, 255, 0.00037346912614872533);\">the</span> <span style=\"color:black; background-color:rgba(0, 0, 255, 0.0008380898536072952);\">film</span> <span style=\"color:black; background-color:rgba(0, 0, 255, 0.008284213742544162);\">is</span> <span style=\"color:black; background-color:rgba(255, 0, 0, 0.0);\">a</span> <span style=\"color:black; background-color:rgba(255, 0, 0, 0.21280188086112328);\">refreshingly</span> <span style=\"color:black; background-color:rgba(255, 0, 0, 0.09813822456865676);\">serious</span> <span style=\"color:black; background-color:rgba(255, 0, 0, 0.004409587212383987);\">look</span> <span style=\"color:black; background-color:rgba(255, 0, 0, 0.03993503197170668);\">at</span> <span style=\"color:black; background-color:rgba(255, 0, 0, 0.009606042873726248);\">young</span> <span style=\"color:black; background-color:rgba(255, 0, 0, 0.32278710053788007);\">women</span> <span style=\"color:white; background-color:rgba(255, 0, 0, 1.0);\">.</span></font></br><font size=\"5\"><span style=\"color:black; background-color:rgba(255, 255, 0, 0.6);\">0 &#10004;</span>:   <span style=\"color:black; background-color:rgba(255, 0, 0, 0.372067937683634);\">a</span> <span style=\"color:black; background-color:rgba(255, 0, 0, 0.14439545582378166);\">sometimes</span> <span style=\"color:white; background-color:rgba(255, 0, 0, 1.0);\">tedious</span> <span style=\"color:black; background-color:rgba(255, 0, 0, 0.07914796533255705);\">film</span> <span style=\"color:black; background-color:rgba(255, 0, 0, 0.00018488485758998382);\">.</span></font></br><font size=\"5\"><span style=\"color:black; background-color:rgba(255, 255, 0, 0.6);\">0 &#10004;</span>:   <span style=\"color:black; background-color:rgba(255, 0, 0, 0.12318372033707688);\">or</span> <span style=\"color:black; background-color:rgba(0, 0, 255, 0.012767557696479952);\">doing</span> <span style=\"color:black; background-color:rgba(255, 0, 0, 0.03835327305292169);\">last</span> <span style=\"color:black; background-color:rgba(0, 0, 255, 0.010326662596039546);\">year</span> <span style=\"color:black; background-color:rgba(255, 0, 0, 0.04562985661629417);\">'s</span> <span style=\"color:black; background-color:rgba(255, 0, 0, 0.37676982498156064);\">taxes</span> <span style=\"color:black; background-color:rgba(255, 0, 0, 0.011803526661835484);\">with</span> <span style=\"color:black; background-color:rgba(255, 0, 0, 0.03320545773035235);\">your</span> <span style=\"color:black; background-color:rgba(0, 0, 255, 0.030357482849934943);\">ex-wife</span> <span style=\"color:white; background-color:rgba(255, 0, 0, 1.0);\">.</span></font></br><font size=\"5\"><span style=\"color:black; background-color:rgba(255, 255, 0, 0.6);\">1 &#10004;</span>:   <span style=\"color:black; background-color:rgba(255, 0, 0, 0.006341255040932328);\">you</span> <span style=\"color:black; background-color:rgba(255, 0, 0, 0.015901050824145647);\">do</span> <span style=\"color:black; background-color:rgba(0, 0, 255, 0.03978517388555317);\">n't</span> <span style=\"color:black; background-color:rgba(0, 0, 255, 0.058393826892508126);\">have</span> <span style=\"color:black; background-color:rgba(255, 0, 0, 0.0);\">to</span> <span style=\"color:black; background-color:rgba(255, 0, 0, 0.026831696932023804);\">know</span> <span style=\"color:black; background-color:rgba(0, 0, 255, 0.03206602662186048);\">about</span> <span style=\"color:black; background-color:rgba(255, 0, 0, 0.2738206566831492);\">music</span> <span style=\"color:black; background-color:rgba(255, 0, 0, 0.03637540093384761);\">to</span> <span style=\"color:black; background-color:rgba(255, 0, 0, 0.12144418312217865);\">appreciate</span> <span style=\"color:black; background-color:rgba(0, 0, 255, 0.004196901553638549);\">the</span> <span style=\"color:black; background-color:rgba(255, 0, 0, 0.07871357724811961);\">film</span> <span style=\"color:black; background-color:rgba(0, 0, 255, 0.013171273159088151);\">'s</span> <span style=\"color:black; background-color:rgba(255, 0, 0, 0.3708344221810355);\">easygoing</span> <span style=\"color:black; background-color:rgba(255, 0, 0, 0.01857586896680711);\">blend</span> <span style=\"color:black; background-color:rgba(255, 0, 0, 0.0);\">of</span> <span style=\"color:black; background-color:rgba(255, 0, 0, 0.027394745137983983);\">comedy</span> <span style=\"color:black; background-color:rgba(255, 0, 0, 3.593034423614684e-05);\">and</span> <span style=\"color:black; background-color:rgba(255, 0, 0, 0.40479649967071857);\">romance</span> <span style=\"color:white; background-color:rgba(255, 0, 0, 1.0);\">.</span></font></br><font size=\"5\"><span style=\"color:black; background-color:rgba(255, 255, 0, 0.6);\">0 &#10004;</span>:   <span style=\"color:black; background-color:rgba(255, 0, 0, 0.08156665219093259);\">in</span> <span style=\"color:black; background-color:rgba(0, 0, 255, 0.07404987232143245);\">exactly</span> <span style=\"color:black; background-color:rgba(0, 0, 255, 0.12691175003779565);\">89</span> <span style=\"color:black; background-color:rgba(255, 0, 0, 0.02371701278236513);\">minutes</span> <span style=\"color:black; background-color:rgba(255, 0, 0, 0.0);\">,</span> <span style=\"color:black; background-color:rgba(0, 0, 255, 0.03243298210753727);\">most</span> <span style=\"color:black; background-color:rgba(255, 0, 0, 0.0);\">of</span> <span style=\"color:black; background-color:rgba(255, 0, 0, 0.0010739612391223073);\">which</span> <span style=\"color:black; background-color:rgba(0, 0, 255, 0.002451734714826824);\">passed</span> <span style=\"color:black; background-color:rgba(255, 0, 0, 0.0);\">as</span> <span style=\"color:black; background-color:rgba(255, 0, 0, 0.3372498700503092);\">slowly</span> <span style=\"color:black; background-color:rgba(255, 0, 0, 0.0);\">as</span> <span style=\"color:black; background-color:rgba(0, 0, 255, 0.005240161036258632);\">if</span> <span style=\"color:black; background-color:rgba(0, 0, 255, 0.0010137994762994616);\">i</span> <span style=\"color:black; background-color:rgba(0, 0, 255, 0.13295719281094207);\">'d</span> <span style=\"color:black; background-color:rgba(255, 0, 0, 0.0003056725592212946);\">been</span> <span style=\"color:black; background-color:rgba(0, 0, 255, 0.02446671720216784);\">sitting</span> <span style=\"color:black; background-color:rgba(0, 0, 255, 0.2319094904577776);\">naked</span> <span style=\"color:black; background-color:rgba(0, 0, 255, 0.023136880702410552);\">on</span> <span style=\"color:black; background-color:rgba(0, 0, 255, 0.00016865822107177628);\">an</span> <span style=\"color:black; background-color:rgba(0, 0, 255, 0.042762273840109576);\">igloo</span> <span style=\"color:black; background-color:rgba(255, 0, 0, 0.0);\">,</span> <span style=\"color:black; background-color:rgba(0, 0, 255, 0.038371461866238236);\">formula</span> <span style=\"color:black; background-color:rgba(255, 0, 0, 0.0005810391656582277);\">51</span> <span style=\"color:black; background-color:rgba(255, 0, 0, 0.26324497915072426);\">sank</span> <span style=\"color:black; background-color:rgba(255, 0, 0, 0.0);\">from</span> <span style=\"color:black; background-color:rgba(0, 0, 255, 0.11264453531267245);\">quirky</span> <span style=\"color:black; background-color:rgba(255, 0, 0, 0.02267160989508473);\">to</span> <span style=\"color:black; background-color:rgba(255, 0, 0, 0.2153386711073265);\">jerky</span> <span style=\"color:black; background-color:rgba(255, 0, 0, 0.0037966628659772037);\">to</span> <span style=\"color:black; background-color:rgba(255, 0, 0, 0.035553333458105164);\">utter</span> <span style=\"color:black; background-color:rgba(255, 0, 0, 0.25166043395519055);\">turkey</span> <span style=\"color:white; background-color:rgba(255, 0, 0, 1.0);\">.</span></font></br><font size=\"5\"><span style=\"color:black; background-color:rgba(255, 255, 0, 0.6);\">1 &#10004;</span>:   <span style=\"color:black; background-color:rgba(255, 0, 0, 0.0012422908906842445);\">the</span> <span style=\"color:black; background-color:rgba(255, 0, 0, 0.5241894975645449);\">mesmerizing</span> <span style=\"color:black; background-color:rgba(255, 0, 0, 0.09198635005154429);\">performances</span> <span style=\"color:black; background-color:rgba(255, 0, 0, 0.005940449391399325);\">of</span> <span style=\"color:black; background-color:rgba(255, 0, 0, 0.00019057648743453417);\">the</span> <span style=\"color:black; background-color:rgba(0, 0, 255, 0.02537049935070706);\">leads</span> <span style=\"color:black; background-color:rgba(255, 0, 0, 0.001390483786808572);\">keep</span> <span style=\"color:black; background-color:rgba(255, 0, 0, 0.0);\">the</span> <span style=\"color:black; background-color:rgba(255, 0, 0, 0.03555358190159958);\">film</span> <span style=\"color:black; background-color:rgba(0, 0, 255, 0.0019663091826373174);\">grounded</span> <span style=\"color:black; background-color:rgba(0, 0, 255, 3.6689776049233553e-06);\">and</span> <span style=\"color:black; background-color:rgba(255, 0, 0, 0.04267653692030565);\">keep</span> <span style=\"color:black; background-color:rgba(255, 0, 0, 0.0);\">the</span> <span style=\"color:black; background-color:rgba(255, 0, 0, 0.006354450707841272);\">audience</span> <span style=\"color:black; background-color:rgba(255, 0, 0, 0.04902578479754845);\">riveted</span> <span style=\"color:white; background-color:rgba(255, 0, 0, 1.0);\">.</span></font></br><font size=\"5\"><span style=\"color:black; background-color:rgba(255, 255, 0, 0.6);\">0 &#10006;</span>:   <span style=\"color:black; background-color:rgba(255, 0, 0, 1.275370227252686e-07);\">it</span> <span style=\"color:black; background-color:rgba(0, 0, 255, 0.09393206223683977);\">takes</span> <span style=\"color:black; background-color:rgba(255, 0, 0, 0.012236488247795819);\">a</span> <span style=\"color:black; background-color:rgba(255, 0, 0, 0.0754508489228622);\">strange</span> <span style=\"color:black; background-color:rgba(255, 0, 0, 0.06734570191119989);\">kind</span> <span style=\"color:black; background-color:rgba(255, 0, 0, 2.898569211847301e-07);\">of</span> <span style=\"color:black; background-color:rgba(255, 0, 0, 0.6920615424504304);\">laziness</span> <span style=\"color:black; background-color:rgba(255, 0, 0, 2.898569211847301e-07);\">to</span> <span style=\"color:white; background-color:rgba(255, 0, 0, 0.8187593189579684);\">waste</span> <span style=\"color:black; background-color:rgba(0, 0, 255, 0.00014235025230066164);\">the</span> <span style=\"color:black; background-color:rgba(0, 0, 255, 0.2666548237241036);\">talents</span> <span style=\"color:black; background-color:rgba(255, 0, 0, 2.898569211847301e-07);\">of</span> <span style=\"color:black; background-color:rgba(0, 0, 255, 0.04180700136621464);\">robert</span> <span style=\"color:black; background-color:rgba(0, 0, 255, 0.3583022575182002);\">forster</span> <span style=\"color:black; background-color:rgba(255, 0, 0, 2.898569211847301e-07);\">,</span> <span style=\"color:black; background-color:rgba(0, 0, 255, 0.0678690649634576);\">anne</span> <span style=\"color:black; background-color:rgba(0, 0, 255, 0.17465542607830517);\">meara</span> <span style=\"color:black; background-color:rgba(255, 0, 0, 2.898569211847301e-07);\">,</span> <span style=\"color:black; background-color:rgba(255, 0, 0, 0.01685969190827597);\">eugene</span> <span style=\"color:black; background-color:rgba(0, 0, 255, 0.02991689488000616);\">levy</span> <span style=\"color:black; background-color:rgba(255, 0, 0, 2.898569211847301e-07);\">,</span> <span style=\"color:black; background-color:rgba(0, 0, 255, 0.03342479148549352);\">and</span> <span style=\"color:black; background-color:rgba(255, 0, 0, 0.15184807838938263);\">reginald</span> <span style=\"color:black; background-color:rgba(0, 0, 255, 1.0);\">veljohnson</span> <span style=\"color:black; background-color:rgba(0, 0, 255, 0.3936374228624606);\">all</span> <span style=\"color:black; background-color:rgba(0, 0, 255, 0.03326065122177913);\">in</span> <span style=\"color:black; background-color:rgba(0, 0, 255, 0.03514723081777222);\">the</span> <span style=\"color:black; background-color:rgba(0, 0, 255, 0.05063452580278198);\">same</span> <span style=\"color:black; background-color:rgba(0, 0, 255, 0.6000676858186826);\">movie</span> <span style=\"color:black; background-color:rgba(0, 0, 255, 0.0871674384265508);\">.</span></font></br><font size=\"5\"><span style=\"color:black; background-color:rgba(255, 255, 0, 0.6);\">0 &#10004;</span>:   <span style=\"color:black; background-color:rgba(255, 0, 0, 0.07423562027140262);\">...</span> <span style=\"color:black; background-color:rgba(255, 0, 0, 0.0);\">the</span> <span style=\"color:black; background-color:rgba(0, 0, 255, 0.011007385162536158);\">film</span> <span style=\"color:black; background-color:rgba(255, 0, 0, 0.026111993980293954);\">suffers</span> <span style=\"color:black; background-color:rgba(255, 0, 0, 0.0);\">from</span> <span style=\"color:black; background-color:rgba(255, 0, 0, 0.0004395463343285126);\">a</span> <span style=\"color:black; background-color:rgba(255, 0, 0, 0.021455249446167408);\">lack</span> <span style=\"color:black; background-color:rgba(255, 0, 0, 0.0);\">of</span> <span style=\"color:black; background-color:rgba(0, 0, 255, 0.011146923793837388);\">humor</span> <span style=\"color:black; background-color:rgba(255, 0, 0, 0.0007389736646338995);\">(</span> <span style=\"color:black; background-color:rgba(0, 0, 255, 0.002089479916274913);\">something</span> <span style=\"color:black; background-color:rgba(255, 0, 0, 0.010962528759358336);\">needed</span> <span style=\"color:black; background-color:rgba(255, 0, 0, 0.0);\">to</span> <span style=\"color:black; background-color:rgba(0, 0, 255, 0.013545659829171375);\">balance</span> <span style=\"color:black; background-color:rgba(255, 0, 0, 0.0018110959694211592);\">out</span> <span style=\"color:black; background-color:rgba(255, 0, 0, 0.0018907692901302118);\">the</span> <span style=\"color:black; background-color:rgba(0, 0, 255, 0.0007420979939210671);\">violence</span> <span style=\"color:black; background-color:rgba(255, 0, 0, 0.33723474593075925);\">)</span> <span style=\"color:white; background-color:rgba(255, 0, 0, 1.0);\">...</span></font></br><font size=\"5\"><span style=\"color:black; background-color:rgba(255, 255, 0, 0.6);\">1 &#10006;</span>:   <span style=\"color:black; background-color:rgba(0, 0, 255, 0.19272074973725145);\">we</span> <span style=\"color:black; background-color:rgba(0, 0, 255, 0.25650811170789306);\">root</span> <span style=\"color:black; background-color:rgba(255, 0, 0, 0.00684337389955474);\">for</span> <span style=\"color:black; background-color:rgba(255, 0, 0, 0.0010293714363255031);\">(</span> <span style=\"color:black; background-color:rgba(255, 0, 0, 0.0003294104155821261);\">clara</span> <span style=\"color:black; background-color:rgba(0, 0, 255, 0.0007898832424023183);\">and</span> <span style=\"color:black; background-color:rgba(0, 0, 255, 0.09230622809188437);\">paul</span> <span style=\"color:black; background-color:rgba(255, 0, 0, 0.0);\">)</span> <span style=\"color:black; background-color:rgba(255, 0, 0, 0.004253629395493151);\">,</span> <span style=\"color:black; background-color:rgba(0, 0, 255, 0.005566858670178998);\">even</span> <span style=\"color:black; background-color:rgba(255, 0, 0, 0.007288182564777957);\">like</span> <span style=\"color:black; background-color:rgba(255, 0, 0, 0.0010018481854281208);\">them</span> <span style=\"color:black; background-color:rgba(0, 0, 255, 0.006017607866708883);\">,</span> <span style=\"color:black; background-color:rgba(0, 0, 255, 0.000390916104832207);\">though</span> <span style=\"color:black; background-color:rgba(0, 0, 255, 0.035140341639845654);\">perhaps</span> <span style=\"color:black; background-color:rgba(255, 0, 0, 0.0013031955960368757);\">it</span> <span style=\"color:black; background-color:rgba(0, 0, 255, 0.061598740994764103);\">'s</span> <span style=\"color:black; background-color:rgba(255, 0, 0, 0.0004639183101180118);\">an</span> <span style=\"color:black; background-color:rgba(255, 0, 0, 0.037420645943092815);\">emotion</span> <span style=\"color:black; background-color:rgba(0, 0, 255, 0.12100379987851476);\">closer</span> <span style=\"color:black; background-color:rgba(0, 0, 255, 0.06226435057603367);\">to</span> <span style=\"color:black; background-color:rgba(0, 0, 255, 0.6128885887100501);\">pity</span> <span style=\"color:black; background-color:rgba(0, 0, 255, 1.0);\">.</span></font></br><font size=\"5\"><span style=\"color:black; background-color:rgba(255, 255, 0, 0.6);\">0 &#10004;</span>:   <span style=\"color:black; background-color:rgba(0, 0, 255, 0.02940593679900528);\">even</span> <span style=\"color:black; background-color:rgba(255, 0, 0, 0.04143232600044745);\">horror</span> <span style=\"color:black; background-color:rgba(0, 0, 255, 0.006252426291081809);\">fans</span> <span style=\"color:black; background-color:rgba(0, 0, 255, 0.0011859576117787044);\">will</span> <span style=\"color:black; background-color:rgba(255, 0, 0, 4.217847352749381e-05);\">most</span> <span style=\"color:black; background-color:rgba(255, 0, 0, 0.0037549572646932757);\">likely</span> <span style=\"color:black; background-color:rgba(255, 0, 0, 0.0037067528692742973);\">not</span> <span style=\"color:black; background-color:rgba(255, 0, 0, 0.009860601769120746);\">find</span> <span style=\"color:black; background-color:rgba(255, 0, 0, 0.001383267473700388);\">what</span> <span style=\"color:black; background-color:rgba(255, 0, 0, 0.0);\">they</span> <span style=\"color:black; background-color:rgba(0, 0, 255, 0.013294122559482507);\">'re</span> <span style=\"color:black; background-color:rgba(255, 0, 0, 0.035880346389590284);\">seeking</span> <span style=\"color:black; background-color:rgba(0, 0, 255, 0.005192052155355859);\">with</span> <span style=\"color:black; background-color:rgba(255, 0, 0, 0.022841511721490352);\">trouble</span> <span style=\"color:black; background-color:rgba(255, 0, 0, 0.038760164437892874);\">every</span> <span style=\"color:black; background-color:rgba(255, 0, 0, 0.051914061158225916);\">day</span> <span style=\"color:black; background-color:rgba(255, 0, 0, 0.035172539554330196);\">;</span> <span style=\"color:black; background-color:rgba(0, 0, 255, 0.00824164152667381);\">the</span> <span style=\"color:black; background-color:rgba(255, 0, 0, 0.04711466193398668);\">movie</span> <span style=\"color:white; background-color:rgba(255, 0, 0, 1.0);\">lacks</span> <span style=\"color:black; background-color:rgba(0, 0, 255, 0.009833882570885202);\">both</span> <span style=\"color:black; background-color:rgba(0, 0, 255, 0.018233190880775667);\">thrills</span> <span style=\"color:black; background-color:rgba(255, 0, 0, 0.0);\">and</span> <span style=\"color:black; background-color:rgba(255, 0, 0, 0.10074543152977702);\">humor</span> <span style=\"color:black; background-color:rgba(255, 0, 0, 0.5168636191411211);\">.</span></font></br><font size=\"5\"><span style=\"color:black; background-color:rgba(255, 255, 0, 0.6);\">1 &#10004;</span>:   <span style=\"color:black; background-color:rgba(255, 0, 0, 0.010371729529937755);\">a</span> <span style=\"color:white; background-color:rgba(255, 0, 0, 1.0);\">gorgeous</span> <span style=\"color:black; background-color:rgba(255, 0, 0, 0.05928379422211807);\">,</span> <span style=\"color:black; background-color:rgba(255, 0, 0, 0.20677671895859687);\">high-spirited</span> <span style=\"color:black; background-color:rgba(255, 0, 0, 0.0313262302543704);\">musical</span> <span style=\"color:black; background-color:rgba(0, 0, 255, 0.03104737747432414);\">from</span> <span style=\"color:black; background-color:rgba(255, 0, 0, 0.10840925544591394);\">india</span> <span style=\"color:black; background-color:rgba(255, 0, 0, 0.0019444476403934262);\">that</span> <span style=\"color:black; background-color:rgba(0, 0, 255, 0.0967112436461563);\">exquisitely</span> <span style=\"color:black; background-color:rgba(255, 0, 0, 0.07440811936495317);\">blends</span> <span style=\"color:black; background-color:rgba(0, 0, 255, 0.03972841368860704);\">music</span> <span style=\"color:black; background-color:rgba(0, 0, 255, 0.011871820465220999);\">,</span> <span style=\"color:black; background-color:rgba(0, 0, 255, 0.004460272549095989);\">dance</span> <span style=\"color:black; background-color:rgba(255, 0, 0, 0.0);\">,</span> <span style=\"color:black; background-color:rgba(0, 0, 255, 0.13652929546603793);\">song</span> <span style=\"color:black; background-color:rgba(0, 0, 255, 0.002351710260845133);\">,</span> <span style=\"color:black; background-color:rgba(255, 0, 0, 0.044732910471896904);\">and</span> <span style=\"color:black; background-color:rgba(255, 0, 0, 0.37956512584312013);\">high</span> <span style=\"color:black; background-color:rgba(0, 0, 255, 0.26151464109304795);\">drama</span> <span style=\"color:black; background-color:rgba(255, 0, 0, 0.034601053225544416);\">.</span></font></br><font size=\"5\"><span style=\"color:black; background-color:rgba(255, 255, 0, 0.6);\">1 &#10004;</span>:   <span style=\"color:black; background-color:rgba(0, 0, 255, 0.03022635609151744);\">the</span> <span style=\"color:white; background-color:rgba(255, 0, 0, 1.0);\">emotions</span> <span style=\"color:black; background-color:rgba(255, 0, 0, 0.020927278133119863);\">are</span> <span style=\"color:black; background-color:rgba(255, 0, 0, 0.4495124926683268);\">raw</span> <span style=\"color:black; background-color:rgba(255, 0, 0, 0.11365525896099694);\">and</span> <span style=\"color:black; background-color:rgba(255, 0, 0, 0.3795200275945261);\">will</span> <span style=\"color:black; background-color:rgba(0, 0, 255, 0.03605355376503725);\">strike</span> <span style=\"color:black; background-color:rgba(255, 0, 0, 0.0);\">a</span> <span style=\"color:black; background-color:rgba(0, 0, 255, 0.3057688381414074);\">nerve</span> <span style=\"color:black; background-color:rgba(255, 0, 0, 0.19838996955923163);\">with</span> <span style=\"color:black; background-color:rgba(255, 0, 0, 0.03276138630883119);\">anyone</span> <span style=\"color:black; background-color:rgba(255, 0, 0, 0.022599711256221885);\">who</span> <span style=\"color:black; background-color:rgba(255, 0, 0, 0.50341302210349);\">'s</span> <span style=\"color:black; background-color:rgba(255, 0, 0, 0.03154392298023539);\">ever</span> <span style=\"color:black; background-color:rgba(0, 0, 255, 0.041007504153308866);\">had</span> <span style=\"color:black; background-color:rgba(0, 0, 255, 0.29396567374885313);\">family</span> <span style=\"color:black; background-color:rgba(0, 0, 255, 0.8562146784157109);\">trauma</span> <span style=\"color:black; background-color:rgba(255, 0, 0, 0.0);\">.</span></font></br><font size=\"5\"><span style=\"color:black; background-color:rgba(255, 255, 0, 0.6);\">1 &#10004;</span>:   <span style=\"color:black; background-color:rgba(255, 0, 0, 0.02247068365145585);\">audrey</span> <span style=\"color:black; background-color:rgba(0, 0, 255, 0.22828218950315785);\">tatou</span> <span style=\"color:black; background-color:rgba(255, 0, 0, 0.0026044521114759658);\">has</span> <span style=\"color:black; background-color:rgba(255, 0, 0, 0.006107290964490587);\">a</span> <span style=\"color:black; background-color:rgba(255, 0, 0, 0.05343569926097329);\">knack</span> <span style=\"color:black; background-color:rgba(255, 0, 0, 0.0004722402921496595);\">for</span> <span style=\"color:black; background-color:rgba(0, 0, 255, 0.037868321775780756);\">picking</span> <span style=\"color:black; background-color:rgba(255, 0, 0, 0.09354911467042254);\">roles</span> <span style=\"color:black; background-color:rgba(255, 0, 0, 0.007449945028812188);\">that</span> <span style=\"color:black; background-color:rgba(0, 0, 255, 0.0673927235438805);\">magnify</span> <span style=\"color:black; background-color:rgba(0, 0, 255, 0.002489243747496958);\">her</span> <span style=\"color:black; background-color:rgba(255, 0, 0, 0.005034917732115448);\">outrageous</span> <span style=\"color:black; background-color:rgba(255, 0, 0, 0.06540887135296844);\">charm</span> <span style=\"color:black; background-color:rgba(255, 0, 0, 0.00506901288183572);\">,</span> <span style=\"color:black; background-color:rgba(255, 0, 0, 0.008072996956060433);\">and</span> <span style=\"color:black; background-color:rgba(0, 0, 255, 0.00010279821281662495);\">in</span> <span style=\"color:black; background-color:rgba(0, 0, 255, 0.000627691873929697);\">this</span> <span style=\"color:black; background-color:rgba(255, 0, 0, 0.05565521801093768);\">literate</span> <span style=\"color:black; background-color:rgba(0, 0, 255, 0.0025892087275508012);\">french</span> <span style=\"color:black; background-color:rgba(255, 0, 0, 0.012857461143580863);\">comedy</span> <span style=\"color:black; background-color:rgba(255, 0, 0, 0.0009730990003308113);\">,</span> <span style=\"color:black; background-color:rgba(0, 0, 255, 0.0005916285009062968);\">she</span> <span style=\"color:black; background-color:rgba(255, 0, 0, 0.06487233030218995);\">'s</span> <span style=\"color:black; background-color:rgba(255, 0, 0, 0.000786064515456825);\">as</span> <span style=\"color:black; background-color:rgba(0, 0, 255, 0.16207604328748146);\">morning-glory</span> <span style=\"color:black; background-color:rgba(255, 0, 0, 0.142153914724141);\">exuberant</span> <span style=\"color:black; background-color:rgba(255, 0, 0, 0.0);\">as</span> <span style=\"color:black; background-color:rgba(255, 0, 0, 0.0);\">she</span> <span style=\"color:black; background-color:rgba(0, 0, 255, 0.04561050904266907);\">was</span> <span style=\"color:black; background-color:rgba(255, 0, 0, 0.05902805861156166);\">in</span> <span style=\"color:white; background-color:rgba(255, 0, 0, 1.0);\">amélie</span> <span style=\"color:white; background-color:rgba(255, 0, 0, 0.8900632933087174);\">.</span></font></br><font size=\"5\"><span style=\"color:black; background-color:rgba(255, 255, 0, 0.6);\">0 &#10004;</span>:   <span style=\"color:black; background-color:rgba(255, 0, 0, 0.6992377675190018);\">...</span> <span style=\"color:black; background-color:rgba(0, 0, 255, 0.0011310888913757561);\">the</span> <span style=\"color:black; background-color:rgba(0, 0, 255, 0.06952046543779428);\">movie</span> <span style=\"color:black; background-color:rgba(255, 0, 0, 0.2331711839214948);\">is</span> <span style=\"color:black; background-color:rgba(255, 0, 0, 0.7154003465396751);\">just</span> <span style=\"color:black; background-color:rgba(0, 0, 255, 0.005352236476243926);\">a</span> <span style=\"color:white; background-color:rgba(255, 0, 0, 1.0);\">plain</span> <span style=\"color:white; background-color:rgba(255, 0, 0, 0.8277740516935477);\">old</span> <span style=\"color:white; background-color:rgba(255, 0, 0, 0.866948896161235);\">monster</span> <span style=\"color:black; background-color:rgba(255, 0, 0, 0.048381765845016134);\">.</span></font></br><font size=\"5\"><span style=\"color:black; background-color:rgba(255, 255, 0, 0.6);\">0 &#10004;</span>:   <span style=\"color:black; background-color:rgba(255, 0, 0, 0.025860677748548798);\">in</span> <span style=\"color:black; background-color:rgba(255, 0, 0, 0.011378860610918771);\">its</span> <span style=\"color:black; background-color:rgba(0, 0, 255, 0.2710263213615253);\">best</span> <span style=\"color:black; background-color:rgba(0, 0, 255, 0.1537540191436494);\">moments</span> <span style=\"color:black; background-color:rgba(0, 0, 255, 0.182100622066562);\">,</span> <span style=\"color:black; background-color:rgba(255, 0, 0, 0.35996191450958115);\">resembles</span> <span style=\"color:black; background-color:rgba(255, 0, 0, 0.013005775577701238);\">a</span> <span style=\"color:white; background-color:rgba(255, 0, 0, 1.0);\">bad</span> <span style=\"color:black; background-color:rgba(255, 0, 0, 0.061410942242839724);\">high</span> <span style=\"color:black; background-color:rgba(255, 0, 0, 0.007052930824607368);\">school</span> <span style=\"color:black; background-color:rgba(255, 0, 0, 0.00451676357292608);\">production</span> <span style=\"color:black; background-color:rgba(255, 0, 0, 0.0004743495857295441);\">of</span> <span style=\"color:black; background-color:rgba(255, 0, 0, 0.05162713929062903);\">grease</span> <span style=\"color:black; background-color:rgba(0, 0, 255, 0.02134895197714738);\">,</span> <span style=\"color:black; background-color:rgba(255, 0, 0, 0.2661164820542521);\">without</span> <span style=\"color:black; background-color:rgba(255, 0, 0, 0.0555121040916399);\">benefit</span> <span style=\"color:black; background-color:rgba(255, 0, 0, 0.03478764773808849);\">of</span> <span style=\"color:black; background-color:rgba(255, 0, 0, 0.12229287540732404);\">song</span> <span style=\"color:black; background-color:rgba(255, 0, 0, 0.04108082729187208);\">.</span></font>"
      ],
      "text/plain": [
       "<IPython.core.display.HTML object>"
      ]
     },
     "execution_count": 14,
     "metadata": {},
     "output_type": "execute_result"
    }
   ],
   "source": [
    "visualize_relevances(inputs, relevances, labels_true, labels_pred)"
   ]
  },
  {
   "cell_type": "code",
   "execution_count": null,
   "metadata": {},
   "outputs": [],
   "source": []
  }
 ],
 "metadata": {
  "kernelspec": {
   "display_name": "Python 3",
   "language": "python",
   "name": "python3"
  },
  "language_info": {
   "codemirror_mode": {
    "name": "ipython",
    "version": 3
   },
   "file_extension": ".py",
   "mimetype": "text/x-python",
   "name": "python",
   "nbconvert_exporter": "python",
   "pygments_lexer": "ipython3",
   "version": "3.6.7"
  }
 },
 "nbformat": 4,
 "nbformat_minor": 2
}
